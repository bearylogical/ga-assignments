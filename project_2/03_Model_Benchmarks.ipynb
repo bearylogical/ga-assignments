{
 "cells": [
  {
   "cell_type": "markdown",
   "metadata": {},
   "source": [
    "# 03_Model_Benchmarks"
   ]
  },
  {
   "cell_type": "markdown",
   "metadata": {},
   "source": [
    "## Import Libraries"
   ]
  },
  {
   "cell_type": "code",
   "execution_count": 329,
   "metadata": {},
   "outputs": [],
   "source": [
    "import pandas as pd\n",
    "import numpy as np\n",
    "import matplotlib.pyplot as plt\n",
    "import seaborn as sns \n",
    "\n",
    "from sklearn.preprocessing import  StandardScaler\n",
    "from sklearn.impute import SimpleImputer\n",
    "\n",
    "from sklearn.feature_selection import RFE\n",
    "from sklearn.model_selection import train_test_split, cross_val_score, KFold, GridSearchCV, RandomizedSearchCV\n",
    "from sklearn.linear_model import LinearRegression, Ridge, Lasso, ElasticNet\n",
    "\n",
    "\n",
    "from sklearn.metrics import mean_squared_error"
   ]
  },
  {
   "cell_type": "markdown",
   "metadata": {},
   "source": [
    "## Load in dataset"
   ]
  },
  {
   "cell_type": "code",
   "execution_count": 2,
   "metadata": {},
   "outputs": [],
   "source": [
    "df = pd.read_csv('./datasets/transformed_train.csv')"
   ]
  },
  {
   "cell_type": "code",
   "execution_count": 3,
   "metadata": {},
   "outputs": [],
   "source": [
    "nominal_features = ['has_remod', 'Land Contour_HLS', 'Land Contour_Low', 'Land Contour_Lvl',\n",
    "       'House Style_2Story', 'House Style_Split', 'Central Air_Y',\n",
    "       'Bedroom AbvGr_1', 'Bedroom AbvGr_2', 'Bedroom AbvGr_3',\n",
    "       'Bedroom AbvGr_>=4', 'TotRms AbvGrd_6', 'TotRms AbvGrd_7',\n",
    "       'TotRms AbvGrd_<=4', 'TotRms AbvGrd_>=8', 'Mo Sold_spring',\n",
    "       'Mo Sold_summer', 'Mo Sold_winter', 'Yr Sold_2007', 'Yr Sold_2008',\n",
    "       'Yr Sold_2009', 'Yr Sold_2010', 'total_baths_1', 'total_baths_2',\n",
    "       'total_baths_>=3']\n",
    "\n",
    "cont_features = ['lot_area_frontage', 'Mas Vnr Area', 'Total Bsmt SF',\n",
    "       'Gr Liv Area', 'Garage Area', 'outdoor_SF', 'age_since_remodel',\n",
    "       'age_since_built', 'Heating QC', 'house_exter_score', 'fireplace_score',\n",
    "       'garage_basement_score', 'kitchen_score']\n",
    "\n"
   ]
  },
  {
   "cell_type": "code",
   "execution_count": 4,
   "metadata": {},
   "outputs": [
    {
     "data": {
      "text/html": [
       "<div>\n",
       "<style scoped>\n",
       "    .dataframe tbody tr th:only-of-type {\n",
       "        vertical-align: middle;\n",
       "    }\n",
       "\n",
       "    .dataframe tbody tr th {\n",
       "        vertical-align: top;\n",
       "    }\n",
       "\n",
       "    .dataframe thead th {\n",
       "        text-align: right;\n",
       "    }\n",
       "</style>\n",
       "<table border=\"1\" class=\"dataframe\">\n",
       "  <thead>\n",
       "    <tr style=\"text-align: right;\">\n",
       "      <th></th>\n",
       "      <th>Unnamed: 0</th>\n",
       "      <th>has_remod</th>\n",
       "      <th>Land Contour_HLS</th>\n",
       "      <th>Land Contour_Low</th>\n",
       "      <th>Land Contour_Lvl</th>\n",
       "      <th>House Style_2Story</th>\n",
       "      <th>House Style_Split</th>\n",
       "      <th>Central Air_Y</th>\n",
       "      <th>Bedroom AbvGr_1</th>\n",
       "      <th>Bedroom AbvGr_2</th>\n",
       "      <th>...</th>\n",
       "      <th>Garage Area</th>\n",
       "      <th>outdoor_SF</th>\n",
       "      <th>age_since_remodel</th>\n",
       "      <th>age_since_built</th>\n",
       "      <th>Heating QC</th>\n",
       "      <th>house_exter_score</th>\n",
       "      <th>fireplace_score</th>\n",
       "      <th>garage_basement_score</th>\n",
       "      <th>kitchen_score</th>\n",
       "      <th>SalePrice</th>\n",
       "    </tr>\n",
       "  </thead>\n",
       "  <tbody>\n",
       "    <tr>\n",
       "      <th>0</th>\n",
       "      <td>0</td>\n",
       "      <td>1</td>\n",
       "      <td>0</td>\n",
       "      <td>0</td>\n",
       "      <td>1</td>\n",
       "      <td>1</td>\n",
       "      <td>0</td>\n",
       "      <td>1</td>\n",
       "      <td>0</td>\n",
       "      <td>0</td>\n",
       "      <td>...</td>\n",
       "      <td>475.0</td>\n",
       "      <td>44</td>\n",
       "      <td>5</td>\n",
       "      <td>34</td>\n",
       "      <td>5</td>\n",
       "      <td>98</td>\n",
       "      <td>0</td>\n",
       "      <td>0.00</td>\n",
       "      <td>4</td>\n",
       "      <td>130500</td>\n",
       "    </tr>\n",
       "    <tr>\n",
       "      <th>1</th>\n",
       "      <td>1</td>\n",
       "      <td>1</td>\n",
       "      <td>0</td>\n",
       "      <td>0</td>\n",
       "      <td>1</td>\n",
       "      <td>1</td>\n",
       "      <td>0</td>\n",
       "      <td>1</td>\n",
       "      <td>0</td>\n",
       "      <td>0</td>\n",
       "      <td>...</td>\n",
       "      <td>559.0</td>\n",
       "      <td>74</td>\n",
       "      <td>12</td>\n",
       "      <td>13</td>\n",
       "      <td>5</td>\n",
       "      <td>84</td>\n",
       "      <td>3</td>\n",
       "      <td>0.00</td>\n",
       "      <td>4</td>\n",
       "      <td>220000</td>\n",
       "    </tr>\n",
       "    <tr>\n",
       "      <th>2</th>\n",
       "      <td>2</td>\n",
       "      <td>1</td>\n",
       "      <td>0</td>\n",
       "      <td>0</td>\n",
       "      <td>1</td>\n",
       "      <td>0</td>\n",
       "      <td>0</td>\n",
       "      <td>1</td>\n",
       "      <td>0</td>\n",
       "      <td>0</td>\n",
       "      <td>...</td>\n",
       "      <td>246.0</td>\n",
       "      <td>52</td>\n",
       "      <td>3</td>\n",
       "      <td>57</td>\n",
       "      <td>3</td>\n",
       "      <td>84</td>\n",
       "      <td>0</td>\n",
       "      <td>49.00</td>\n",
       "      <td>4</td>\n",
       "      <td>109000</td>\n",
       "    </tr>\n",
       "    <tr>\n",
       "      <th>3</th>\n",
       "      <td>3</td>\n",
       "      <td>1</td>\n",
       "      <td>0</td>\n",
       "      <td>0</td>\n",
       "      <td>1</td>\n",
       "      <td>1</td>\n",
       "      <td>0</td>\n",
       "      <td>1</td>\n",
       "      <td>0</td>\n",
       "      <td>0</td>\n",
       "      <td>...</td>\n",
       "      <td>400.0</td>\n",
       "      <td>100</td>\n",
       "      <td>3</td>\n",
       "      <td>4</td>\n",
       "      <td>4</td>\n",
       "      <td>60</td>\n",
       "      <td>0</td>\n",
       "      <td>20.25</td>\n",
       "      <td>3</td>\n",
       "      <td>174000</td>\n",
       "    </tr>\n",
       "    <tr>\n",
       "      <th>4</th>\n",
       "      <td>4</td>\n",
       "      <td>1</td>\n",
       "      <td>0</td>\n",
       "      <td>0</td>\n",
       "      <td>1</td>\n",
       "      <td>0</td>\n",
       "      <td>0</td>\n",
       "      <td>1</td>\n",
       "      <td>0</td>\n",
       "      <td>0</td>\n",
       "      <td>...</td>\n",
       "      <td>484.0</td>\n",
       "      <td>59</td>\n",
       "      <td>17</td>\n",
       "      <td>110</td>\n",
       "      <td>3</td>\n",
       "      <td>84</td>\n",
       "      <td>0</td>\n",
       "      <td>12.25</td>\n",
       "      <td>3</td>\n",
       "      <td>138500</td>\n",
       "    </tr>\n",
       "  </tbody>\n",
       "</table>\n",
       "<p>5 rows × 40 columns</p>\n",
       "</div>"
      ],
      "text/plain": [
       "   Unnamed: 0  has_remod  Land Contour_HLS  Land Contour_Low  \\\n",
       "0           0          1                 0                 0   \n",
       "1           1          1                 0                 0   \n",
       "2           2          1                 0                 0   \n",
       "3           3          1                 0                 0   \n",
       "4           4          1                 0                 0   \n",
       "\n",
       "   Land Contour_Lvl  House Style_2Story  House Style_Split  Central Air_Y  \\\n",
       "0                 1                   1                  0              1   \n",
       "1                 1                   1                  0              1   \n",
       "2                 1                   0                  0              1   \n",
       "3                 1                   1                  0              1   \n",
       "4                 1                   0                  0              1   \n",
       "\n",
       "   Bedroom AbvGr_1  Bedroom AbvGr_2  ...  Garage Area  outdoor_SF  \\\n",
       "0                0                0  ...        475.0          44   \n",
       "1                0                0  ...        559.0          74   \n",
       "2                0                0  ...        246.0          52   \n",
       "3                0                0  ...        400.0         100   \n",
       "4                0                0  ...        484.0          59   \n",
       "\n",
       "   age_since_remodel  age_since_built  Heating QC  house_exter_score  \\\n",
       "0                  5               34           5                 98   \n",
       "1                 12               13           5                 84   \n",
       "2                  3               57           3                 84   \n",
       "3                  3                4           4                 60   \n",
       "4                 17              110           3                 84   \n",
       "\n",
       "   fireplace_score  garage_basement_score  kitchen_score  SalePrice  \n",
       "0                0                   0.00              4     130500  \n",
       "1                3                   0.00              4     220000  \n",
       "2                0                  49.00              4     109000  \n",
       "3                0                  20.25              3     174000  \n",
       "4                0                  12.25              3     138500  \n",
       "\n",
       "[5 rows x 40 columns]"
      ]
     },
     "execution_count": 4,
     "metadata": {},
     "output_type": "execute_result"
    }
   ],
   "source": [
    "df.head()"
   ]
  },
  {
   "cell_type": "code",
   "execution_count": 5,
   "metadata": {},
   "outputs": [],
   "source": [
    "# drop unnamed\n",
    "df.drop(columns=['Unnamed: 0'],inplace=True)"
   ]
  },
  {
   "cell_type": "code",
   "execution_count": 6,
   "metadata": {},
   "outputs": [],
   "source": [
    "y = df['SalePrice']\n",
    "features = [col for col in df.columns if col != 'SalePrice']\n",
    "X = df[features]"
   ]
  },
  {
   "cell_type": "markdown",
   "metadata": {},
   "source": [
    "# Train Test Split"
   ]
  },
  {
   "cell_type": "code",
   "execution_count": 7,
   "metadata": {},
   "outputs": [
    {
     "data": {
      "text/plain": [
       "lot_area_frontage    330\n",
       "Mas Vnr Area          22\n",
       "Total Bsmt SF          1\n",
       "Garage Area            1\n",
       "TotRms AbvGrd_>=8      0\n",
       "dtype: int64"
      ]
     },
     "execution_count": 7,
     "metadata": {},
     "output_type": "execute_result"
    }
   ],
   "source": [
    "X.isnull().sum().sort_values(ascending=False).head()"
   ]
  },
  {
   "cell_type": "code",
   "execution_count": 8,
   "metadata": {},
   "outputs": [],
   "source": [
    "# generate new test and train data\n",
    "\n",
    "x_train,x_test,y_train,y_test = train_test_split(X,y,test_size=0.3,random_state=42)"
   ]
  },
  {
   "cell_type": "code",
   "execution_count": 9,
   "metadata": {},
   "outputs": [],
   "source": [
    "x_train.reset_index(drop=True,inplace=True)\n",
    "x_test.reset_index(drop=True,inplace=True)"
   ]
  },
  {
   "cell_type": "code",
   "execution_count": 10,
   "metadata": {},
   "outputs": [
    {
     "data": {
      "text/html": [
       "<div>\n",
       "<style scoped>\n",
       "    .dataframe tbody tr th:only-of-type {\n",
       "        vertical-align: middle;\n",
       "    }\n",
       "\n",
       "    .dataframe tbody tr th {\n",
       "        vertical-align: top;\n",
       "    }\n",
       "\n",
       "    .dataframe thead th {\n",
       "        text-align: right;\n",
       "    }\n",
       "</style>\n",
       "<table border=\"1\" class=\"dataframe\">\n",
       "  <thead>\n",
       "    <tr style=\"text-align: right;\">\n",
       "      <th></th>\n",
       "      <th>has_remod</th>\n",
       "      <th>Land Contour_HLS</th>\n",
       "      <th>Land Contour_Low</th>\n",
       "      <th>Land Contour_Lvl</th>\n",
       "      <th>House Style_2Story</th>\n",
       "      <th>House Style_Split</th>\n",
       "      <th>Central Air_Y</th>\n",
       "      <th>Bedroom AbvGr_1</th>\n",
       "      <th>Bedroom AbvGr_2</th>\n",
       "      <th>Bedroom AbvGr_3</th>\n",
       "      <th>...</th>\n",
       "      <th>Gr Liv Area</th>\n",
       "      <th>Garage Area</th>\n",
       "      <th>outdoor_SF</th>\n",
       "      <th>age_since_remodel</th>\n",
       "      <th>age_since_built</th>\n",
       "      <th>Heating QC</th>\n",
       "      <th>house_exter_score</th>\n",
       "      <th>fireplace_score</th>\n",
       "      <th>garage_basement_score</th>\n",
       "      <th>kitchen_score</th>\n",
       "    </tr>\n",
       "  </thead>\n",
       "  <tbody>\n",
       "    <tr>\n",
       "      <th>count</th>\n",
       "      <td>1435.000000</td>\n",
       "      <td>1435.000000</td>\n",
       "      <td>1435.000000</td>\n",
       "      <td>1435.000000</td>\n",
       "      <td>1435.000000</td>\n",
       "      <td>1435.000000</td>\n",
       "      <td>1435.000000</td>\n",
       "      <td>1435.000000</td>\n",
       "      <td>1435.000000</td>\n",
       "      <td>1435.000000</td>\n",
       "      <td>...</td>\n",
       "      <td>1435.000000</td>\n",
       "      <td>1435.000000</td>\n",
       "      <td>1435.000000</td>\n",
       "      <td>1435.000000</td>\n",
       "      <td>1435.000000</td>\n",
       "      <td>1435.000000</td>\n",
       "      <td>1435.000000</td>\n",
       "      <td>1435.000000</td>\n",
       "      <td>1435.000000</td>\n",
       "      <td>1435.000000</td>\n",
       "    </tr>\n",
       "    <tr>\n",
       "      <th>mean</th>\n",
       "      <td>0.452962</td>\n",
       "      <td>0.043902</td>\n",
       "      <td>0.020906</td>\n",
       "      <td>0.895470</td>\n",
       "      <td>0.298955</td>\n",
       "      <td>0.066899</td>\n",
       "      <td>0.933101</td>\n",
       "      <td>0.037631</td>\n",
       "      <td>0.268990</td>\n",
       "      <td>0.539373</td>\n",
       "      <td>...</td>\n",
       "      <td>1493.616725</td>\n",
       "      <td>473.314286</td>\n",
       "      <td>158.942857</td>\n",
       "      <td>23.665505</td>\n",
       "      <td>35.892683</td>\n",
       "      <td>4.131707</td>\n",
       "      <td>76.227178</td>\n",
       "      <td>1.982578</td>\n",
       "      <td>16.799369</td>\n",
       "      <td>3.627875</td>\n",
       "    </tr>\n",
       "    <tr>\n",
       "      <th>std</th>\n",
       "      <td>0.497956</td>\n",
       "      <td>0.204949</td>\n",
       "      <td>0.143119</td>\n",
       "      <td>0.306053</td>\n",
       "      <td>0.457960</td>\n",
       "      <td>0.249934</td>\n",
       "      <td>0.249934</td>\n",
       "      <td>0.190368</td>\n",
       "      <td>0.443589</td>\n",
       "      <td>0.498621</td>\n",
       "      <td>...</td>\n",
       "      <td>509.845159</td>\n",
       "      <td>217.657183</td>\n",
       "      <td>154.516187</td>\n",
       "      <td>20.938667</td>\n",
       "      <td>30.144347</td>\n",
       "      <td>0.976040</td>\n",
       "      <td>17.389418</td>\n",
       "      <td>2.269893</td>\n",
       "      <td>19.526721</td>\n",
       "      <td>0.829749</td>\n",
       "    </tr>\n",
       "    <tr>\n",
       "      <th>min</th>\n",
       "      <td>0.000000</td>\n",
       "      <td>0.000000</td>\n",
       "      <td>0.000000</td>\n",
       "      <td>0.000000</td>\n",
       "      <td>0.000000</td>\n",
       "      <td>0.000000</td>\n",
       "      <td>0.000000</td>\n",
       "      <td>0.000000</td>\n",
       "      <td>0.000000</td>\n",
       "      <td>0.000000</td>\n",
       "      <td>...</td>\n",
       "      <td>334.000000</td>\n",
       "      <td>0.000000</td>\n",
       "      <td>0.000000</td>\n",
       "      <td>0.000000</td>\n",
       "      <td>0.000000</td>\n",
       "      <td>1.000000</td>\n",
       "      <td>8.000000</td>\n",
       "      <td>0.000000</td>\n",
       "      <td>0.000000</td>\n",
       "      <td>0.000000</td>\n",
       "    </tr>\n",
       "    <tr>\n",
       "      <th>25%</th>\n",
       "      <td>0.000000</td>\n",
       "      <td>0.000000</td>\n",
       "      <td>0.000000</td>\n",
       "      <td>1.000000</td>\n",
       "      <td>0.000000</td>\n",
       "      <td>0.000000</td>\n",
       "      <td>1.000000</td>\n",
       "      <td>0.000000</td>\n",
       "      <td>0.000000</td>\n",
       "      <td>0.000000</td>\n",
       "      <td>...</td>\n",
       "      <td>1125.000000</td>\n",
       "      <td>312.500000</td>\n",
       "      <td>25.000000</td>\n",
       "      <td>4.000000</td>\n",
       "      <td>7.000000</td>\n",
       "      <td>3.000000</td>\n",
       "      <td>66.000000</td>\n",
       "      <td>0.000000</td>\n",
       "      <td>0.000000</td>\n",
       "      <td>3.000000</td>\n",
       "    </tr>\n",
       "    <tr>\n",
       "      <th>50%</th>\n",
       "      <td>0.000000</td>\n",
       "      <td>0.000000</td>\n",
       "      <td>0.000000</td>\n",
       "      <td>1.000000</td>\n",
       "      <td>0.000000</td>\n",
       "      <td>0.000000</td>\n",
       "      <td>1.000000</td>\n",
       "      <td>0.000000</td>\n",
       "      <td>0.000000</td>\n",
       "      <td>1.000000</td>\n",
       "      <td>...</td>\n",
       "      <td>1432.000000</td>\n",
       "      <td>478.000000</td>\n",
       "      <td>140.000000</td>\n",
       "      <td>16.000000</td>\n",
       "      <td>33.000000</td>\n",
       "      <td>5.000000</td>\n",
       "      <td>77.000000</td>\n",
       "      <td>1.000000</td>\n",
       "      <td>12.250000</td>\n",
       "      <td>4.000000</td>\n",
       "    </tr>\n",
       "    <tr>\n",
       "      <th>75%</th>\n",
       "      <td>1.000000</td>\n",
       "      <td>0.000000</td>\n",
       "      <td>0.000000</td>\n",
       "      <td>1.000000</td>\n",
       "      <td>1.000000</td>\n",
       "      <td>0.000000</td>\n",
       "      <td>1.000000</td>\n",
       "      <td>0.000000</td>\n",
       "      <td>1.000000</td>\n",
       "      <td>1.000000</td>\n",
       "      <td>...</td>\n",
       "      <td>1718.500000</td>\n",
       "      <td>577.000000</td>\n",
       "      <td>244.000000</td>\n",
       "      <td>44.000000</td>\n",
       "      <td>54.000000</td>\n",
       "      <td>5.000000</td>\n",
       "      <td>84.000000</td>\n",
       "      <td>4.000000</td>\n",
       "      <td>20.250000</td>\n",
       "      <td>4.000000</td>\n",
       "    </tr>\n",
       "    <tr>\n",
       "      <th>max</th>\n",
       "      <td>1.000000</td>\n",
       "      <td>1.000000</td>\n",
       "      <td>1.000000</td>\n",
       "      <td>1.000000</td>\n",
       "      <td>1.000000</td>\n",
       "      <td>1.000000</td>\n",
       "      <td>1.000000</td>\n",
       "      <td>1.000000</td>\n",
       "      <td>1.000000</td>\n",
       "      <td>1.000000</td>\n",
       "      <td>...</td>\n",
       "      <td>5642.000000</td>\n",
       "      <td>1418.000000</td>\n",
       "      <td>1166.000000</td>\n",
       "      <td>60.000000</td>\n",
       "      <td>136.000000</td>\n",
       "      <td>5.000000</td>\n",
       "      <td>190.000000</td>\n",
       "      <td>12.000000</td>\n",
       "      <td>169.000000</td>\n",
       "      <td>9.000000</td>\n",
       "    </tr>\n",
       "  </tbody>\n",
       "</table>\n",
       "<p>8 rows × 38 columns</p>\n",
       "</div>"
      ],
      "text/plain": [
       "         has_remod  Land Contour_HLS  Land Contour_Low  Land Contour_Lvl  \\\n",
       "count  1435.000000       1435.000000       1435.000000       1435.000000   \n",
       "mean      0.452962          0.043902          0.020906          0.895470   \n",
       "std       0.497956          0.204949          0.143119          0.306053   \n",
       "min       0.000000          0.000000          0.000000          0.000000   \n",
       "25%       0.000000          0.000000          0.000000          1.000000   \n",
       "50%       0.000000          0.000000          0.000000          1.000000   \n",
       "75%       1.000000          0.000000          0.000000          1.000000   \n",
       "max       1.000000          1.000000          1.000000          1.000000   \n",
       "\n",
       "       House Style_2Story  House Style_Split  Central Air_Y  Bedroom AbvGr_1  \\\n",
       "count         1435.000000        1435.000000    1435.000000      1435.000000   \n",
       "mean             0.298955           0.066899       0.933101         0.037631   \n",
       "std              0.457960           0.249934       0.249934         0.190368   \n",
       "min              0.000000           0.000000       0.000000         0.000000   \n",
       "25%              0.000000           0.000000       1.000000         0.000000   \n",
       "50%              0.000000           0.000000       1.000000         0.000000   \n",
       "75%              1.000000           0.000000       1.000000         0.000000   \n",
       "max              1.000000           1.000000       1.000000         1.000000   \n",
       "\n",
       "       Bedroom AbvGr_2  Bedroom AbvGr_3  ...  Gr Liv Area  Garage Area  \\\n",
       "count      1435.000000      1435.000000  ...  1435.000000  1435.000000   \n",
       "mean          0.268990         0.539373  ...  1493.616725   473.314286   \n",
       "std           0.443589         0.498621  ...   509.845159   217.657183   \n",
       "min           0.000000         0.000000  ...   334.000000     0.000000   \n",
       "25%           0.000000         0.000000  ...  1125.000000   312.500000   \n",
       "50%           0.000000         1.000000  ...  1432.000000   478.000000   \n",
       "75%           1.000000         1.000000  ...  1718.500000   577.000000   \n",
       "max           1.000000         1.000000  ...  5642.000000  1418.000000   \n",
       "\n",
       "        outdoor_SF  age_since_remodel  age_since_built   Heating QC  \\\n",
       "count  1435.000000        1435.000000      1435.000000  1435.000000   \n",
       "mean    158.942857          23.665505        35.892683     4.131707   \n",
       "std     154.516187          20.938667        30.144347     0.976040   \n",
       "min       0.000000           0.000000         0.000000     1.000000   \n",
       "25%      25.000000           4.000000         7.000000     3.000000   \n",
       "50%     140.000000          16.000000        33.000000     5.000000   \n",
       "75%     244.000000          44.000000        54.000000     5.000000   \n",
       "max    1166.000000          60.000000       136.000000     5.000000   \n",
       "\n",
       "       house_exter_score  fireplace_score  garage_basement_score  \\\n",
       "count        1435.000000      1435.000000            1435.000000   \n",
       "mean           76.227178         1.982578              16.799369   \n",
       "std            17.389418         2.269893              19.526721   \n",
       "min             8.000000         0.000000               0.000000   \n",
       "25%            66.000000         0.000000               0.000000   \n",
       "50%            77.000000         1.000000              12.250000   \n",
       "75%            84.000000         4.000000              20.250000   \n",
       "max           190.000000        12.000000             169.000000   \n",
       "\n",
       "       kitchen_score  \n",
       "count    1435.000000  \n",
       "mean        3.627875  \n",
       "std         0.829749  \n",
       "min         0.000000  \n",
       "25%         3.000000  \n",
       "50%         4.000000  \n",
       "75%         4.000000  \n",
       "max         9.000000  \n",
       "\n",
       "[8 rows x 38 columns]"
      ]
     },
     "execution_count": 10,
     "metadata": {},
     "output_type": "execute_result"
    }
   ],
   "source": [
    "x_train.describe()"
   ]
  },
  {
   "cell_type": "code",
   "execution_count": 11,
   "metadata": {},
   "outputs": [],
   "source": [
    "si = SimpleImputer(missing_values=np.nan,strategy='median')\n",
    "x_train_imputed = si.fit_transform(x_train[features])\n",
    "x_test_imputed = si.transform(x_test[features])"
   ]
  },
  {
   "cell_type": "code",
   "execution_count": 12,
   "metadata": {},
   "outputs": [],
   "source": [
    "x_train_imputed = pd.DataFrame(x_train_imputed,columns=features).copy()\n",
    "x_test_imputed = pd.DataFrame(x_test_imputed,columns=features).copy()"
   ]
  },
  {
   "cell_type": "code",
   "execution_count": 13,
   "metadata": {},
   "outputs": [],
   "source": [
    "# scale only numerical variables\n",
    "\n",
    "x_train_scaled_numerical = x_train_imputed[cont_features].copy()\n",
    "x_test_scaled_numerical = x_test_imputed[cont_features].copy()"
   ]
  },
  {
   "cell_type": "code",
   "execution_count": 14,
   "metadata": {},
   "outputs": [],
   "source": [
    "ss = StandardScaler()\n",
    "x_train_scaled_numerical = ss.fit_transform(x_train_scaled_numerical)\n",
    "x_test_scaled_numerical = ss.transform(x_test_scaled_numerical)"
   ]
  },
  {
   "cell_type": "code",
   "execution_count": 15,
   "metadata": {},
   "outputs": [],
   "source": [
    "x_train_scaled_numerical = pd.DataFrame(x_train_scaled_numerical,columns=cont_features).copy()\n",
    "x_test_scaled_numerical = pd.DataFrame(x_test_scaled_numerical,columns=cont_features).copy()"
   ]
  },
  {
   "cell_type": "code",
   "execution_count": 18,
   "metadata": {},
   "outputs": [],
   "source": [
    "x_train_transformed = x_train_scaled_numerical.join(x_train[nominal_features])\n",
    "x_test_transformed = x_test_scaled_numerical.join(x_test[nominal_features])"
   ]
  },
  {
   "cell_type": "markdown",
   "metadata": {},
   "source": [
    "### Create Standardised Functions"
   ]
  },
  {
   "cell_type": "code",
   "execution_count": 30,
   "metadata": {},
   "outputs": [],
   "source": [
    "def draw_plot(predicted_y,target_y):\n",
    "    \n",
    "    ax = sns.regplot(x=predicted_y,y=target_y)\n",
    "    ax.set(xlabel='predicted y', ylabel='ground truth')\n",
    "    plt.show()"
   ]
  },
  {
   "cell_type": "code",
   "execution_count": 215,
   "metadata": {},
   "outputs": [],
   "source": [
    "def metrics_printout(estimator,x_test=None,y_test=None,y_predict=None):\n",
    "    \n",
    "    \n",
    "    print(\"R2 Correlation Score :{}\".format(estimator.score(x_test,y_test)))\n",
    "#     print(\"Number of Coefficients : {}\".format(estimator.coef_.shape))\n",
    "    \n",
    "    print(\"RMSE is : {}\".format(np.sqrt(mean_squared_error(y_test,y_predict))))\n"
   ]
  },
  {
   "cell_type": "code",
   "execution_count": 140,
   "metadata": {},
   "outputs": [],
   "source": [
    "def estimator_scaled_coefficients(estimator,column_names):\n",
    "    coefficients = estimator.coef_\n",
    "    \n",
    "    s = StandardScaler()\n",
    "    trnsfrm_coef = s.fit_transform(coefficients.reshape(-1,1))\n",
    "    \n",
    "    coef_dict = pd.DataFrame(zip(column_names,trnsfrm_coef.reshape(1,-1)[0]),columns=['feature','coefficient'])\n",
    "    \n",
    "    \n",
    "    return coef_dict"
   ]
  },
  {
   "cell_type": "markdown",
   "metadata": {},
   "source": [
    "## Linear Model "
   ]
  },
  {
   "cell_type": "code",
   "execution_count": 20,
   "metadata": {},
   "outputs": [],
   "source": [
    "lr = LinearRegression()"
   ]
  },
  {
   "cell_type": "code",
   "execution_count": 22,
   "metadata": {},
   "outputs": [],
   "source": [
    "benchmark = lr.fit(x_train_transformed,y_train)"
   ]
  },
  {
   "cell_type": "code",
   "execution_count": 26,
   "metadata": {},
   "outputs": [],
   "source": [
    "y_predicted_benchmark = lr.predict(x_test_transformed)"
   ]
  },
  {
   "cell_type": "code",
   "execution_count": 29,
   "metadata": {},
   "outputs": [
    {
     "name": "stdout",
     "output_type": "stream",
     "text": [
      "R2 Correlation Score :0.8483097680645612\n",
      "Number of Coefficients : (38,)\n",
      "RMSE is : 30111.746640758833\n"
     ]
    }
   ],
   "source": [
    "metrics_printout(benchmark,x_test_transformed,y_test,y_predicted_benchmark)"
   ]
  },
  {
   "cell_type": "code",
   "execution_count": 33,
   "metadata": {},
   "outputs": [
    {
     "data": {
      "image/png": "[encoded data removed]",
      "text/plain": [
       "<Figure size 432x288 with 1 Axes>"
      ]
     },
     "metadata": {
      "needs_background": "light"
     },
     "output_type": "display_data"
    }
   ],
   "source": [
    "draw_plot(y_predicted_benchmark,y_test)"
   ]
  },
  {
   "cell_type": "code",
   "execution_count": 141,
   "metadata": {},
   "outputs": [
    {
     "data": {
      "text/html": [
       "<div>\n",
       "<style scoped>\n",
       "    .dataframe tbody tr th:only-of-type {\n",
       "        vertical-align: middle;\n",
       "    }\n",
       "\n",
       "    .dataframe tbody tr th {\n",
       "        vertical-align: top;\n",
       "    }\n",
       "\n",
       "    .dataframe thead th {\n",
       "        text-align: right;\n",
       "    }\n",
       "</style>\n",
       "<table border=\"1\" class=\"dataframe\">\n",
       "  <thead>\n",
       "    <tr style=\"text-align: right;\">\n",
       "      <th></th>\n",
       "      <th>feature</th>\n",
       "      <th>coefficient</th>\n",
       "    </tr>\n",
       "  </thead>\n",
       "  <tbody>\n",
       "    <tr>\n",
       "      <th>22</th>\n",
       "      <td>Bedroom AbvGr_3</td>\n",
       "      <td>-2.388356</td>\n",
       "    </tr>\n",
       "    <tr>\n",
       "      <th>21</th>\n",
       "      <td>Bedroom AbvGr_2</td>\n",
       "      <td>-2.354578</td>\n",
       "    </tr>\n",
       "    <tr>\n",
       "      <th>23</th>\n",
       "      <td>Bedroom AbvGr_&gt;=4</td>\n",
       "      <td>-2.073876</td>\n",
       "    </tr>\n",
       "    <tr>\n",
       "      <th>20</th>\n",
       "      <td>Bedroom AbvGr_1</td>\n",
       "      <td>-1.752250</td>\n",
       "    </tr>\n",
       "    <tr>\n",
       "      <th>7</th>\n",
       "      <td>age_since_built</td>\n",
       "      <td>-0.884442</td>\n",
       "    </tr>\n",
       "  </tbody>\n",
       "</table>\n",
       "</div>"
      ],
      "text/plain": [
       "              feature  coefficient\n",
       "22    Bedroom AbvGr_3    -2.388356\n",
       "21    Bedroom AbvGr_2    -2.354578\n",
       "23  Bedroom AbvGr_>=4    -2.073876\n",
       "20    Bedroom AbvGr_1    -1.752250\n",
       "7     age_since_built    -0.884442"
      ]
     },
     "execution_count": 141,
     "metadata": {},
     "output_type": "execute_result"
    }
   ],
   "source": [
    "estimator_scaled_coefficients(benchmark,x_test_transformed.columns).sort_values(by='coefficient').head()"
   ]
  },
  {
   "cell_type": "markdown",
   "metadata": {},
   "source": [
    "## Linear Model with Cross Validation"
   ]
  },
  {
   "cell_type": "code",
   "execution_count": 35,
   "metadata": {},
   "outputs": [
    {
     "data": {
      "text/plain": [
       "0.7451742322295176"
      ]
     },
     "execution_count": 35,
     "metadata": {},
     "output_type": "execute_result"
    }
   ],
   "source": [
    "kf = KFold(n_splits=5, shuffle=True, random_state=42)\n",
    "cross_val_score(lr, x_train_transformed, y_train, cv=kf).mean()"
   ]
  },
  {
   "cell_type": "markdown",
   "metadata": {},
   "source": [
    "## Regularisation - Ridge"
   ]
  },
  {
   "cell_type": "code",
   "execution_count": 415,
   "metadata": {},
   "outputs": [],
   "source": [
    "ridge_model = Ridge()\n"
   ]
  },
  {
   "cell_type": "code",
   "execution_count": 416,
   "metadata": {},
   "outputs": [],
   "source": [
    "ridge_baseline = ridge_model.fit(x_train_transformed,y_train)"
   ]
  },
  {
   "cell_type": "code",
   "execution_count": 417,
   "metadata": {},
   "outputs": [],
   "source": [
    "y_predict_ridge_baseline = ridge_baseline.predict(x_test_transformed)"
   ]
  },
  {
   "cell_type": "code",
   "execution_count": 418,
   "metadata": {},
   "outputs": [
    {
     "name": "stdout",
     "output_type": "stream",
     "text": [
      "R2 Correlation Score :0.8492224168730136\n",
      "RMSE is : 30021.025867575314\n"
     ]
    }
   ],
   "source": [
    "metrics_printout(ridge_baseline,x_test_transformed,y_test,y_predict_ridge_baseline)"
   ]
  },
  {
   "cell_type": "code",
   "execution_count": 419,
   "metadata": {},
   "outputs": [
    {
     "data": {
      "image/png": "[encoded data removed]",
      "text/plain": [
       "<Figure size 432x288 with 1 Axes>"
      ]
     },
     "metadata": {
      "needs_background": "light"
     },
     "output_type": "display_data"
    }
   ],
   "source": [
    "draw_plot(y_predict_ridge_baseline,y_test)"
   ]
  },
  {
   "cell_type": "markdown",
   "metadata": {},
   "source": [
    "We will use hyperparamter optimisation in the form of `RandomizedSearchCV` for all the estimators"
   ]
  },
  {
   "cell_type": "code",
   "execution_count": 319,
   "metadata": {},
   "outputs": [],
   "source": [
    "r_alphas = np.logspace(0, 20, 1000)"
   ]
  },
  {
   "cell_type": "code",
   "execution_count": 320,
   "metadata": {},
   "outputs": [],
   "source": [
    "params = {\n",
    "    'alpha':r_alphas\n",
    "}"
   ]
  },
  {
   "cell_type": "code",
   "execution_count": 321,
   "metadata": {},
   "outputs": [],
   "source": [
    "random_search_ridge = RandomizedSearchCV(estimator=ridge_model, param_distributions=params,cv=5,n_iter=50)"
   ]
  },
  {
   "cell_type": "code",
   "execution_count": 322,
   "metadata": {},
   "outputs": [],
   "source": [
    "ridge_search = random_search_ridge.fit(x_train_transformed,y_train)"
   ]
  },
  {
   "cell_type": "code",
   "execution_count": 323,
   "metadata": {},
   "outputs": [
    {
     "data": {
      "text/plain": [
       "0.7594142521894662"
      ]
     },
     "execution_count": 323,
     "metadata": {},
     "output_type": "execute_result"
    }
   ],
   "source": [
    "ridge_search.best_score_"
   ]
  },
  {
   "cell_type": "code",
   "execution_count": 324,
   "metadata": {},
   "outputs": [],
   "source": [
    "best_alpha = ridge_search.best_params_['alpha']"
   ]
  },
  {
   "cell_type": "markdown",
   "metadata": {},
   "source": [
    "Get coefficients for particular alpha in ridge"
   ]
  },
  {
   "cell_type": "code",
   "execution_count": 325,
   "metadata": {},
   "outputs": [],
   "source": [
    "ridge_run = Ridge(alpha=best_alpha)"
   ]
  },
  {
   "cell_type": "code",
   "execution_count": 326,
   "metadata": {},
   "outputs": [],
   "source": [
    "ridge_result = ridge_run.fit(x_train_transformed,y_train)"
   ]
  },
  {
   "cell_type": "code",
   "execution_count": 327,
   "metadata": {},
   "outputs": [],
   "source": [
    "y_predict_ridge = ridge_result.predict(x_test_transformed)"
   ]
  },
  {
   "cell_type": "code",
   "execution_count": 328,
   "metadata": {},
   "outputs": [
    {
     "name": "stdout",
     "output_type": "stream",
     "text": [
      "R2 Correlation Score :0.8497365831766395\n",
      "RMSE is : 29969.794837527148\n"
     ]
    }
   ],
   "source": [
    "metrics_printout(ridge_result,x_test_transformed,y_test,y_predict_ridge)"
   ]
  },
  {
   "cell_type": "code",
   "execution_count": 268,
   "metadata": {},
   "outputs": [
    {
     "data": {
      "image/png": "[encoded data removed]",
      "text/plain": [
       "<Figure size 432x288 with 1 Axes>"
      ]
     },
     "metadata": {
      "needs_background": "light"
     },
     "output_type": "display_data"
    }
   ],
   "source": [
    "draw_plot(y_predict_ridge,y_test)"
   ]
  },
  {
   "cell_type": "markdown",
   "metadata": {},
   "source": [
    "## Regularisation - Lasso"
   ]
  },
  {
   "cell_type": "code",
   "execution_count": 355,
   "metadata": {},
   "outputs": [],
   "source": [
    "lm = Lasso(max_iter = 10000, tol=0.00001)\n"
   ]
  },
  {
   "cell_type": "code",
   "execution_count": 356,
   "metadata": {},
   "outputs": [],
   "source": [
    "l_alphas = np.linspace(0.001, 0.5, 10000)"
   ]
  },
  {
   "cell_type": "code",
   "execution_count": 357,
   "metadata": {},
   "outputs": [],
   "source": [
    "params = {\n",
    "    'alpha':l_alphas\n",
    "}"
   ]
  },
  {
   "cell_type": "code",
   "execution_count": 358,
   "metadata": {},
   "outputs": [],
   "source": [
    "random_search_lasso = RandomizedSearchCV(estimator=lm, param_distributions=params,cv=5,n_iter=50)"
   ]
  },
  {
   "cell_type": "code",
   "execution_count": 359,
   "metadata": {},
   "outputs": [],
   "source": [
    "lasso_search = random_search_lasso.fit(x_train_transformed,y_train)"
   ]
  },
  {
   "cell_type": "code",
   "execution_count": 360,
   "metadata": {},
   "outputs": [
    {
     "data": {
      "text/plain": [
       "0.7597634065035623"
      ]
     },
     "execution_count": 360,
     "metadata": {},
     "output_type": "execute_result"
    }
   ],
   "source": [
    "lasso_search.best_score_"
   ]
  },
  {
   "cell_type": "code",
   "execution_count": 363,
   "metadata": {},
   "outputs": [],
   "source": [
    "best_alpha_lasso= lasso_search.best_params_['alpha']"
   ]
  },
  {
   "cell_type": "code",
   "execution_count": 364,
   "metadata": {},
   "outputs": [],
   "source": [
    "lasso_run = Lasso(alpha=best_alpha_lasso,max_iter = 10000, tol=0.0001)"
   ]
  },
  {
   "cell_type": "code",
   "execution_count": 365,
   "metadata": {},
   "outputs": [],
   "source": [
    "lasso_result = lasso_run.fit(x_train_transformed,y_train)"
   ]
  },
  {
   "cell_type": "code",
   "execution_count": 366,
   "metadata": {},
   "outputs": [
    {
     "data": {
      "text/plain": [
       "0.8483112996955426"
      ]
     },
     "execution_count": 366,
     "metadata": {},
     "output_type": "execute_result"
    }
   ],
   "source": [
    "lasso_result.score(x_test_transformed,y_test)"
   ]
  },
  {
   "cell_type": "code",
   "execution_count": 367,
   "metadata": {},
   "outputs": [],
   "source": [
    "coefficients = lasso_result.coef_"
   ]
  },
  {
   "cell_type": "code",
   "execution_count": 368,
   "metadata": {},
   "outputs": [],
   "source": [
    "y_predict_lasso = lasso_run.predict(x_test_transformed)"
   ]
  },
  {
   "cell_type": "code",
   "execution_count": 369,
   "metadata": {},
   "outputs": [
    {
     "name": "stdout",
     "output_type": "stream",
     "text": [
      "R2 Correlation Score :0.8483112996955426\n",
      "RMSE is : 30111.594619762192\n"
     ]
    }
   ],
   "source": [
    "metrics_printout(lasso_result,x_test_transformed,y_test,y_predict_lasso)"
   ]
  },
  {
   "cell_type": "code",
   "execution_count": 370,
   "metadata": {},
   "outputs": [
    {
     "data": {
      "image/png": "[encoded data removed]",
      "text/plain": [
       "<Figure size 432x288 with 1 Axes>"
      ]
     },
     "metadata": {
      "needs_background": "light"
     },
     "output_type": "display_data"
    }
   ],
   "source": [
    "draw_plot(y_predict_lasso,y_test)"
   ]
  },
  {
   "cell_type": "code",
   "execution_count": 185,
   "metadata": {},
   "outputs": [
    {
     "data": {
      "text/plain": [
       "{'lot_area_frontage': -6589.1667866760445,\n",
       " 'Mas Vnr Area': 7417.098911973069,\n",
       " 'Total Bsmt SF': 9333.602300703626,\n",
       " 'Gr Liv Area': 22176.561641995762,\n",
       " 'Garage Area': 10399.883110452563,\n",
       " 'outdoor_SF': 3624.643753874728,\n",
       " 'age_since_remodel': -951.9789983965605,\n",
       " 'age_since_built': -16735.33846919169,\n",
       " 'Heating QC': 3422.3413333030203,\n",
       " 'house_exter_score': 21238.91100325449,\n",
       " 'fireplace_score': 8836.156271408701,\n",
       " 'garage_basement_score': 372.5571233209103,\n",
       " 'kitchen_score': 1295.3661012651696,\n",
       " 'has_remod': 5293.401469394917,\n",
       " 'Land Contour_HLS': 47757.76272089526,\n",
       " 'Land Contour_Low': 22205.757807285303,\n",
       " 'Land Contour_Lvl': 11811.395090263903,\n",
       " 'House Style_2Story': -12969.853108625277,\n",
       " 'House Style_Split': -3833.472070501838,\n",
       " 'Central Air_Y': -11943.32703687298,\n",
       " 'Bedroom AbvGr_1': -11699.257857313869,\n",
       " 'Bedroom AbvGr_2': -23686.884277181223,\n",
       " 'Bedroom AbvGr_3': -24263.829549742633,\n",
       " 'Bedroom AbvGr_>=4': -17586.965849885564,\n",
       " 'TotRms AbvGrd_6': 1365.8148666668228,\n",
       " 'TotRms AbvGrd_7': 249.57068867814687,\n",
       " 'TotRms AbvGrd_<=4': -4386.6594641504935,\n",
       " 'TotRms AbvGrd_>=8': 9668.607221782606,\n",
       " 'Mo Sold_spring': -1217.8524546898402,\n",
       " 'Mo Sold_summer': 1021.9376508419945,\n",
       " 'Mo Sold_winter': -3227.7973822941717,\n",
       " 'Yr Sold_2007': -3167.5790204646933,\n",
       " 'Yr Sold_2008': -3141.217432282718,\n",
       " 'Yr Sold_2009': 193.74778078464712,\n",
       " 'Yr Sold_2010': 110.74812684508258,\n",
       " 'total_baths_1': 7430.16320642693,\n",
       " 'total_baths_2': -0.0,\n",
       " 'total_baths_>=3': 9461.905206456708}"
      ]
     },
     "execution_count": 185,
     "metadata": {},
     "output_type": "execute_result"
    }
   ],
   "source": [
    "dict(zip(x_test_transformed.columns,coefficients))"
   ]
  },
  {
   "cell_type": "code",
   "execution_count": 308,
   "metadata": {},
   "outputs": [
    {
     "data": {
      "text/html": [
       "<div>\n",
       "<style scoped>\n",
       "    .dataframe tbody tr th:only-of-type {\n",
       "        vertical-align: middle;\n",
       "    }\n",
       "\n",
       "    .dataframe tbody tr th {\n",
       "        vertical-align: top;\n",
       "    }\n",
       "\n",
       "    .dataframe thead th {\n",
       "        text-align: right;\n",
       "    }\n",
       "</style>\n",
       "<table border=\"1\" class=\"dataframe\">\n",
       "  <thead>\n",
       "    <tr style=\"text-align: right;\">\n",
       "      <th></th>\n",
       "      <th>feature</th>\n",
       "      <th>coefficient</th>\n",
       "    </tr>\n",
       "  </thead>\n",
       "  <tbody>\n",
       "    <tr>\n",
       "      <th>14</th>\n",
       "      <td>Land Contour_HLS</td>\n",
       "      <td>3.483038</td>\n",
       "    </tr>\n",
       "    <tr>\n",
       "      <th>15</th>\n",
       "      <td>Land Contour_Low</td>\n",
       "      <td>1.556561</td>\n",
       "    </tr>\n",
       "    <tr>\n",
       "      <th>3</th>\n",
       "      <td>Gr Liv Area</td>\n",
       "      <td>1.554360</td>\n",
       "    </tr>\n",
       "    <tr>\n",
       "      <th>9</th>\n",
       "      <td>house_exter_score</td>\n",
       "      <td>1.483666</td>\n",
       "    </tr>\n",
       "    <tr>\n",
       "      <th>16</th>\n",
       "      <td>Land Contour_Lvl</td>\n",
       "      <td>0.772884</td>\n",
       "    </tr>\n",
       "    <tr>\n",
       "      <th>4</th>\n",
       "      <td>Garage Area</td>\n",
       "      <td>0.666464</td>\n",
       "    </tr>\n",
       "    <tr>\n",
       "      <th>27</th>\n",
       "      <td>TotRms AbvGrd_&gt;=8</td>\n",
       "      <td>0.611330</td>\n",
       "    </tr>\n",
       "    <tr>\n",
       "      <th>37</th>\n",
       "      <td>total_baths_&gt;=3</td>\n",
       "      <td>0.595746</td>\n",
       "    </tr>\n",
       "    <tr>\n",
       "      <th>2</th>\n",
       "      <td>Total Bsmt SF</td>\n",
       "      <td>0.586073</td>\n",
       "    </tr>\n",
       "    <tr>\n",
       "      <th>10</th>\n",
       "      <td>fireplace_score</td>\n",
       "      <td>0.548568</td>\n",
       "    </tr>\n",
       "    <tr>\n",
       "      <th>35</th>\n",
       "      <td>total_baths_1</td>\n",
       "      <td>0.442564</td>\n",
       "    </tr>\n",
       "    <tr>\n",
       "      <th>1</th>\n",
       "      <td>Mas Vnr Area</td>\n",
       "      <td>0.441579</td>\n",
       "    </tr>\n",
       "    <tr>\n",
       "      <th>13</th>\n",
       "      <td>has_remod</td>\n",
       "      <td>0.281464</td>\n",
       "    </tr>\n",
       "    <tr>\n",
       "      <th>5</th>\n",
       "      <td>outdoor_SF</td>\n",
       "      <td>0.155649</td>\n",
       "    </tr>\n",
       "    <tr>\n",
       "      <th>8</th>\n",
       "      <td>Heating QC</td>\n",
       "      <td>0.140397</td>\n",
       "    </tr>\n",
       "    <tr>\n",
       "      <th>24</th>\n",
       "      <td>TotRms AbvGrd_6</td>\n",
       "      <td>-0.014654</td>\n",
       "    </tr>\n",
       "    <tr>\n",
       "      <th>12</th>\n",
       "      <td>kitchen_score</td>\n",
       "      <td>-0.019965</td>\n",
       "    </tr>\n",
       "    <tr>\n",
       "      <th>29</th>\n",
       "      <td>Mo Sold_summer</td>\n",
       "      <td>-0.040580</td>\n",
       "    </tr>\n",
       "    <tr>\n",
       "      <th>11</th>\n",
       "      <td>garage_basement_score</td>\n",
       "      <td>-0.089540</td>\n",
       "    </tr>\n",
       "    <tr>\n",
       "      <th>25</th>\n",
       "      <td>TotRms AbvGrd_7</td>\n",
       "      <td>-0.098812</td>\n",
       "    </tr>\n",
       "    <tr>\n",
       "      <th>33</th>\n",
       "      <td>Yr Sold_2009</td>\n",
       "      <td>-0.103021</td>\n",
       "    </tr>\n",
       "    <tr>\n",
       "      <th>34</th>\n",
       "      <td>Yr Sold_2010</td>\n",
       "      <td>-0.109279</td>\n",
       "    </tr>\n",
       "    <tr>\n",
       "      <th>36</th>\n",
       "      <td>total_baths_2</td>\n",
       "      <td>-0.117629</td>\n",
       "    </tr>\n",
       "    <tr>\n",
       "      <th>6</th>\n",
       "      <td>age_since_remodel</td>\n",
       "      <td>-0.189403</td>\n",
       "    </tr>\n",
       "    <tr>\n",
       "      <th>28</th>\n",
       "      <td>Mo Sold_spring</td>\n",
       "      <td>-0.209448</td>\n",
       "    </tr>\n",
       "    <tr>\n",
       "      <th>32</th>\n",
       "      <td>Yr Sold_2008</td>\n",
       "      <td>-0.354459</td>\n",
       "    </tr>\n",
       "    <tr>\n",
       "      <th>31</th>\n",
       "      <td>Yr Sold_2007</td>\n",
       "      <td>-0.356446</td>\n",
       "    </tr>\n",
       "    <tr>\n",
       "      <th>30</th>\n",
       "      <td>Mo Sold_winter</td>\n",
       "      <td>-0.360986</td>\n",
       "    </tr>\n",
       "    <tr>\n",
       "      <th>18</th>\n",
       "      <td>House Style_Split</td>\n",
       "      <td>-0.406651</td>\n",
       "    </tr>\n",
       "    <tr>\n",
       "      <th>26</th>\n",
       "      <td>TotRms AbvGrd_&lt;=4</td>\n",
       "      <td>-0.448358</td>\n",
       "    </tr>\n",
       "    <tr>\n",
       "      <th>0</th>\n",
       "      <td>lot_area_frontage</td>\n",
       "      <td>-0.614415</td>\n",
       "    </tr>\n",
       "    <tr>\n",
       "      <th>20</th>\n",
       "      <td>Bedroom AbvGr_1</td>\n",
       "      <td>-0.999687</td>\n",
       "    </tr>\n",
       "    <tr>\n",
       "      <th>19</th>\n",
       "      <td>Central Air_Y</td>\n",
       "      <td>-1.018088</td>\n",
       "    </tr>\n",
       "    <tr>\n",
       "      <th>17</th>\n",
       "      <td>House Style_2Story</td>\n",
       "      <td>-1.095483</td>\n",
       "    </tr>\n",
       "    <tr>\n",
       "      <th>7</th>\n",
       "      <td>age_since_built</td>\n",
       "      <td>-1.379379</td>\n",
       "    </tr>\n",
       "    <tr>\n",
       "      <th>23</th>\n",
       "      <td>Bedroom AbvGr_&gt;=4</td>\n",
       "      <td>-1.443587</td>\n",
       "    </tr>\n",
       "    <tr>\n",
       "      <th>21</th>\n",
       "      <td>Bedroom AbvGr_2</td>\n",
       "      <td>-1.903487</td>\n",
       "    </tr>\n",
       "    <tr>\n",
       "      <th>22</th>\n",
       "      <td>Bedroom AbvGr_3</td>\n",
       "      <td>-1.946985</td>\n",
       "    </tr>\n",
       "  </tbody>\n",
       "</table>\n",
       "</div>"
      ],
      "text/plain": [
       "                  feature  coefficient\n",
       "14       Land Contour_HLS     3.483038\n",
       "15       Land Contour_Low     1.556561\n",
       "3             Gr Liv Area     1.554360\n",
       "9       house_exter_score     1.483666\n",
       "16       Land Contour_Lvl     0.772884\n",
       "4             Garage Area     0.666464\n",
       "27      TotRms AbvGrd_>=8     0.611330\n",
       "37        total_baths_>=3     0.595746\n",
       "2           Total Bsmt SF     0.586073\n",
       "10        fireplace_score     0.548568\n",
       "35          total_baths_1     0.442564\n",
       "1            Mas Vnr Area     0.441579\n",
       "13              has_remod     0.281464\n",
       "5              outdoor_SF     0.155649\n",
       "8              Heating QC     0.140397\n",
       "24        TotRms AbvGrd_6    -0.014654\n",
       "12          kitchen_score    -0.019965\n",
       "29         Mo Sold_summer    -0.040580\n",
       "11  garage_basement_score    -0.089540\n",
       "25        TotRms AbvGrd_7    -0.098812\n",
       "33           Yr Sold_2009    -0.103021\n",
       "34           Yr Sold_2010    -0.109279\n",
       "36          total_baths_2    -0.117629\n",
       "6       age_since_remodel    -0.189403\n",
       "28         Mo Sold_spring    -0.209448\n",
       "32           Yr Sold_2008    -0.354459\n",
       "31           Yr Sold_2007    -0.356446\n",
       "30         Mo Sold_winter    -0.360986\n",
       "18      House Style_Split    -0.406651\n",
       "26      TotRms AbvGrd_<=4    -0.448358\n",
       "0       lot_area_frontage    -0.614415\n",
       "20        Bedroom AbvGr_1    -0.999687\n",
       "19          Central Air_Y    -1.018088\n",
       "17     House Style_2Story    -1.095483\n",
       "7         age_since_built    -1.379379\n",
       "23      Bedroom AbvGr_>=4    -1.443587\n",
       "21        Bedroom AbvGr_2    -1.903487\n",
       "22        Bedroom AbvGr_3    -1.946985"
      ]
     },
     "execution_count": 308,
     "metadata": {},
     "output_type": "execute_result"
    }
   ],
   "source": [
    "estimator_scaled_coefficients(lasso_result,x_test_transformed.columns).sort_values(by='coefficient',ascending=False)"
   ]
  },
  {
   "cell_type": "markdown",
   "metadata": {},
   "source": [
    "## Regression - Elastic Net"
   ]
  },
  {
   "cell_type": "code",
   "execution_count": 426,
   "metadata": {},
   "outputs": [],
   "source": [
    "enet_alphas = np.arange (0.1,1.0,0.005)\n",
    "enet_ratios = np.arange(0.0,1.0,0.01)\n",
    "\n",
    "enet_params = {\n",
    "    'alpha' : enet_alphas,\n",
    "    'l1_ratio' : enet_ratios\n",
    "}\n",
    "\n",
    "enet_model = ElasticNet(random_state=42)"
   ]
  },
  {
   "cell_type": "code",
   "execution_count": 427,
   "metadata": {},
   "outputs": [],
   "source": [
    "enet_random_search = RandomizedSearchCV(estimator=enet_model, param_distributions=enet_params,cv=5,n_iter=50)"
   ]
  },
  {
   "cell_type": "code",
   "execution_count": 428,
   "metadata": {},
   "outputs": [],
   "source": [
    "enet_optimal_search = enet_random_search.fit(x_train_transformed,y_train)"
   ]
  },
  {
   "cell_type": "code",
   "execution_count": 429,
   "metadata": {},
   "outputs": [
    {
     "data": {
      "text/plain": [
       "{'l1_ratio': 0.99, 'alpha': 0.29500000000000015}"
      ]
     },
     "execution_count": 429,
     "metadata": {},
     "output_type": "execute_result"
    }
   ],
   "source": [
    "enet_optimal_search.best_params_"
   ]
  },
  {
   "cell_type": "code",
   "execution_count": 430,
   "metadata": {},
   "outputs": [],
   "source": [
    "y_predict_enet = enet_optimal_search.predict(x_test_transformed)"
   ]
  },
  {
   "cell_type": "code",
   "execution_count": 431,
   "metadata": {},
   "outputs": [
    {
     "data": {
      "image/png": "[encoded data removed]",
      "text/plain": [
       "<Figure size 432x288 with 1 Axes>"
      ]
     },
     "metadata": {
      "needs_background": "light"
     },
     "output_type": "display_data"
    }
   ],
   "source": [
    "draw_plot(y_predict_enet,y_test)"
   ]
  },
  {
   "cell_type": "code",
   "execution_count": 432,
   "metadata": {},
   "outputs": [
    {
     "data": {
      "text/plain": [
       "0.8501862867601218"
      ]
     },
     "execution_count": 432,
     "metadata": {},
     "output_type": "execute_result"
    }
   ],
   "source": [
    "enet_optimal_search.score(x_test_transformed,y_test)"
   ]
  },
  {
   "cell_type": "code",
   "execution_count": 433,
   "metadata": {},
   "outputs": [
    {
     "name": "stdout",
     "output_type": "stream",
     "text": [
      "R2 Correlation Score :0.8501862867601218\n",
      "RMSE is : 29924.914908287294\n"
     ]
    }
   ],
   "source": [
    "metrics_printout(enet_optimal_search,x_test_transformed,y_test,y_predict_enet)"
   ]
  },
  {
   "cell_type": "markdown",
   "metadata": {},
   "source": [
    "## Model Summaries"
   ]
  },
  {
   "cell_type": "markdown",
   "metadata": {},
   "source": [
    "| Model         | $R^2$ Score          |RMSE  |\n",
    "| ------------- |---------------|------|\n",
    "| Linear Regression (Benchmark)     | 0.84830 | 30111 |\n",
    "| Ridge                  | 0.85112      |    29830 |\n",
    "| Lasso                  | 0.84924      |    30018 |\n",
    "| ElasticNet             | 0.85099      |    29924 |"
   ]
  },
  {
   "cell_type": "markdown",
   "metadata": {},
   "source": [
    "As seen from the summary, ElasticNet and Ridge regression offers very similar performance - better than the benchmark.\n",
    "\n",
    "Even with hyperparameter tuning via RandomSearch, there isn't much improvement observed.\n",
    "\n",
    "However, it is noted that 38 features define the model. We may want to explore feature elimination methods in 04_Model_Tuning"
   ]
  }
 ],
 "metadata": {
  "kernelspec": {
   "display_name": "Python 3",
   "language": "python",
   "name": "python3"
  },
  "language_info": {
   "codemirror_mode": {
    "name": "ipython",
    "version": 3
   },
   "file_extension": ".py",
   "mimetype": "text/x-python",
   "name": "python",
   "nbconvert_exporter": "python",
   "pygments_lexer": "ipython3",
   "version": "3.6.8"
  }
 },
 "nbformat": 4,
 "nbformat_minor": 2
}
