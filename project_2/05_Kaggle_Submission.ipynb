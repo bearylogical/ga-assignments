{
 "cells": [
  {
   "cell_type": "markdown",
   "metadata": {},
   "source": [
    "# 05_Kaggle_Submission"
   ]
  },
  {
   "cell_type": "markdown",
   "metadata": {},
   "source": [
    "## Import Libraries"
   ]
  },
  {
   "cell_type": "code",
   "execution_count": 793,
   "metadata": {},
   "outputs": [],
   "source": [
    "import pandas as pd\n",
    "import numpy as np\n",
    "import matplotlib.pyplot as plt\n",
    "import seaborn as sns \n",
    "\n",
    "from sklearn.preprocessing import  StandardScaler\n",
    "from sklearn.impute import SimpleImputer\n",
    "\n",
    "from sklearn.feature_selection import RFE\n",
    "from sklearn.model_selection import train_test_split, cross_val_score, KFold, GridSearchCV, RandomizedSearchCV\n",
    "from sklearn.linear_model import LinearRegression, Ridge, Lasso, ElasticNet\n",
    "\n",
    "\n",
    "from sklearn.metrics import mean_squared_error"
   ]
  },
  {
   "cell_type": "markdown",
   "metadata": {},
   "source": [
    "## Load in Test Dataset"
   ]
  },
  {
   "cell_type": "code",
   "execution_count": 794,
   "metadata": {},
   "outputs": [],
   "source": [
    "kaggle_test = pd.read_csv('./datasets/test.csv')"
   ]
  },
  {
   "cell_type": "markdown",
   "metadata": {},
   "source": [
    "## Clean Test Dataset"
   ]
  },
  {
   "cell_type": "code",
   "execution_count": 795,
   "metadata": {},
   "outputs": [],
   "source": [
    "numerical_categories = [\"MS SubClass\",\"Overall Qual\",\"Overall Cond\",\"Bsmt Full Bath\",\"Bsmt Half Bath\",\"Full Bath\",\"Half Bath\",\"Bedroom AbvGr\",\"Kitchen AbvGr\",\"Garage Cars\"]\n",
    "\n",
    "word_categories = [col for col in nominal_features if col not in numerical_categories]\n"
   ]
  },
  {
   "cell_type": "code",
   "execution_count": 796,
   "metadata": {},
   "outputs": [],
   "source": [
    "kaggle_test['age_since_built'] = kaggle_test['Yr Sold'] - kaggle_test['Year Built']"
   ]
  },
  {
   "cell_type": "code",
   "execution_count": 797,
   "metadata": {},
   "outputs": [],
   "source": [
    "kaggle_test['age_since_remodel'] = kaggle_test['Yr Sold'] - kaggle_test['Year Remod/Add']"
   ]
  },
  {
   "cell_type": "code",
   "execution_count": 798,
   "metadata": {},
   "outputs": [],
   "source": [
    "kaggle_test['garage_age'] = kaggle_test.apply(lambda x: (x['Yr Sold'] - x['Year Remod/Add']) if type(x['Garage Yr Blt']) == 'nan' else (x['Yr Sold'] - x['Garage Yr Blt']) , axis=1)\n"
   ]
  },
  {
   "cell_type": "code",
   "execution_count": 799,
   "metadata": {},
   "outputs": [],
   "source": [
    "kaggle_test['garage_age'] = kaggle_test['garage_age'].map(lambda x : x if x>=0 else 0)"
   ]
  },
  {
   "cell_type": "code",
   "execution_count": 800,
   "metadata": {},
   "outputs": [],
   "source": [
    "kaggle_test['has_remod'] = kaggle_test.apply(lambda x: 0 if x.age_since_built - x.age_since_remodel == 0 else 1, axis=1)\n"
   ]
  },
  {
   "cell_type": "code",
   "execution_count": 801,
   "metadata": {},
   "outputs": [],
   "source": [
    "nominal_features.append('has_remod')"
   ]
  },
  {
   "cell_type": "code",
   "execution_count": 802,
   "metadata": {},
   "outputs": [],
   "source": [
    "kaggle_test[numerical_categories]=kaggle_test[numerical_categories].replace(np.nan,0)\n"
   ]
  },
  {
   "cell_type": "code",
   "execution_count": 803,
   "metadata": {},
   "outputs": [],
   "source": [
    "kaggle_test[word_categories]=kaggle_test[word_categories].replace(np.nan,'missing')\n"
   ]
  },
  {
   "cell_type": "code",
   "execution_count": 804,
   "metadata": {},
   "outputs": [],
   "source": [
    "kaggle_test['outdoor_SF'] = kaggle_test['Wood Deck SF'] + kaggle_test['Open Porch SF'] + kaggle_test['Screen Porch']"
   ]
  },
  {
   "cell_type": "code",
   "execution_count": 805,
   "metadata": {},
   "outputs": [],
   "source": [
    "quality_codes = {\n",
    "    'Ex' : 5,\n",
    "    'Gd' : 4,\n",
    "    'TA' : 3,\n",
    "    'Fa' : 2,\n",
    "    'Po' : 1,\n",
    "    'NA' : 0,\n",
    "    'missing' :0,\n",
    "    np.nan : 0\n",
    "}"
   ]
  },
  {
   "cell_type": "code",
   "execution_count": 806,
   "metadata": {},
   "outputs": [],
   "source": [
    "ordinal_quality_features = ['Exter Qual','Exter Cond','Bsmt Qual','Bsmt Cond','Heating QC','Kitchen Qual','Fireplace Qu',\n",
    "                           'Garage Qual', 'Garage Cond','Pool QC']"
   ]
  },
  {
   "cell_type": "code",
   "execution_count": 807,
   "metadata": {},
   "outputs": [],
   "source": [
    "for feature in ordinal_quality_features:\n",
    "    kaggle_test[feature] = kaggle_test[feature].map(quality_codes)"
   ]
  },
  {
   "cell_type": "code",
   "execution_count": 808,
   "metadata": {},
   "outputs": [],
   "source": [
    "kaggle_test['Garage Finish'] = kaggle_test['Garage Finish'].map({'Fin':3,'Rfn':2,'Unf':1,'NA':0,'missing':0})"
   ]
  },
  {
   "cell_type": "code",
   "execution_count": 809,
   "metadata": {},
   "outputs": [],
   "source": [
    "kaggle_test['Lot Shape'] = kaggle_test['Lot Shape'].map({'Reg':4,'IR1':3,'IR2':2,'IR3':1,'missing':0})"
   ]
  },
  {
   "cell_type": "code",
   "execution_count": 810,
   "metadata": {},
   "outputs": [],
   "source": [
    "kaggle_test['Land Slope'] = kaggle_test['Land Slope'].map({'Gtl':3,'Mod':'2','Sev':'1','missing':0})"
   ]
  },
  {
   "cell_type": "code",
   "execution_count": 811,
   "metadata": {},
   "outputs": [],
   "source": [
    "kaggle_test['Bsmt Exposure'] = kaggle_test['Bsmt Exposure'].map({'Gd':5,'Av':4,'Mn':3,'No':2,'NA':1,'missing':0})"
   ]
  },
  {
   "cell_type": "code",
   "execution_count": 812,
   "metadata": {},
   "outputs": [],
   "source": [
    "kaggle_test['BsmtFin Type 1'] = kaggle_test['BsmtFin Type 1'].map({'GLQ':7,'ALQ':6,'BLQ':5,'Rec':4,'LWQ':3,'Unf':2,'NA':1,'missing':0})"
   ]
  },
  {
   "cell_type": "code",
   "execution_count": 813,
   "metadata": {},
   "outputs": [],
   "source": [
    "kaggle_test['BsmtFin Type 2'] = kaggle_test['BsmtFin Type 2'].map({'GLQ':7,'ALQ':6,'BLQ':5,'Rec':4,'LWQ':3,'Unf':2,'NA':1,'missing':0})"
   ]
  },
  {
   "cell_type": "markdown",
   "metadata": {},
   "source": [
    "From earlier EDA visualisations, we see that certain features have a low distribution of observations within categories.\n",
    "\n",
    "In the case of House Style, we can re-bin in to 2story or 1story type."
   ]
  },
  {
   "cell_type": "code",
   "execution_count": 814,
   "metadata": {},
   "outputs": [],
   "source": [
    "style_dict = {\n",
    "    '1Story' : '1Story',\n",
    "    '1.5Fin' : '1Story',\n",
    "    '1.5Unf' : '1Story',\n",
    "    '2Story' : '2Story',\n",
    "    '2.5Fin' : '2Story',\n",
    "    '2.5Unf' : '2Story',\n",
    "    'SFoyer' : 'Split',\n",
    "    'SLvl'   : 'Split'\n",
    "}\n",
    "\n",
    "kaggle_test['House Style'] = kaggle_test['House Style'].map(style_dict)"
   ]
  },
  {
   "cell_type": "markdown",
   "metadata": {},
   "source": [
    "We can combine external condition and external quality as a sum of the two features in a feature : `exter_score`"
   ]
  },
  {
   "cell_type": "code",
   "execution_count": 815,
   "metadata": {},
   "outputs": [],
   "source": [
    "kaggle_test['house_score'] = kaggle_test['Overall Qual'] + kaggle_test['Overall Cond']"
   ]
  },
  {
   "cell_type": "code",
   "execution_count": 816,
   "metadata": {},
   "outputs": [],
   "source": [
    "kaggle_test['exter_score'] = kaggle_test['Exter Qual'] + kaggle_test['Exter Cond']"
   ]
  },
  {
   "cell_type": "code",
   "execution_count": 817,
   "metadata": {},
   "outputs": [],
   "source": [
    "kaggle_test['fireplace_score'] = kaggle_test['Fireplace Qu'] * kaggle_test['Fireplaces']"
   ]
  },
  {
   "cell_type": "code",
   "execution_count": 818,
   "metadata": {},
   "outputs": [],
   "source": [
    "kaggle_test['garage_score'] = round((kaggle_test['Garage Qual'] + kaggle_test['Garage Cond'] + kaggle_test['Garage Finish']) / kaggle_test['Garage Cars'],2)\n"
   ]
  },
  {
   "cell_type": "code",
   "execution_count": 819,
   "metadata": {},
   "outputs": [],
   "source": [
    "kaggle_test['kitchen_score'] = kaggle_test['Kitchen AbvGr'] * kaggle_test['Kitchen Qual']"
   ]
  },
  {
   "cell_type": "code",
   "execution_count": 820,
   "metadata": {},
   "outputs": [],
   "source": [
    "kaggle_test['total_baths'] = kaggle_test['Full Bath'] + kaggle_test['Half Bath']"
   ]
  },
  {
   "cell_type": "code",
   "execution_count": 821,
   "metadata": {},
   "outputs": [],
   "source": [
    "kaggle_test['basement_score'] = round(( kaggle_test['Bsmt Cond'] + kaggle_test['Bsmt Qual'] ) ** (kaggle_test['BsmtFin Type 1'] / 7),2)"
   ]
  },
  {
   "cell_type": "markdown",
   "metadata": {},
   "source": [
    "Rebinning Bedrooms. Bedrooms more than four are just '>4'"
   ]
  },
  {
   "cell_type": "code",
   "execution_count": 822,
   "metadata": {},
   "outputs": [],
   "source": [
    "kaggle_test['TotRms AbvGrd']= kaggle_test['TotRms AbvGrd'].map(lambda x : '>=8' if x>=8 else ('<=4' if x<=4 else x))\n"
   ]
  },
  {
   "cell_type": "code",
   "execution_count": 823,
   "metadata": {},
   "outputs": [],
   "source": [
    "kaggle_test['Bedroom AbvGr']= kaggle_test['Bedroom AbvGr'].map(lambda x : '>=4' if x>=4 else x)\n"
   ]
  },
  {
   "cell_type": "code",
   "execution_count": 824,
   "metadata": {},
   "outputs": [],
   "source": [
    "# rebin total_baths\n",
    "kaggle_test['total_baths'] = kaggle_test['total_baths'].map(lambda x : '>=3' if x>=3 else x)"
   ]
  },
  {
   "cell_type": "code",
   "execution_count": 825,
   "metadata": {},
   "outputs": [],
   "source": [
    "# rebin months to seasons\n",
    "# https://www.timeanddate.com/calendar/aboutseasons.html\n",
    "# Spring runs from March 1 to May 31;\n",
    "# Summer runs from June 1 to August 31;\n",
    "# Fall (autumn) runs from September 1 to November 30; and\n",
    "# Winter runs from December 1 to February 28 (February 29 in a leap year).\n",
    "\n",
    "def month_to_season(int_month):\n",
    "    if (3<=int_month and int_month<=5):\n",
    "        return 'spring'\n",
    "    elif (6<=int_month and int_month<=8):\n",
    "        return 'summer'\n",
    "    elif (9<=int_month and int_month<=11):\n",
    "        return 'fall'\n",
    "    else:\n",
    "        return 'winter'\n",
    "    \n",
    "kaggle_test['Mo Sold'] = kaggle_test['Mo Sold'].map(month_to_season)"
   ]
  },
  {
   "cell_type": "code",
   "execution_count": 826,
   "metadata": {},
   "outputs": [],
   "source": [
    "# convert year to categorical\n",
    "\n",
    "kaggle_test['Yr Sold'] = kaggle_test['Yr Sold'].astype('category')"
   ]
  },
  {
   "cell_type": "code",
   "execution_count": 827,
   "metadata": {},
   "outputs": [],
   "source": [
    "new_nom_feature = ['Lot Shape','Land Contour',\n",
    " 'House Style','Heating QC','Central Air',\n",
    " 'Bedroom AbvGr','TotRms AbvGrd','Mo Sold',\n",
    " 'has_remod','Yr Sold','house_score',\n",
    " 'exter_score','fireplace_score',\n",
    " 'garage_score','kitchen_score',\n",
    " 'total_baths','basement_score']"
   ]
  },
  {
   "cell_type": "code",
   "execution_count": 828,
   "metadata": {},
   "outputs": [],
   "source": [
    "# fix NaNs in scores\n",
    "\n",
    "kaggle_test['garage_score'] = kaggle_test['garage_score'].map(lambda x: 0 if np.isnan(x) else x)\n",
    "kaggle_test['basement_score'] = kaggle_test['garage_score'].map(lambda x: 0 if np.isnan(x) else x)"
   ]
  },
  {
   "cell_type": "code",
   "execution_count": 829,
   "metadata": {},
   "outputs": [],
   "source": [
    "# combined features \n",
    "\n",
    "kaggle_test['garage_basement_score'] = kaggle_test['garage_score'] * kaggle_test['basement_score']\n",
    "kaggle_test['house_exter_score'] = kaggle_test['house_score'] * kaggle_test['exter_score']\n",
    "kaggle_test['lot_area_frontage'] = kaggle_test['Lot Frontage'] * kaggle_test['Lot Area']\n"
   ]
  },
  {
   "cell_type": "code",
   "execution_count": 830,
   "metadata": {},
   "outputs": [],
   "source": [
    "updated_numerical_columns = ['lot_area_frontage','Mas Vnr Area','Total Bsmt SF','Gr Liv Area',\n",
    "                            'Garage Area','outdoor_SF','age_since_remodel','age_since_built',\n",
    "                            'Heating QC','house_exter_score','fireplace_score',\n",
    "                             'garage_basement_score','kitchen_score']\n",
    "\n",
    "ordinal_columns = ['Lot Shape', 'Heating QC','house_score','exter_score','fireplace_score',\n",
    "                  'garage_score','kitchen_score','basement_score']\n",
    "\n",
    "special_column = ['Id']\n",
    "\n",
    "nominal_columns = [col for col in new_nom_feature if col not in ordinal_columns]"
   ]
  },
  {
   "cell_type": "code",
   "execution_count": 831,
   "metadata": {},
   "outputs": [],
   "source": [
    "nominal_features = ['MS SubClass','MS Zoning','Street',\n",
    "                   'Alley','Lot Shape','Land Contour',\n",
    "                   'Utilities','Lot Config','Land Slope',\n",
    "                   'Neighborhood','Condition 1','Condition 2',\n",
    "                   'Bldg Type','House Style','Overall Qual',\n",
    "                   'Overall Cond',\n",
    "                   'Roof Style','Roof Matl','Exterior 1st',\n",
    "                   'Exterior 2nd', 'Mas Vnr Type','Exter Qual',\n",
    "                   'Exter Cond','Foundation','Bsmt Qual','Bsmt Cond',\n",
    "                   'Bsmt Exposure','BsmtFin Type 1','BsmtFin Type 2',\n",
    "                   'Heating','Heating QC','Central Air','Electrical',\n",
    "                   'Bsmt Full Bath','Bsmt Half Bath','Full Bath',\n",
    "                   'Half Bath','Bedroom AbvGr','Kitchen AbvGr','Kitchen Qual',\n",
    "                   'TotRms AbvGrd','Functional','Fireplaces',\n",
    "                   'Fireplace Qu','Garage Type',\n",
    "                   'Garage Finish','Garage Cars','Garage Qual',\n",
    "                   'Garage Cond','Paved Drive','Pool QC','Fence',\n",
    "                   'Misc Feature','Mo Sold',\n",
    "                   'Sale Type']\n",
    "\n",
    "temporal_features = ['Year Built','Year Remod/Add','Garage Yr Blt','Yr Sold']\n",
    "\n",
    "non_numeric_features  = nominal_features + temporal_features\n",
    "\n",
    "# convert nominal features into category datatype\n",
    "for f in nominal_features:\n",
    "    kaggle_test[f] = kaggle_test[f].astype(\"category\")"
   ]
  },
  {
   "cell_type": "code",
   "execution_count": 832,
   "metadata": {},
   "outputs": [],
   "source": [
    "# get dummies for the nominal columns\n",
    "nominal_kaggle = pd.get_dummies(kaggle_test[nominal_columns],drop_first=True)"
   ]
  },
  {
   "cell_type": "code",
   "execution_count": 833,
   "metadata": {},
   "outputs": [],
   "source": [
    "# extract out numerical columns for original dataframe\n",
    "\n",
    "numerical_kaggle = kaggle_test[updated_numerical_columns].copy()"
   ]
  },
  {
   "cell_type": "code",
   "execution_count": 834,
   "metadata": {},
   "outputs": [],
   "source": [
    "trsfm_kaggle = nominal_kaggle.join(numerical_kaggle)"
   ]
  },
  {
   "cell_type": "code",
   "execution_count": 835,
   "metadata": {},
   "outputs": [],
   "source": [
    "trsfm_kaggle = trsfm_kaggle.join(kaggle_test[special_column])"
   ]
  },
  {
   "cell_type": "code",
   "execution_count": 836,
   "metadata": {},
   "outputs": [],
   "source": [
    "trsfm_kaggle_id = trsfm_kaggle['Id']\n",
    "trsfm_kaggle_features = trsfm_kaggle[[col for col in trsfm_kaggle.columns if col !='Id']]"
   ]
  },
  {
   "cell_type": "code",
   "execution_count": 837,
   "metadata": {},
   "outputs": [],
   "source": [
    "x_test = trsfm_kaggle_features.copy()"
   ]
  },
  {
   "cell_type": "markdown",
   "metadata": {},
   "source": [
    "## Load in Training Set"
   ]
  },
  {
   "cell_type": "code",
   "execution_count": 841,
   "metadata": {},
   "outputs": [],
   "source": [
    "train = pd.read_csv('./datasets/transformed_train.csv')\n",
    "train_id = pd.read_csv('./datasets/train.csv')"
   ]
  },
  {
   "cell_type": "code",
   "execution_count": 842,
   "metadata": {},
   "outputs": [],
   "source": [
    "# drop unnamed\n",
    "train.drop(columns=['Unnamed: 0'],inplace=True)\n",
    "\n",
    "y_train = train['SalePrice']\n",
    "features = [col for col in df.columns if col != 'SalePrice']\n",
    "x_train = train[features]\n",
    "train_id = train_id['Id']\n",
    "x_train_id = x_train.join(train_id)"
   ]
  },
  {
   "cell_type": "markdown",
   "metadata": {},
   "source": [
    "## Prepocessing"
   ]
  },
  {
   "cell_type": "code",
   "execution_count": 851,
   "metadata": {},
   "outputs": [],
   "source": [
    "nominal_features = ['has_remod', 'Land Contour_HLS', 'Land Contour_Low', 'Land Contour_Lvl',\n",
    "       'House Style_2Story', 'House Style_Split', 'Central Air_Y',\n",
    "       'Bedroom AbvGr_1', 'Bedroom AbvGr_2', 'Bedroom AbvGr_3',\n",
    "       'Bedroom AbvGr_>=4', 'TotRms AbvGrd_6', 'TotRms AbvGrd_7',\n",
    "       'TotRms AbvGrd_<=4', 'TotRms AbvGrd_>=8', 'Mo Sold_spring',\n",
    "       'Mo Sold_summer', 'Mo Sold_winter', 'Yr Sold_2007', 'Yr Sold_2008',\n",
    "       'Yr Sold_2009', 'Yr Sold_2010', 'total_baths_1', 'total_baths_2',\n",
    "       'total_baths_>=3']\n",
    "\n",
    "cont_features = ['lot_area_frontage', 'Mas Vnr Area', 'Total Bsmt SF',\n",
    "       'Gr Liv Area', 'Garage Area', 'outdoor_SF', 'age_since_remodel',\n",
    "       'age_since_built', 'Heating QC', 'house_exter_score', 'fireplace_score',\n",
    "       'garage_basement_score', 'kitchen_score']\n",
    "\n"
   ]
  },
  {
   "cell_type": "code",
   "execution_count": 930,
   "metadata": {},
   "outputs": [],
   "source": [
    "si = SimpleImputer(missing_values=np.nan,strategy='median')\n",
    "x_train_imputed = si.fit_transform(x_train[features])\n",
    "x_test_imputed = si.transform(x_test[features])"
   ]
  },
  {
   "cell_type": "code",
   "execution_count": 931,
   "metadata": {},
   "outputs": [],
   "source": [
    "x_train_imputed = pd.DataFrame(x_train_imputed,columns=features).copy()\n",
    "x_test_imputed = pd.DataFrame(x_test_imputed,columns=features).copy()"
   ]
  },
  {
   "cell_type": "code",
   "execution_count": 932,
   "metadata": {},
   "outputs": [],
   "source": [
    "x_train_imputed['Total Bsmt SF'] = x_train_imputed['Total Bsmt SF'].map(lambda x : np.median(x_train_imputed['Total Bsmt SF']) if x ==0 else x)"
   ]
  },
  {
   "cell_type": "code",
   "execution_count": 933,
   "metadata": {},
   "outputs": [],
   "source": [
    "export_train_impute = x_train_imputed.join(y_train)\n",
    "export_train_impute.to_csv('./datasets/imputed_train.csv')"
   ]
  },
  {
   "cell_type": "code",
   "execution_count": 847,
   "metadata": {},
   "outputs": [],
   "source": [
    "# scale only numerical variables\n",
    "\n",
    "x_train_scaled_numerical = x_train_imputed[cont_features].copy()\n",
    "x_test_scaled_numerical = x_test_imputed[cont_features].copy()"
   ]
  },
  {
   "cell_type": "code",
   "execution_count": 848,
   "metadata": {},
   "outputs": [],
   "source": [
    "ss = StandardScaler()\n",
    "x_train_scaled_numerical = ss.fit_transform(x_train_scaled_numerical)\n",
    "x_test_scaled_numerical = ss.transform(x_test_scaled_numerical)"
   ]
  },
  {
   "cell_type": "code",
   "execution_count": 849,
   "metadata": {},
   "outputs": [],
   "source": [
    "x_train_scaled_numerical = pd.DataFrame(x_train_scaled_numerical,columns=cont_features).copy()\n",
    "x_test_scaled_numerical = pd.DataFrame(x_test_scaled_numerical,columns=cont_features).copy()"
   ]
  },
  {
   "cell_type": "code",
   "execution_count": 852,
   "metadata": {},
   "outputs": [],
   "source": [
    "x_train_transformed = x_train_scaled_numerical.join(x_train[nominal_features])\n",
    "x_test_transformed = x_test_scaled_numerical.join(x_test[nominal_features])"
   ]
  },
  {
   "cell_type": "markdown",
   "metadata": {},
   "source": [
    "## Generate Model"
   ]
  },
  {
   "cell_type": "markdown",
   "metadata": {},
   "source": [
    "### Baseline\n",
    "\n",
    "Use LinearRegression to generate a baseline prediction"
   ]
  },
  {
   "cell_type": "code",
   "execution_count": 858,
   "metadata": {},
   "outputs": [],
   "source": [
    "lr = LinearRegression()\n",
    "benchmark = lr.fit(x_train_transformed,y_train)\n",
    "target_benchmark_price = lr.predict(x_test_transformed)"
   ]
  },
  {
   "cell_type": "code",
   "execution_count": 876,
   "metadata": {},
   "outputs": [],
   "source": [
    "kaggle_benchmark = pd.DataFrame(zip(trsfm_kaggle_id,target_benchmark_price),columns=['Id','SalePrice'])"
   ]
  },
  {
   "cell_type": "code",
   "execution_count": 881,
   "metadata": {},
   "outputs": [],
   "source": [
    "kaggle_benchmark = kaggle_benchmark.set_index('Id')"
   ]
  },
  {
   "cell_type": "code",
   "execution_count": 882,
   "metadata": {},
   "outputs": [],
   "source": [
    "kaggle_benchmark.to_csv('./kaggle/benchmark.csv')"
   ]
  },
  {
   "cell_type": "markdown",
   "metadata": {},
   "source": [
    "## Ridge Regression"
   ]
  },
  {
   "cell_type": "markdown",
   "metadata": {},
   "source": [
    "Use Ridge Regression  to generate improved model"
   ]
  },
  {
   "cell_type": "code",
   "execution_count": 887,
   "metadata": {},
   "outputs": [],
   "source": [
    "rr = Ridge()\n"
   ]
  },
  {
   "cell_type": "code",
   "execution_count": 888,
   "metadata": {},
   "outputs": [],
   "source": [
    "r_alphas = np.logspace(0, 20, 1000)"
   ]
  },
  {
   "cell_type": "code",
   "execution_count": 889,
   "metadata": {},
   "outputs": [],
   "source": [
    "params = {\n",
    "    'alpha':r_alphas\n",
    "}"
   ]
  },
  {
   "cell_type": "code",
   "execution_count": 894,
   "metadata": {},
   "outputs": [],
   "source": [
    "grid_search_ridge = GridSearchCV(estimator=rr, param_grid=params,cv=5)"
   ]
  },
  {
   "cell_type": "code",
   "execution_count": 895,
   "metadata": {},
   "outputs": [
    {
     "data": {
      "text/plain": [
       "GridSearchCV(cv=5, error_score='raise-deprecating',\n",
       "             estimator=Ridge(alpha=1.0, copy_X=True, fit_intercept=True,\n",
       "                             max_iter=None, normalize=False, random_state=None,\n",
       "                             solver='auto', tol=0.001),\n",
       "             iid='warn', n_jobs=None,\n",
       "             param_grid={'alpha': array([1.00000000e+00, 1.04717682e+00, 1.09657929e+00, 1.14831241e+00,\n",
       "       1.20248614e+00, 1.25921561e+00, 1.31862140e+00, 1.38082977e+00,...\n",
       "       4.16504425e+19, 4.36153779e+19, 4.56730127e+19, 4.78277202e+19,\n",
       "       5.00840799e+19, 5.24468875e+19, 5.49211648e+19, 5.75121707e+19,\n",
       "       6.02254120e+19, 6.30666554e+19, 6.60419396e+19, 6.91575883e+19,\n",
       "       7.24202233e+19, 7.58367791e+19, 7.94145172e+19, 8.31610415e+19,\n",
       "       8.70843150e+19, 9.11926760e+19, 9.54948564e+19, 1.00000000e+20])},\n",
       "             pre_dispatch='2*n_jobs', refit=True, return_train_score=False,\n",
       "             scoring=None, verbose=0)"
      ]
     },
     "execution_count": 895,
     "metadata": {},
     "output_type": "execute_result"
    }
   ],
   "source": [
    "grid_search_ridge.fit(x_train_transformed,y_train)"
   ]
  },
  {
   "cell_type": "code",
   "execution_count": 896,
   "metadata": {},
   "outputs": [],
   "source": [
    "best_ridge = grid_search_ridge.best_estimator_"
   ]
  },
  {
   "cell_type": "code",
   "execution_count": 899,
   "metadata": {},
   "outputs": [],
   "source": [
    "target_ridge_price = best_ridge.predict(x_test_transformed)"
   ]
  },
  {
   "cell_type": "code",
   "execution_count": 900,
   "metadata": {},
   "outputs": [],
   "source": [
    "kaggle_ridge = pd.DataFrame(zip(trsfm_kaggle_id,target_ridge_price),columns=['Id','SalePrice'])"
   ]
  },
  {
   "cell_type": "code",
   "execution_count": 901,
   "metadata": {},
   "outputs": [],
   "source": [
    "kaggle_ridge = kaggle_ridge.set_index('Id')"
   ]
  },
  {
   "cell_type": "code",
   "execution_count": 902,
   "metadata": {},
   "outputs": [],
   "source": [
    "kaggle_ridge.to_csv('./kaggle/ridge.csv')"
   ]
  },
  {
   "cell_type": "markdown",
   "metadata": {},
   "source": [
    "## Business Model"
   ]
  },
  {
   "cell_type": "code",
   "execution_count": 907,
   "metadata": {},
   "outputs": [],
   "source": [
    "rfe_columns = ['Total Bsmt SF', 'Gr Liv Area', 'age_since_built', 'house_exter_score',\n",
    "       'Land Contour_HLS', 'Land Contour_Low', 'Land Contour_Lvl']\n",
    "\n",
    "x_train_rfe = x_train_transformed[rfe_columns]\n",
    "x_test_rfe = x_test_transformed[rfe_columns]"
   ]
  },
  {
   "cell_type": "code",
   "execution_count": 911,
   "metadata": {},
   "outputs": [],
   "source": [
    "lr_rfe = LinearRegression()\n",
    "benchmark = lr_rfe.fit(x_train_rfe,y_train)\n",
    "target_linear_rfe_price = lr_rfe.predict(x_test_rfe)"
   ]
  },
  {
   "cell_type": "code",
   "execution_count": null,
   "metadata": {},
   "outputs": [],
   "source": [
    "lr_rfe.predict"
   ]
  },
  {
   "cell_type": "code",
   "execution_count": 912,
   "metadata": {},
   "outputs": [],
   "source": [
    "kaggle_linear_rfe = pd.DataFrame(zip(trsfm_kaggle_id,target_linear_rfe_price),columns=['Id','SalePrice'])"
   ]
  },
  {
   "cell_type": "code",
   "execution_count": 913,
   "metadata": {},
   "outputs": [],
   "source": [
    "kaggle_linear_rfe = kaggle_linear_rfe.set_index('Id')"
   ]
  },
  {
   "cell_type": "code",
   "execution_count": 914,
   "metadata": {},
   "outputs": [],
   "source": [
    "kaggle_linear_rfe.to_csv('./kaggle/linear_rfe.csv')"
   ]
  },
  {
   "cell_type": "code",
   "execution_count": 935,
   "metadata": {},
   "outputs": [],
   "source": [
    "prod_model_rfe = pd.DataFrame(zip(rfe_columns,lr_rfe.coef_),columns=['feature','coefficient'])"
   ]
  },
  {
   "cell_type": "code",
   "execution_count": 936,
   "metadata": {},
   "outputs": [],
   "source": [
    "prod_model_rfe = prod_model_rfe.append({'feature':'y_intercept','coefficient':lr_rfe.intercept_},ignore_index=True)"
   ]
  },
  {
   "cell_type": "code",
   "execution_count": 937,
   "metadata": {},
   "outputs": [
    {
     "data": {
      "text/html": [
       "<div>\n",
       "<style scoped>\n",
       "    .dataframe tbody tr th:only-of-type {\n",
       "        vertical-align: middle;\n",
       "    }\n",
       "\n",
       "    .dataframe tbody tr th {\n",
       "        vertical-align: top;\n",
       "    }\n",
       "\n",
       "    .dataframe thead th {\n",
       "        text-align: right;\n",
       "    }\n",
       "</style>\n",
       "<table border=\"1\" class=\"dataframe\">\n",
       "  <thead>\n",
       "    <tr style=\"text-align: right;\">\n",
       "      <th></th>\n",
       "      <th>feature</th>\n",
       "      <th>coefficient</th>\n",
       "    </tr>\n",
       "  </thead>\n",
       "  <tbody>\n",
       "    <tr>\n",
       "      <th>0</th>\n",
       "      <td>Total Bsmt SF</td>\n",
       "      <td>15864.667337</td>\n",
       "    </tr>\n",
       "    <tr>\n",
       "      <th>1</th>\n",
       "      <td>Gr Liv Area</td>\n",
       "      <td>30824.380459</td>\n",
       "    </tr>\n",
       "    <tr>\n",
       "      <th>2</th>\n",
       "      <td>age_since_built</td>\n",
       "      <td>-20019.703415</td>\n",
       "    </tr>\n",
       "    <tr>\n",
       "      <th>3</th>\n",
       "      <td>house_exter_score</td>\n",
       "      <td>25762.168495</td>\n",
       "    </tr>\n",
       "    <tr>\n",
       "      <th>4</th>\n",
       "      <td>Land Contour_HLS</td>\n",
       "      <td>48572.704690</td>\n",
       "    </tr>\n",
       "    <tr>\n",
       "      <th>5</th>\n",
       "      <td>Land Contour_Low</td>\n",
       "      <td>36453.726086</td>\n",
       "    </tr>\n",
       "    <tr>\n",
       "      <th>6</th>\n",
       "      <td>Land Contour_Lvl</td>\n",
       "      <td>12958.893938</td>\n",
       "    </tr>\n",
       "    <tr>\n",
       "      <th>7</th>\n",
       "      <td>y_intercept</td>\n",
       "      <td>167047.745662</td>\n",
       "    </tr>\n",
       "  </tbody>\n",
       "</table>\n",
       "</div>"
      ],
      "text/plain": [
       "             feature    coefficient\n",
       "0      Total Bsmt SF   15864.667337\n",
       "1        Gr Liv Area   30824.380459\n",
       "2    age_since_built  -20019.703415\n",
       "3  house_exter_score   25762.168495\n",
       "4   Land Contour_HLS   48572.704690\n",
       "5   Land Contour_Low   36453.726086\n",
       "6   Land Contour_Lvl   12958.893938\n",
       "7        y_intercept  167047.745662"
      ]
     },
     "execution_count": 937,
     "metadata": {},
     "output_type": "execute_result"
    }
   ],
   "source": [
    "prod_model_rfe"
   ]
  },
  {
   "cell_type": "code",
   "execution_count": null,
   "metadata": {},
   "outputs": [],
   "source": []
  }
 ],
 "metadata": {
  "kernelspec": {
   "display_name": "Python 3",
   "language": "python",
   "name": "python3"
  },
  "language_info": {
   "codemirror_mode": {
    "name": "ipython",
    "version": 3
   },
   "file_extension": ".py",
   "mimetype": "text/x-python",
   "name": "python",
   "nbconvert_exporter": "python",
   "pygments_lexer": "ipython3",
   "version": "3.6.8"
  }
 },
 "nbformat": 4,
 "nbformat_minor": 2
}
