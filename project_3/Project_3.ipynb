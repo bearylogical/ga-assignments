{
 "cells": [
  {
   "cell_type": "markdown",
   "metadata": {
    "slideshow": {
     "slide_type": "slide"
    }
   },
   "source": [
    "# Project 3 : Subreddit Classifier - Webscrapping, APIs and NLP"
   ]
  },
  {
   "cell_type": "markdown",
   "metadata": {
    "slideshow": {
     "slide_type": "subslide"
    }
   },
   "source": [
    "## Problem Statement\n",
    "\n",
    "Differentiate between subreddit posts in either the r/confessions or r/relationships subreddit."
   ]
  },
  {
   "cell_type": "markdown",
   "metadata": {
    "slideshow": {
     "slide_type": "slide"
    }
   },
   "source": [
    "## Importing Libraries"
   ]
  },
  {
   "cell_type": "code",
   "execution_count": 1,
   "metadata": {
    "slideshow": {
     "slide_type": "subslide"
    }
   },
   "outputs": [],
   "source": [
    "import numpy as np\n",
    "import requests\n",
    "import pandas as pd\n",
    "import time\n",
    "import random\n",
    "import regex as re\n",
    "\n",
    "import matplotlib.pyplot as plt\n",
    "\n",
    "from nltk.corpus import stopwords # Import the stop word list\n",
    "from nltk.stem import WordNetLemmatizer \n",
    "from nltk import word_tokenize\n",
    "\n",
    "from sklearn.metrics import classification_report, roc_curve\n",
    "from sklearn.feature_extraction.text import CountVectorizer, TfidfVectorizer\n",
    "from sklearn.pipeline import Pipeline\n",
    "from sklearn.model_selection import train_test_split, GridSearchCV, cross_val_score\n",
    "from sklearn.linear_model import LogisticRegression\n",
    "from sklearn.naive_bayes import MultinomialNB, BernoulliNB, GaussianNB\n",
    "from sklearn.neighbors import  KNeighborsClassifier \n",
    "\n",
    "import warnings\n",
    "from psaw import PushshiftAPI\n",
    "\n",
    "# After the imports\n",
    "warnings.filterwarnings(action='ignore')"
   ]
  },
  {
   "cell_type": "markdown",
   "metadata": {
    "slideshow": {
     "slide_type": "slide"
    }
   },
   "source": [
    "# Data Acquisition"
   ]
  },
  {
   "cell_type": "code",
   "execution_count": 2,
   "metadata": {
    "slideshow": {
     "slide_type": "subslide"
    }
   },
   "outputs": [],
   "source": [
    "urls = {'confessions' : 'https://www.reddit.com/r/confessions.json', \n",
    "        'relationships' : 'https://www.reddit.com/r/relationships.json'}"
   ]
  },
  {
   "cell_type": "markdown",
   "metadata": {
    "slideshow": {
     "slide_type": "subslide"
    }
   },
   "source": [
    "Scrap data using the PushShiftAPI to extract more than 1000 posts per subreddit to overcome Reddit's imposed limitation."
   ]
  },
  {
   "cell_type": "code",
   "execution_count": 4,
   "metadata": {
    "slideshow": {
     "slide_type": "subslide"
    }
   },
   "outputs": [
    {
     "name": "stdout",
     "output_type": "stream",
     "text": [
      "CPU times: user 2 µs, sys: 0 ns, total: 2 µs\n",
      "Wall time: 3.34 µs\n"
     ]
    }
   ],
   "source": [
    "%time\n",
    "\n",
    "api = PushshiftAPI()\n",
    "confessions = pd.DataFrame(list(api.search_submissions(subreddit='confessions',\n",
    "                                         filter=['author','title','subreddit','selftext'],\n",
    "                                         limit=5000)))\n",
    "relationships = pd.DataFrame(list(api.search_submissions(subreddit='relationships',\n",
    "                                         filter=['author','title','subreddit','selftext'],\n",
    "                                         limit=5000)))\n",
    "\n",
    "# store the scrapped data.\n",
    "confessions.to_csv('./data/confessions.csv')\n",
    "relationships.to_csv('./data/relationships.csv')"
   ]
  },
  {
   "cell_type": "code",
   "execution_count": null,
   "metadata": {
    "slideshow": {
     "slide_type": "skip"
    }
   },
   "outputs": [],
   "source": [
    "# %time\n",
    "## Scrapper using conventional methods\n",
    "# def reddit_scrapper(key,url,n_iterations=10):\n",
    "    \n",
    "#     #load_previous_file\n",
    "#     prev_posts = pd.read_csv('./data/' + str(key) + '.csv')\n",
    "#     print(\"Number of records loaded : {}\".format(prev_posts.shape[0]))\n",
    "    \n",
    "#     posts = []\n",
    "#     after = None\n",
    "\n",
    "#     for a in range(n_iterations):\n",
    "#         if after == None:\n",
    "#             current_url = url + '?limit=100'\n",
    "#         else:\n",
    "#             current_url = url + '?after=' + after + '&limit=100'\n",
    "#         print(current_url)\n",
    "#         res = requests.get(current_url, headers={'User-agent': 'Falcon 2.0'})\n",
    "\n",
    "#         if res.status_code != 200:\n",
    "#             print('Status error', res.status_code)\n",
    "#             break\n",
    "\n",
    "#         current_dict = res.json()\n",
    "#         current_posts = [p['data'] for p in current_dict['data']['children']]\n",
    "#         posts.extend(current_posts)\n",
    "#         after = current_dict['data']['after']\n",
    "\n",
    "#         # generate a random sleep duration to look more 'natural'\n",
    "#         sleep_duration = random.randint(2,6)\n",
    "        \n",
    "#         time.sleep(sleep_duration)\n",
    "    \n",
    "#     #add_to_existing\n",
    "#     posts = pd.DataFrame(posts)\n",
    "#     posts_df = posts.append(prev_posts,ignore_index=True)\n",
    "#     #remove duplicates\n",
    "#     #posts_df.drop_duplicates(inplace=True)\n",
    "#     print(\"Number of records stored : {}\".format(posts_df.shape[0]))\n",
    "#     posts_df.to_csv('./data/' + str(key) + '.csv', index = False)"
   ]
  },
  {
   "cell_type": "markdown",
   "metadata": {},
   "source": [
    "### Load in Data"
   ]
  },
  {
   "cell_type": "code",
   "execution_count": 3,
   "metadata": {},
   "outputs": [],
   "source": [
    "df_relationships = pd.read_csv('./data/relationships.csv')\n",
    "df_confessions = pd.read_csv('./data/confessions.csv')"
   ]
  },
  {
   "cell_type": "markdown",
   "metadata": {
    "slideshow": {
     "slide_type": "slide"
    }
   },
   "source": [
    "## Data Cleaning"
   ]
  },
  {
   "cell_type": "markdown",
   "metadata": {},
   "source": [
    "We create a `filter_columns` function that filters out the title, self text and subreddit name (our target)"
   ]
  },
  {
   "cell_type": "code",
   "execution_count": 4,
   "metadata": {},
   "outputs": [],
   "source": [
    "def filter_columns(df):\n",
    "    columns_to_retain = ['title','selftext','subreddit','author']\n",
    "    return df[columns_to_retain]"
   ]
  },
  {
   "cell_type": "code",
   "execution_count": 5,
   "metadata": {},
   "outputs": [],
   "source": [
    "df_relationships_clean = filter_columns(df_relationships)\n",
    "df_conf_clean = filter_columns(df_confessions)"
   ]
  },
  {
   "cell_type": "code",
   "execution_count": 71,
   "metadata": {
    "slideshow": {
     "slide_type": "subslide"
    }
   },
   "outputs": [
    {
     "data": {
      "text/plain": [
       "2925"
      ]
     },
     "metadata": {},
     "output_type": "display_data"
    },
    {
     "data": {
      "text/plain": [
       "3893"
      ]
     },
     "metadata": {},
     "output_type": "display_data"
    }
   ],
   "source": [
    "display(df_relationships_clean['title'].count())\n",
    "display(df_conf_clean['title'].count())"
   ]
  },
  {
   "cell_type": "markdown",
   "metadata": {},
   "source": [
    "We can observe that the classes are imbalanced. For our classification dataset, we will aim to have a 1:1 class balance."
   ]
  },
  {
   "cell_type": "code",
   "execution_count": 7,
   "metadata": {
    "slideshow": {
     "slide_type": "subslide"
    }
   },
   "outputs": [
    {
     "data": {
      "text/html": [
       "<div>\n",
       "<style scoped>\n",
       "    .dataframe tbody tr th:only-of-type {\n",
       "        vertical-align: middle;\n",
       "    }\n",
       "\n",
       "    .dataframe tbody tr th {\n",
       "        vertical-align: top;\n",
       "    }\n",
       "\n",
       "    .dataframe thead th {\n",
       "        text-align: right;\n",
       "    }\n",
       "</style>\n",
       "<table border=\"1\" class=\"dataframe\">\n",
       "  <thead>\n",
       "    <tr style=\"text-align: right;\">\n",
       "      <th></th>\n",
       "      <th>title</th>\n",
       "      <th>selftext</th>\n",
       "      <th>subreddit</th>\n",
       "      <th>author</th>\n",
       "    </tr>\n",
       "  </thead>\n",
       "  <tbody>\n",
       "    <tr>\n",
       "      <th>0</th>\n",
       "      <td>Hi I'm here to find my friends without anybody...</td>\n",
       "      <td>NaN</td>\n",
       "      <td>relationships</td>\n",
       "      <td>0100100001010000</td>\n",
       "    </tr>\n",
       "    <tr>\n",
       "      <th>1</th>\n",
       "      <td>My (M31) mind might be broken when i thi k abo...</td>\n",
       "      <td>[removed]</td>\n",
       "      <td>relationships</td>\n",
       "      <td>obviousThrowaway274</td>\n",
       "    </tr>\n",
       "    <tr>\n",
       "      <th>2</th>\n",
       "      <td>How do I (26m) apologize to my ex (25f) in a d...</td>\n",
       "      <td>Long story short, we broke up 4 months ago and...</td>\n",
       "      <td>relationships</td>\n",
       "      <td>Throwitallaway73734</td>\n",
       "    </tr>\n",
       "    <tr>\n",
       "      <th>3</th>\n",
       "      <td>Do you believe it's better to solve an argumen...</td>\n",
       "      <td>[removed]</td>\n",
       "      <td>relationships</td>\n",
       "      <td>EvenKealed</td>\n",
       "    </tr>\n",
       "    <tr>\n",
       "      <th>4</th>\n",
       "      <td>Am i broken?</td>\n",
       "      <td>[removed]</td>\n",
       "      <td>relationships</td>\n",
       "      <td>obviousThrowaway274</td>\n",
       "    </tr>\n",
       "  </tbody>\n",
       "</table>\n",
       "</div>"
      ],
      "text/plain": [
       "                                               title  \\\n",
       "0  Hi I'm here to find my friends without anybody...   \n",
       "1  My (M31) mind might be broken when i thi k abo...   \n",
       "2  How do I (26m) apologize to my ex (25f) in a d...   \n",
       "3  Do you believe it's better to solve an argumen...   \n",
       "4                                       Am i broken?   \n",
       "\n",
       "                                            selftext      subreddit  \\\n",
       "0                                                NaN  relationships   \n",
       "1                                          [removed]  relationships   \n",
       "2  Long story short, we broke up 4 months ago and...  relationships   \n",
       "3                                          [removed]  relationships   \n",
       "4                                          [removed]  relationships   \n",
       "\n",
       "                author  \n",
       "0     0100100001010000  \n",
       "1  obviousThrowaway274  \n",
       "2  Throwitallaway73734  \n",
       "3           EvenKealed  \n",
       "4  obviousThrowaway274  "
      ]
     },
     "execution_count": 7,
     "metadata": {},
     "output_type": "execute_result"
    }
   ],
   "source": [
    "df_relationships_clean.head()"
   ]
  },
  {
   "cell_type": "code",
   "execution_count": 8,
   "metadata": {
    "slideshow": {
     "slide_type": "subslide"
    }
   },
   "outputs": [
    {
     "data": {
      "text/html": [
       "<div>\n",
       "<style scoped>\n",
       "    .dataframe tbody tr th:only-of-type {\n",
       "        vertical-align: middle;\n",
       "    }\n",
       "\n",
       "    .dataframe tbody tr th {\n",
       "        vertical-align: top;\n",
       "    }\n",
       "\n",
       "    .dataframe thead th {\n",
       "        text-align: right;\n",
       "    }\n",
       "</style>\n",
       "<table border=\"1\" class=\"dataframe\">\n",
       "  <thead>\n",
       "    <tr style=\"text-align: right;\">\n",
       "      <th></th>\n",
       "      <th>title</th>\n",
       "      <th>selftext</th>\n",
       "      <th>subreddit</th>\n",
       "      <th>author</th>\n",
       "    </tr>\n",
       "  </thead>\n",
       "  <tbody>\n",
       "    <tr>\n",
       "      <th>0</th>\n",
       "      <td>Thought a girl was giving me a quarter and the...</td>\n",
       "      <td>So, this was back in 2nd grade. It's a normal ...</td>\n",
       "      <td>confessions</td>\n",
       "      <td>jessthatrandomperson</td>\n",
       "    </tr>\n",
       "    <tr>\n",
       "      <th>1</th>\n",
       "      <td>How can I enjoy my last few days?</td>\n",
       "      <td>I am going to die very soon. \\n\\nI am terrifie...</td>\n",
       "      <td>confessions</td>\n",
       "      <td>throwaway948118</td>\n",
       "    </tr>\n",
       "    <tr>\n",
       "      <th>2</th>\n",
       "      <td>I am a narcissistic asshole and I know it and ...</td>\n",
       "      <td>I am basically just a manipulative horrible pe...</td>\n",
       "      <td>confessions</td>\n",
       "      <td>royjorbison</td>\n",
       "    </tr>\n",
       "    <tr>\n",
       "      <th>3</th>\n",
       "      <td>I use Reddit as an audience for my puns</td>\n",
       "      <td>I can't go ten sentences without thinking of a...</td>\n",
       "      <td>confessions</td>\n",
       "      <td>anikdylan27</td>\n",
       "    </tr>\n",
       "    <tr>\n",
       "      <th>4</th>\n",
       "      <td>I'm sorry for being an asshole last night</td>\n",
       "      <td>To the guy I met last night, who's name escape...</td>\n",
       "      <td>confessions</td>\n",
       "      <td>roodeeMental</td>\n",
       "    </tr>\n",
       "  </tbody>\n",
       "</table>\n",
       "</div>"
      ],
      "text/plain": [
       "                                               title  \\\n",
       "0  Thought a girl was giving me a quarter and the...   \n",
       "1                  How can I enjoy my last few days?   \n",
       "2  I am a narcissistic asshole and I know it and ...   \n",
       "3            I use Reddit as an audience for my puns   \n",
       "4          I'm sorry for being an asshole last night   \n",
       "\n",
       "                                            selftext    subreddit  \\\n",
       "0  So, this was back in 2nd grade. It's a normal ...  confessions   \n",
       "1  I am going to die very soon. \\n\\nI am terrifie...  confessions   \n",
       "2  I am basically just a manipulative horrible pe...  confessions   \n",
       "3  I can't go ten sentences without thinking of a...  confessions   \n",
       "4  To the guy I met last night, who's name escape...  confessions   \n",
       "\n",
       "                 author  \n",
       "0  jessthatrandomperson  \n",
       "1       throwaway948118  \n",
       "2           royjorbison  \n",
       "3           anikdylan27  \n",
       "4          roodeeMental  "
      ]
     },
     "execution_count": 8,
     "metadata": {},
     "output_type": "execute_result"
    }
   ],
   "source": [
    "df_conf_clean.head()"
   ]
  },
  {
   "cell_type": "markdown",
   "metadata": {},
   "source": [
    "Prior to this, we may wish to remove posts that have 'Moderator' as an author to train our model on more 'authentic' posts."
   ]
  },
  {
   "cell_type": "code",
   "execution_count": 9,
   "metadata": {},
   "outputs": [],
   "source": [
    "df_relationships_clean.loc[:,'author'] = df_relationships_clean.author.map(lambda x : x.lower())\n",
    "df_conf_clean.loc[:,'author'] = df_conf_clean.author.map(lambda x : x.lower())"
   ]
  },
  {
   "cell_type": "code",
   "execution_count": 10,
   "metadata": {},
   "outputs": [],
   "source": [
    "df_relationships_clean = df_relationships_clean[~df_relationships_clean.author.str.contains('moderator')]\n",
    "df_conf_clean = df_conf_clean[~df_conf_clean.author.str.contains('moderator')]"
   ]
  },
  {
   "cell_type": "code",
   "execution_count": 11,
   "metadata": {
    "slideshow": {
     "slide_type": "subslide"
    }
   },
   "outputs": [
    {
     "data": {
      "text/plain": [
       "title         0\n",
       "selftext     16\n",
       "subreddit     0\n",
       "author        0\n",
       "dtype: int64"
      ]
     },
     "execution_count": 11,
     "metadata": {},
     "output_type": "execute_result"
    }
   ],
   "source": [
    "df_relationships_clean.isna().sum()"
   ]
  },
  {
   "cell_type": "code",
   "execution_count": 12,
   "metadata": {
    "slideshow": {
     "slide_type": "subslide"
    }
   },
   "outputs": [
    {
     "data": {
      "text/plain": [
       "title          0\n",
       "selftext     739\n",
       "subreddit      0\n",
       "author         0\n",
       "dtype: int64"
      ]
     },
     "execution_count": 12,
     "metadata": {},
     "output_type": "execute_result"
    }
   ],
   "source": [
    "df_conf_clean.isna().sum()"
   ]
  },
  {
   "cell_type": "markdown",
   "metadata": {},
   "source": [
    "We also observe empty selftext in both subreddits. we shall drop rows with empty selftext."
   ]
  },
  {
   "cell_type": "code",
   "execution_count": 13,
   "metadata": {},
   "outputs": [],
   "source": [
    "df_relationships_clean = df_relationships_clean.dropna(axis=0)\n",
    "df_conf_clean = df_conf_clean.dropna(axis=0)"
   ]
  },
  {
   "cell_type": "markdown",
   "metadata": {
    "slideshow": {
     "slide_type": "subslide"
    }
   },
   "source": [
    "Ensure only posts with selftext more than 10words are selected."
   ]
  },
  {
   "cell_type": "code",
   "execution_count": 14,
   "metadata": {
    "slideshow": {
     "slide_type": "fragment"
    }
   },
   "outputs": [],
   "source": [
    "df_relationships_clean ['selftext_len'] = df_relationships_clean .selftext.map(lambda x: len(x.split()))\n",
    "df_relationships_clean  = df_relationships_clean [df_relationships_clean .selftext_len > 10]\n",
    "df_conf_clean['selftext_len'] = df_conf_clean.selftext.map(lambda x: len(x.split()))\n",
    "df_conf_clean = df_conf_clean[df_conf_clean.selftext_len > 10]"
   ]
  },
  {
   "cell_type": "code",
   "execution_count": 15,
   "metadata": {},
   "outputs": [],
   "source": [
    "df_relationships_clean.drop_duplicates(inplace=True)\n",
    "df_conf_clean.drop_duplicates(inplace=True)"
   ]
  },
  {
   "cell_type": "markdown",
   "metadata": {
    "slideshow": {
     "slide_type": "slide"
    }
   },
   "source": [
    "## Value Counts "
   ]
  },
  {
   "cell_type": "code",
   "execution_count": 16,
   "metadata": {
    "slideshow": {
     "slide_type": "subslide"
    }
   },
   "outputs": [
    {
     "data": {
      "text/plain": [
       "title           2925\n",
       "selftext        2925\n",
       "subreddit       2925\n",
       "author          2925\n",
       "selftext_len    2925\n",
       "dtype: int64"
      ]
     },
     "metadata": {},
     "output_type": "display_data"
    },
    {
     "data": {
      "text/plain": [
       "title           3893\n",
       "selftext        3893\n",
       "subreddit       3893\n",
       "author          3893\n",
       "selftext_len    3893\n",
       "dtype: int64"
      ]
     },
     "metadata": {},
     "output_type": "display_data"
    }
   ],
   "source": [
    "display(df_relationships_clean.count())\n",
    "display(df_conf_clean.count())"
   ]
  },
  {
   "cell_type": "code",
   "execution_count": 17,
   "metadata": {
    "slideshow": {
     "slide_type": "skip"
    }
   },
   "outputs": [
    {
     "name": "stdout",
     "output_type": "stream",
     "text": [
      "[deleted] Counts:\n"
     ]
    },
    {
     "data": {
      "text/plain": [
       "False    2925\n",
       "Name: title, dtype: int64"
      ]
     },
     "metadata": {},
     "output_type": "display_data"
    },
    {
     "data": {
      "text/plain": [
       "False    3893\n",
       "Name: title, dtype: int64"
      ]
     },
     "metadata": {},
     "output_type": "display_data"
    },
    {
     "name": "stdout",
     "output_type": "stream",
     "text": [
      "[removed] Counts:\n"
     ]
    },
    {
     "data": {
      "text/plain": [
       "False    2925\n",
       "Name: title, dtype: int64"
      ]
     },
     "metadata": {},
     "output_type": "display_data"
    },
    {
     "data": {
      "text/plain": [
       "False    3893\n",
       "Name: title, dtype: int64"
      ]
     },
     "metadata": {},
     "output_type": "display_data"
    }
   ],
   "source": [
    "# check posts with [deleted] or [removed]\n",
    "print(\"[deleted] Counts:\")\n",
    "display((df_relationships_clean.title == '[deleted]').value_counts())\n",
    "display((df_conf_clean.title == '[deleted]').value_counts())\n",
    "print(\"[removed] Counts:\")\n",
    "display((df_relationships_clean.title == '[removed]').value_counts())\n",
    "display((df_conf_clean.title == '[removed]').value_counts())"
   ]
  },
  {
   "cell_type": "markdown",
   "metadata": {},
   "source": [
    "We will then randomly select 2900 of each class since quite a significant number were from a moderator-author as well as empty text."
   ]
  },
  {
   "cell_type": "code",
   "execution_count": 18,
   "metadata": {
    "slideshow": {
     "slide_type": "subslide"
    }
   },
   "outputs": [],
   "source": [
    "subset_relationships_clean = df_relationships_clean.sample(n=2900,random_state=666)\n",
    "subset_conf_clean = df_conf_clean.sample(n=2900,random_state=666)"
   ]
  },
  {
   "cell_type": "markdown",
   "metadata": {
    "slideshow": {
     "slide_type": "slide"
    }
   },
   "source": [
    "## Class Balance"
   ]
  },
  {
   "cell_type": "code",
   "execution_count": 54,
   "metadata": {
    "slideshow": {
     "slide_type": "subslide"
    }
   },
   "outputs": [
    {
     "data": {
      "text/plain": [
       "confessions      0.5\n",
       "relationships    0.5\n",
       "Name: subreddit, dtype: float64"
      ]
     },
     "execution_count": 54,
     "metadata": {},
     "output_type": "execute_result"
    }
   ],
   "source": [
    "# combine both subsets into a DF\n",
    "df_pre = subset_relationships_clean.append(subset_conf_clean,ignore_index=True)\n",
    "df_pre.subreddit.value_counts(normalize=True)"
   ]
  },
  {
   "cell_type": "markdown",
   "metadata": {
    "slideshow": {
     "slide_type": "slide"
    }
   },
   "source": [
    "## Target Encoding"
   ]
  },
  {
   "cell_type": "code",
   "execution_count": 20,
   "metadata": {
    "slideshow": {
     "slide_type": "subslide"
    }
   },
   "outputs": [
    {
     "data": {
      "text/html": [
       "<div>\n",
       "<style scoped>\n",
       "    .dataframe tbody tr th:only-of-type {\n",
       "        vertical-align: middle;\n",
       "    }\n",
       "\n",
       "    .dataframe tbody tr th {\n",
       "        vertical-align: top;\n",
       "    }\n",
       "\n",
       "    .dataframe thead th {\n",
       "        text-align: right;\n",
       "    }\n",
       "</style>\n",
       "<table border=\"1\" class=\"dataframe\">\n",
       "  <thead>\n",
       "    <tr style=\"text-align: right;\">\n",
       "      <th></th>\n",
       "      <th>title</th>\n",
       "      <th>selftext</th>\n",
       "      <th>subreddit</th>\n",
       "      <th>author</th>\n",
       "      <th>selftext_len</th>\n",
       "      <th>label</th>\n",
       "    </tr>\n",
       "  </thead>\n",
       "  <tbody>\n",
       "    <tr>\n",
       "      <th>0</th>\n",
       "      <td>I (F18) am questioning the intentions of a ran...</td>\n",
       "      <td>My lovely (quite attractive) new boyfriend (M1...</td>\n",
       "      <td>relationships</td>\n",
       "      <td>boterbabbelaartje</td>\n",
       "      <td>334</td>\n",
       "      <td>0</td>\n",
       "    </tr>\n",
       "    <tr>\n",
       "      <th>1</th>\n",
       "      <td>Jealousy</td>\n",
       "      <td>My boyfriend(29m) and I(30f) have been togethe...</td>\n",
       "      <td>relationships</td>\n",
       "      <td>taramarie87</td>\n",
       "      <td>103</td>\n",
       "      <td>0</td>\n",
       "    </tr>\n",
       "    <tr>\n",
       "      <th>2</th>\n",
       "      <td>I [28F] wants sex all the time. I've made this...</td>\n",
       "      <td>Lately, I've been wanting more sex. To have se...</td>\n",
       "      <td>relationships</td>\n",
       "      <td>missionblueberry</td>\n",
       "      <td>236</td>\n",
       "      <td>0</td>\n",
       "    </tr>\n",
       "    <tr>\n",
       "      <th>3</th>\n",
       "      <td>I [32m] am having issues with jealousy with my...</td>\n",
       "      <td>Hooo boy. Here we go. \\n\\nMy wife and I have b...</td>\n",
       "      <td>relationships</td>\n",
       "      <td>dcsrm</td>\n",
       "      <td>438</td>\n",
       "      <td>0</td>\n",
       "    </tr>\n",
       "    <tr>\n",
       "      <th>4</th>\n",
       "      <td>Is my girlfriend into wedgies?</td>\n",
       "      <td>My girlfriend (F 21yrs old) and I (M 32yrs old...</td>\n",
       "      <td>relationships</td>\n",
       "      <td>davidsardinas36</td>\n",
       "      <td>73</td>\n",
       "      <td>0</td>\n",
       "    </tr>\n",
       "  </tbody>\n",
       "</table>\n",
       "</div>"
      ],
      "text/plain": [
       "                                               title  \\\n",
       "0  I (F18) am questioning the intentions of a ran...   \n",
       "1                                           Jealousy   \n",
       "2  I [28F] wants sex all the time. I've made this...   \n",
       "3  I [32m] am having issues with jealousy with my...   \n",
       "4                     Is my girlfriend into wedgies?   \n",
       "\n",
       "                                            selftext      subreddit  \\\n",
       "0  My lovely (quite attractive) new boyfriend (M1...  relationships   \n",
       "1  My boyfriend(29m) and I(30f) have been togethe...  relationships   \n",
       "2  Lately, I've been wanting more sex. To have se...  relationships   \n",
       "3  Hooo boy. Here we go. \\n\\nMy wife and I have b...  relationships   \n",
       "4  My girlfriend (F 21yrs old) and I (M 32yrs old...  relationships   \n",
       "\n",
       "              author  selftext_len  label  \n",
       "0  boterbabbelaartje           334      0  \n",
       "1        taramarie87           103      0  \n",
       "2   missionblueberry           236      0  \n",
       "3              dcsrm           438      0  \n",
       "4    davidsardinas36            73      0  "
      ]
     },
     "execution_count": 20,
     "metadata": {},
     "output_type": "execute_result"
    }
   ],
   "source": [
    "# create target class columns 0 = relationships, 1 = confessions - encoding\n",
    "\n",
    "df_pre['label'] = df_pre.subreddit.map({'relationships':0,'confessions':1}).astype('int')\n",
    "df_pre.head()"
   ]
  },
  {
   "cell_type": "markdown",
   "metadata": {
    "slideshow": {
     "slide_type": "slide"
    }
   },
   "source": [
    "### Cleaning Function"
   ]
  },
  {
   "cell_type": "markdown",
   "metadata": {
    "slideshow": {
     "slide_type": "subslide"
    }
   },
   "source": [
    "Ensure formatting of text by:\n",
    "- Converting all to lower cases\n",
    "- removing groups of words in parentheses\n",
    "- remove line breaks\n",
    "- removing special characters\n"
   ]
  },
  {
   "cell_type": "code",
   "execution_count": 21,
   "metadata": {
    "slideshow": {
     "slide_type": "subslide"
    }
   },
   "outputs": [],
   "source": [
    "# convert the stop words to a set.\n",
    "stops = set(stopwords.words('english'))\n",
    "\n",
    "def clean_text(text):\n",
    "    #01 convert titles, selftext into lowercase\n",
    "    lower_text = text.lower()\n",
    "    #02 remove brackets and parenthesis from the title and selftext.\n",
    "    no_br_paret_text = re.sub(r'\\(.+?\\)|\\[.+?\\]',' ',str(lower_text))\n",
    "    #03 remove special characters\n",
    "    removed_special = re.sub(r'[^0-9a-zA-Z ]+',' ',str(no_br_paret_text))\n",
    "    #04 remove xamp200b\n",
    "    remove_xamp200b = re.sub(r'ampx200b',' ',str(removed_special))\n",
    "    #05 remove digits\n",
    "    result = re.sub(r'\\d+', '', remove_xamp200b).split()\n",
    "    #06 split into individual words\n",
    "    meaningful_words = [w for w in result if not w in stops]\n",
    "    \n",
    "    #07 Join the words back into one string separated by space, \n",
    "    # and return the result.\n",
    "    return(\" \".join(meaningful_words))\n"
   ]
  },
  {
   "cell_type": "code",
   "execution_count": 24,
   "metadata": {
    "slideshow": {
     "slide_type": "skip"
    }
   },
   "outputs": [
    {
     "data": {
      "text/html": [
       "<div>\n",
       "<style scoped>\n",
       "    .dataframe tbody tr th:only-of-type {\n",
       "        vertical-align: middle;\n",
       "    }\n",
       "\n",
       "    .dataframe tbody tr th {\n",
       "        vertical-align: top;\n",
       "    }\n",
       "\n",
       "    .dataframe thead th {\n",
       "        text-align: right;\n",
       "    }\n",
       "</style>\n",
       "<table border=\"1\" class=\"dataframe\">\n",
       "  <thead>\n",
       "    <tr style=\"text-align: right;\">\n",
       "      <th></th>\n",
       "      <th>title</th>\n",
       "      <th>selftext</th>\n",
       "      <th>subreddit</th>\n",
       "      <th>author</th>\n",
       "      <th>selftext_len</th>\n",
       "      <th>label</th>\n",
       "    </tr>\n",
       "  </thead>\n",
       "  <tbody>\n",
       "    <tr>\n",
       "      <th>0</th>\n",
       "      <td>questioning intentions random new girl asked b...</td>\n",
       "      <td>lovely new boyfriend told girl cig outside sch...</td>\n",
       "      <td>relationships</td>\n",
       "      <td>boterbabbelaartje</td>\n",
       "      <td>334</td>\n",
       "      <td>0</td>\n",
       "    </tr>\n",
       "    <tr>\n",
       "      <th>1</th>\n",
       "      <td>jealousy</td>\n",
       "      <td>boyfriend together almost years two beautiful ...</td>\n",
       "      <td>relationships</td>\n",
       "      <td>taramarie87</td>\n",
       "      <td>103</td>\n",
       "      <td>0</td>\n",
       "    </tr>\n",
       "    <tr>\n",
       "      <th>2</th>\n",
       "      <td>wants sex time made known whose</td>\n",
       "      <td>lately wanting sex sex time bit back story rel...</td>\n",
       "      <td>relationships</td>\n",
       "      <td>missionblueberry</td>\n",
       "      <td>236</td>\n",
       "      <td>0</td>\n",
       "    </tr>\n",
       "    <tr>\n",
       "      <th>3</th>\n",
       "      <td>issues jealousy wife stage acting</td>\n",
       "      <td>hooo boy go wife married years coming ups down...</td>\n",
       "      <td>relationships</td>\n",
       "      <td>dcsrm</td>\n",
       "      <td>438</td>\n",
       "      <td>0</td>\n",
       "    </tr>\n",
       "    <tr>\n",
       "      <th>4</th>\n",
       "      <td>girlfriend wedgies</td>\n",
       "      <td>girlfriend together months used phone look som...</td>\n",
       "      <td>relationships</td>\n",
       "      <td>davidsardinas36</td>\n",
       "      <td>73</td>\n",
       "      <td>0</td>\n",
       "    </tr>\n",
       "  </tbody>\n",
       "</table>\n",
       "</div>"
      ],
      "text/plain": [
       "                                               title  \\\n",
       "0  questioning intentions random new girl asked b...   \n",
       "1                                           jealousy   \n",
       "2                    wants sex time made known whose   \n",
       "3                  issues jealousy wife stage acting   \n",
       "4                                 girlfriend wedgies   \n",
       "\n",
       "                                            selftext      subreddit  \\\n",
       "0  lovely new boyfriend told girl cig outside sch...  relationships   \n",
       "1  boyfriend together almost years two beautiful ...  relationships   \n",
       "2  lately wanting sex sex time bit back story rel...  relationships   \n",
       "3  hooo boy go wife married years coming ups down...  relationships   \n",
       "4  girlfriend together months used phone look som...  relationships   \n",
       "\n",
       "              author  selftext_len  label  \n",
       "0  boterbabbelaartje           334      0  \n",
       "1        taramarie87           103      0  \n",
       "2   missionblueberry           236      0  \n",
       "3              dcsrm           438      0  \n",
       "4    davidsardinas36            73      0  "
      ]
     },
     "execution_count": 24,
     "metadata": {},
     "output_type": "execute_result"
    }
   ],
   "source": [
    "df[['title','selftext']] = df_pre[['title','selftext']].applymap(clean_text)\n",
    "df.head()"
   ]
  },
  {
   "cell_type": "markdown",
   "metadata": {
    "slideshow": {
     "slide_type": "slide"
    }
   },
   "source": [
    "## Post Cleaning"
   ]
  },
  {
   "cell_type": "code",
   "execution_count": 25,
   "metadata": {
    "slideshow": {
     "slide_type": "subslide"
    }
   },
   "outputs": [
    {
     "data": {
      "text/html": [
       "<div>\n",
       "<style scoped>\n",
       "    .dataframe tbody tr th:only-of-type {\n",
       "        vertical-align: middle;\n",
       "    }\n",
       "\n",
       "    .dataframe tbody tr th {\n",
       "        vertical-align: top;\n",
       "    }\n",
       "\n",
       "    .dataframe thead th {\n",
       "        text-align: right;\n",
       "    }\n",
       "</style>\n",
       "<table border=\"1\" class=\"dataframe\">\n",
       "  <thead>\n",
       "    <tr style=\"text-align: right;\">\n",
       "      <th></th>\n",
       "      <th>pre</th>\n",
       "      <th>post</th>\n",
       "    </tr>\n",
       "  </thead>\n",
       "  <tbody>\n",
       "    <tr>\n",
       "      <th>0</th>\n",
       "      <td>lovely new boyfriend told girl cig outside sch...</td>\n",
       "      <td>lovely new boyfriend told girl cig outside sch...</td>\n",
       "    </tr>\n",
       "    <tr>\n",
       "      <th>1</th>\n",
       "      <td>boyfriend together almost years two beautiful ...</td>\n",
       "      <td>boyfriend together almost years two beautiful ...</td>\n",
       "    </tr>\n",
       "    <tr>\n",
       "      <th>2</th>\n",
       "      <td>lately wanting sex sex time bit back story rel...</td>\n",
       "      <td>lately wanting sex sex time bit back story rel...</td>\n",
       "    </tr>\n",
       "    <tr>\n",
       "      <th>3</th>\n",
       "      <td>hooo boy go wife married years coming ups down...</td>\n",
       "      <td>hooo boy go wife married years coming ups down...</td>\n",
       "    </tr>\n",
       "    <tr>\n",
       "      <th>4</th>\n",
       "      <td>girlfriend together months used phone look som...</td>\n",
       "      <td>girlfriend together months used phone look som...</td>\n",
       "    </tr>\n",
       "  </tbody>\n",
       "</table>\n",
       "</div>"
      ],
      "text/plain": [
       "                                                 pre  \\\n",
       "0  lovely new boyfriend told girl cig outside sch...   \n",
       "1  boyfriend together almost years two beautiful ...   \n",
       "2  lately wanting sex sex time bit back story rel...   \n",
       "3  hooo boy go wife married years coming ups down...   \n",
       "4  girlfriend together months used phone look som...   \n",
       "\n",
       "                                                post  \n",
       "0  lovely new boyfriend told girl cig outside sch...  \n",
       "1  boyfriend together almost years two beautiful ...  \n",
       "2  lately wanting sex sex time bit back story rel...  \n",
       "3  hooo boy go wife married years coming ups down...  \n",
       "4  girlfriend together months used phone look som...  "
      ]
     },
     "execution_count": 25,
     "metadata": {},
     "output_type": "execute_result"
    }
   ],
   "source": [
    "pd.DataFrame(data=zip(df_pre['selftext'],df['selftext']),columns=['pre','post']).head(5)"
   ]
  },
  {
   "cell_type": "markdown",
   "metadata": {
    "slideshow": {
     "slide_type": "slide"
    }
   },
   "source": [
    "## Data Exploration"
   ]
  },
  {
   "cell_type": "markdown",
   "metadata": {},
   "source": [
    "Split title and self text into two classifiers where the output of title_classifier and self_text classifier would provide indication of subreddit belonging."
   ]
  },
  {
   "cell_type": "code",
   "execution_count": 26,
   "metadata": {},
   "outputs": [],
   "source": [
    "#split titles, and self text into seperate df\n",
    "\n",
    "df_title = df[['title','label']]\n",
    "df_selftext = df[['selftext','label']]"
   ]
  },
  {
   "cell_type": "code",
   "execution_count": 27,
   "metadata": {},
   "outputs": [],
   "source": [
    "def get_freq_words(sparse_counts, columns):\n",
    "    # X_all is a sparse matrix, so sum() returns a 'matrix' datatype ...\n",
    "    #   which we then convert into a 1-D ndarray for sorting\n",
    "    word_counts = np.asarray(sparse_counts.sum(axis=0)).reshape(-1)\n",
    "\n",
    "    # argsort() returns smallest first, so we reverse the result\n",
    "    largest_count_indices = word_counts.argsort()[::-1]\n",
    "\n",
    "    # pretty-print the results! Remember to always ask whether they make sense ...\n",
    "    freq_words = pd.Series(word_counts[largest_count_indices], \n",
    "                           index=columns[largest_count_indices])\n",
    "\n",
    "    return freq_words"
   ]
  },
  {
   "cell_type": "code",
   "execution_count": 28,
   "metadata": {},
   "outputs": [],
   "source": [
    "# Let's use the CountVectorizer to count words for us for each class\n",
    "\n",
    "# create mask\n",
    "\n",
    "X_1 = df_selftext[df_selftext['label'] == 1]\n",
    "X_0 = df_selftext[df_selftext['label'] == 0]\n",
    "\n",
    "cvt      =  CountVectorizer(ngram_range=(1,1),stop_words='english')\n",
    "X_1_all    =  cvt.fit_transform(X_1['selftext'])\n",
    "X_0_all    =  cvt.fit_transform(X_0['selftext'])\n",
    "columns_1  =  np.array(cvt.get_feature_names())          # ndarray (for indexing below)\n",
    "columns_0  =  np.array(cvt.get_feature_names())    "
   ]
  },
  {
   "cell_type": "code",
   "execution_count": 65,
   "metadata": {
    "slideshow": {
     "slide_type": "skip"
    }
   },
   "outputs": [],
   "source": [
    "freq_words_1 = get_freq_words(X_1_all, columns_1)\n",
    "freq_words_0 = get_freq_words(X_0_all, columns_0)\n"
   ]
  },
  {
   "cell_type": "code",
   "execution_count": 68,
   "metadata": {
    "slideshow": {
     "slide_type": "subslide"
    }
   },
   "outputs": [
    {
     "name": "stdout",
     "output_type": "stream",
     "text": [
      "Confessions:\n"
     ]
    },
    {
     "data": {
      "text/plain": [
       "landlord       3063\n",
       "msg            2325\n",
       "jeopardise     1979\n",
       "teachings      1721\n",
       "eyes           1674\n",
       "pur            1506\n",
       "user           1438\n",
       "overworking    1405\n",
       "generic        1133\n",
       "lacking        1109\n",
       "dtype: int64"
      ]
     },
     "metadata": {},
     "output_type": "display_data"
    },
    {
     "name": "stdout",
     "output_type": "stream",
     "text": [
      "\n",
      "\n",
      "Relationships:\n"
     ]
    },
    {
     "data": {
      "text/plain": [
       "like            6690\n",
       "time            4761\n",
       "know            4694\n",
       "want            4630\n",
       "really          4235\n",
       "feel            4000\n",
       "relationship    3744\n",
       "said            3245\n",
       "things          3070\n",
       "told            2999\n",
       "dtype: int64"
      ]
     },
     "metadata": {},
     "output_type": "display_data"
    }
   ],
   "source": [
    "print('Confessions:')\n",
    "display(freq_words_1[:10])\n",
    "print(\"\\n\")\n",
    "print('Relationships:')\n",
    "display(freq_words_0[:10])"
   ]
  },
  {
   "cell_type": "markdown",
   "metadata": {},
   "source": [
    "### Split selftext "
   ]
  },
  {
   "cell_type": "code",
   "execution_count": 30,
   "metadata": {},
   "outputs": [],
   "source": [
    "X_text = df_selftext['selftext']\n",
    "y_text = df_selftext['label']\n",
    "\n",
    "X_text_train, X_text_test, y_text_train, y_text_test = train_test_split(X_text,y_text,stratify=y_text) "
   ]
  },
  {
   "cell_type": "markdown",
   "metadata": {},
   "source": [
    "# Data Modeling"
   ]
  },
  {
   "cell_type": "code",
   "execution_count": 31,
   "metadata": {},
   "outputs": [],
   "source": [
    "class LemmaTokenizer(object):\n",
    "    def __init__(self):\n",
    "        self.wnl = WordNetLemmatizer()\n",
    "    def __call__(self, doc):\n",
    "        return [self.wnl.lemmatize(t) for t in word_tokenize(doc)]"
   ]
  },
  {
   "cell_type": "markdown",
   "metadata": {},
   "source": [
    "Use Naive Bayers model - MultinomialNB as there are multiple nominal features in the form of the various tokens."
   ]
  },
  {
   "cell_type": "code",
   "execution_count": 34,
   "metadata": {},
   "outputs": [
    {
     "name": "stderr",
     "output_type": "stream",
     "text": [
      "[Parallel(n_jobs=1)]: Using backend SequentialBackend with 1 concurrent workers.\n",
      "[Parallel(n_jobs=1)]: Done   5 out of   5 | elapsed:   36.8s finished\n"
     ]
    },
    {
     "name": "stdout",
     "output_type": "stream",
     "text": [
      "              precision    recall  f1-score   support\n",
      "\n",
      "     class 0       0.77      0.95      0.85       725\n",
      "     class 1       0.93      0.71      0.81       725\n",
      "\n",
      "    accuracy                           0.83      1450\n",
      "   macro avg       0.85      0.83      0.83      1450\n",
      "weighted avg       0.85      0.83      0.83      1450\n",
      "\n",
      "Cross val score for mnb classifier using cvec vectorizer is [0.80114943 0.80689655 0.86321839 0.81724138 0.79770115]\n",
      "Accuracy score for mnb classifier using cvec vectorizer is 0.8289655172413793\n"
     ]
    },
    {
     "name": "stderr",
     "output_type": "stream",
     "text": [
      "[Parallel(n_jobs=1)]: Using backend SequentialBackend with 1 concurrent workers.\n",
      "[Parallel(n_jobs=1)]: Done   5 out of   5 | elapsed:   35.8s finished\n"
     ]
    },
    {
     "name": "stdout",
     "output_type": "stream",
     "text": [
      "              precision    recall  f1-score   support\n",
      "\n",
      "     class 0       0.65      0.99      0.78       725\n",
      "     class 1       0.98      0.46      0.63       725\n",
      "\n",
      "    accuracy                           0.73      1450\n",
      "   macro avg       0.82      0.73      0.71      1450\n",
      "weighted avg       0.82      0.73      0.71      1450\n",
      "\n",
      "Cross val score for mnb classifier using tfvec vectorizer is [0.71149425 0.70689655 0.74712644 0.73448276 0.7045977 ]\n",
      "Accuracy score for mnb classifier using tfvec vectorizer is 0.7282758620689656\n"
     ]
    }
   ],
   "source": [
    "classifiers = []\n",
    "vectorizers = [('cvec', CountVectorizer(stop_words='english',tokenizer=LemmaTokenizer())),\n",
    "              ('tfvec', TfidfVectorizer(stop_words='english',tokenizer=LemmaTokenizer()))]\n",
    "\n",
    "for vectorizer in vectorizers:\n",
    "    bayes_pipe = Pipeline([\n",
    "            (vectorizer),\n",
    "            ('mnb', MultinomialNB())\n",
    "        ])\n",
    "    scores = cross_val_score(bayes_pipe, X_text_train, y_text_train,cv=5,verbose=1)\n",
    "    b = bayes_pipe.fit(X_text_train, y_text_train)\n",
    "    y_pred = b.predict(X_text_test)\n",
    "    print(classification_report(y_text_test, y_pred, target_names=['class 0','class 1']))\n",
    "    print('Cross val score for mnb classifier using {} vectorizer is {}'.format(vectorizer[0],scores))\n",
    "    print('Accuracy score for mnb classifier using {} vectorizer is {}'.format(vectorizer[0],bayes_pipe.score(X_text_test, y_text_test)))"
   ]
  },
  {
   "cell_type": "markdown",
   "metadata": {},
   "source": [
    "Thus the recall scores for multonomial NB with countvectorizer seems to provide higher recall when compared to the tfidf vectorizer."
   ]
  },
  {
   "cell_type": "code",
   "execution_count": 61,
   "metadata": {},
   "outputs": [],
   "source": [
    "# store predicted_proba scores for later evaluation under ROC curve\n",
    "def generate_roc(pipeline):\n",
    "\n",
    "    b = pipeline.fit(X_text_train, y_text_train)\n",
    "    print(f\"Train Score:{round(b.score(X_text_train, y_text_train),2)} / Test Score {round(b.score(X_text_test, y_text_test),2)}\")\n",
    "    fpr, tpr, _ = roc_curve(y_text_test, b.predict_proba(X_text_test)[:,1],pos_label=1)\n",
    "    \n",
    "    return [fpr,tpr]\n"
   ]
  },
  {
   "cell_type": "code",
   "execution_count": 62,
   "metadata": {},
   "outputs": [],
   "source": [
    "cv_bayes_pipe = Pipeline([\n",
    "            (vectorizers[0]),\n",
    "            ('mnb', MultinomialNB())\n",
    "        ])"
   ]
  },
  {
   "cell_type": "code",
   "execution_count": 57,
   "metadata": {},
   "outputs": [
    {
     "name": "stdout",
     "output_type": "stream",
     "text": [
      "Train Score:0.8110344827586207 / Test Score 0.7282758620689656\n"
     ]
    }
   ],
   "source": [
    "tfidf_bayes_pipe = Pipeline([\n",
    "            (vectorizers[1]),\n",
    "            ('mnb', MultinomialNB())\n",
    "        ])"
   ]
  },
  {
   "cell_type": "markdown",
   "metadata": {},
   "source": [
    "## Pipeline for Logistic Regression Baseline"
   ]
  },
  {
   "cell_type": "code",
   "execution_count": 58,
   "metadata": {
    "slideshow": {
     "slide_type": "slide"
    }
   },
   "outputs": [],
   "source": [
    "pipe = Pipeline([\n",
    "    ('cvec', CountVectorizer(stop_words='english',tokenizer=LemmaTokenizer())),\n",
    "    ('lr', LogisticRegression(solver='saga',max_iter=300))\n",
    "])"
   ]
  },
  {
   "cell_type": "markdown",
   "metadata": {},
   "source": [
    "#### Obtain hyperparameters for our vectorizer and logistic regressor."
   ]
  },
  {
   "cell_type": "code",
   "execution_count": 59,
   "metadata": {
    "slideshow": {
     "slide_type": "subslide"
    }
   },
   "outputs": [
    {
     "name": "stdout",
     "output_type": "stream",
     "text": [
      "Fitting 5 folds for each of 324 candidates, totalling 1620 fits\n"
     ]
    },
    {
     "name": "stderr",
     "output_type": "stream",
     "text": [
      "[Parallel(n_jobs=-1)]: Using backend LokyBackend with 4 concurrent workers.\n",
      "[Parallel(n_jobs=-1)]: Done  42 tasks      | elapsed:  1.2min\n",
      "[Parallel(n_jobs=-1)]: Done 192 tasks      | elapsed:  6.8min\n",
      "[Parallel(n_jobs=-1)]: Done 442 tasks      | elapsed: 17.1min\n",
      "[Parallel(n_jobs=-1)]: Done 792 tasks      | elapsed: 31.7min\n",
      "[Parallel(n_jobs=-1)]: Done 1242 tasks      | elapsed: 51.9min\n",
      "[Parallel(n_jobs=-1)]: Done 1620 out of 1620 | elapsed: 71.1min finished\n"
     ]
    },
    {
     "name": "stdout",
     "output_type": "stream",
     "text": [
      "0.9154022988505747\n"
     ]
    }
   ],
   "source": [
    "pipe_params = {\n",
    "    'cvec__max_features': [2500, 3000, 3500],\n",
    "    'cvec__ngram_range': [(1,1), (1,2)],\n",
    "    'lr__penalty' : ['elasticnet'],\n",
    "    'lr__C' : np.arange(0.1,1,0.1),\n",
    "    'lr__l1_ratio' : np.arange(0,1.1,0.2)\n",
    "}\n",
    "\n",
    "gs = GridSearchCV(pipe, param_grid=pipe_params, cv=5,verbose=1,n_jobs=-1)\n",
    "gs.fit(X_text_train, y_text_train)\n",
    "print(gs.best_score_)"
   ]
  },
  {
   "cell_type": "code",
   "execution_count": 60,
   "metadata": {},
   "outputs": [
    {
     "data": {
      "text/plain": [
       "{'cvec__max_features': 2500,\n",
       " 'cvec__ngram_range': (1, 1),\n",
       " 'lr__C': 0.1,\n",
       " 'lr__l1_ratio': 1.0,\n",
       " 'lr__penalty': 'elasticnet'}"
      ]
     },
     "execution_count": 60,
     "metadata": {},
     "output_type": "execute_result"
    }
   ],
   "source": [
    "gs.best_params_"
   ]
  },
  {
   "cell_type": "code",
   "execution_count": 61,
   "metadata": {},
   "outputs": [
    {
     "data": {
      "text/plain": [
       "0.9186206896551724"
      ]
     },
     "execution_count": 61,
     "metadata": {},
     "output_type": "execute_result"
    }
   ],
   "source": [
    "gs.best_estimator_.score(X_text_test,y_text_test)"
   ]
  },
  {
   "cell_type": "code",
   "execution_count": 49,
   "metadata": {},
   "outputs": [],
   "source": [
    "# try model on title\n",
    "optimal_pipe = Pipeline([\n",
    "            ('cvec', CountVectorizer(tokenizer=LemmaTokenizer(),max_features=2500,ngram_range=(1,1))),\n",
    "            ('lr', LogisticRegression(solver='saga',max_iter=300,C=0.1,l1_ratio=1.0,penalty='elasticnet'))\n",
    "        ])"
   ]
  },
  {
   "cell_type": "code",
   "execution_count": 50,
   "metadata": {},
   "outputs": [],
   "source": [
    "X_title = df_title['title']\n",
    "y_title = df_title['label']"
   ]
  },
  {
   "cell_type": "code",
   "execution_count": 51,
   "metadata": {},
   "outputs": [
    {
     "data": {
      "text/plain": [
       "Pipeline(memory=None,\n",
       "         steps=[('cvec',\n",
       "                 CountVectorizer(analyzer='word', binary=False,\n",
       "                                 decode_error='strict',\n",
       "                                 dtype=<class 'numpy.int64'>, encoding='utf-8',\n",
       "                                 input='content', lowercase=True, max_df=1.0,\n",
       "                                 max_features=2500, min_df=1,\n",
       "                                 ngram_range=(1, 1), preprocessor=None,\n",
       "                                 stop_words=None, strip_accents=None,\n",
       "                                 token_pattern='(?u)\\\\b\\\\w\\\\w+\\\\b',\n",
       "                                 tokenizer=<__main__.LemmaTokenizer object at 0x11ece3588>,\n",
       "                                 vocabulary=None)),\n",
       "                ('lr',\n",
       "                 LogisticRegression(C=0.1, class_weight=None, dual=False,\n",
       "                                    fit_intercept=True, intercept_scaling=1,\n",
       "                                    l1_ratio=1.0, max_iter=300,\n",
       "                                    multi_class='warn', n_jobs=None,\n",
       "                                    penalty='elasticnet', random_state=None,\n",
       "                                    solver='saga', tol=0.0001, verbose=0,\n",
       "                                    warm_start=False))],\n",
       "         verbose=False)"
      ]
     },
     "execution_count": 51,
     "metadata": {},
     "output_type": "execute_result"
    }
   ],
   "source": [
    "optimal_pipe.fit(X_text_train, y_text_train)"
   ]
  },
  {
   "cell_type": "markdown",
   "metadata": {},
   "source": [
    "We try the model on our `title` dataset to obtain the accuracy of the model to classify the subreddit from titles alone."
   ]
  },
  {
   "cell_type": "code",
   "execution_count": 53,
   "metadata": {},
   "outputs": [
    {
     "name": "stdout",
     "output_type": "stream",
     "text": [
      "              precision    recall  f1-score   support\n",
      "\n",
      "     class 0       0.55      1.00      0.71       725\n",
      "     class 1       0.99      0.18      0.31       725\n",
      "\n",
      "    accuracy                           0.59      1450\n",
      "   macro avg       0.77      0.59      0.51      1450\n",
      "weighted avg       0.77      0.59      0.51      1450\n",
      "\n"
     ]
    }
   ],
   "source": [
    "y_logr_pred = optimal_pipe.predict(X_text_test)\n",
    "print(classification_report(y_text_test, y_logr_pred, target_names=['class 0','class 1']))"
   ]
  },
  {
   "cell_type": "markdown",
   "metadata": {},
   "source": [
    "Next, we explore the use tfidfvectorizer instead of countvectorizer to account for document similarity"
   ]
  },
  {
   "cell_type": "code",
   "execution_count": 67,
   "metadata": {},
   "outputs": [
    {
     "name": "stdout",
     "output_type": "stream",
     "text": [
      "Fitting 3 folds for each of 324 candidates, totalling 972 fits\n"
     ]
    },
    {
     "name": "stderr",
     "output_type": "stream",
     "text": [
      "[Parallel(n_jobs=-1)]: Using backend LokyBackend with 4 concurrent workers.\n",
      "[Parallel(n_jobs=-1)]: Done  42 tasks      | elapsed:   42.4s\n",
      "[Parallel(n_jobs=-1)]: Done 192 tasks      | elapsed:  3.2min\n",
      "[Parallel(n_jobs=-1)]: Done 442 tasks      | elapsed:  7.5min\n",
      "[Parallel(n_jobs=-1)]: Done 792 tasks      | elapsed: 13.4min\n",
      "[Parallel(n_jobs=-1)]: Done 972 out of 972 | elapsed: 16.7min finished\n"
     ]
    },
    {
     "name": "stdout",
     "output_type": "stream",
     "text": [
      "0.9183908045977012\n"
     ]
    }
   ],
   "source": [
    "tfidf_pipe = Pipeline([\n",
    "    ('tfvec', TfidfVectorizer(stop_words='english',tokenizer=LemmaTokenizer())),\n",
    "    ('lr', LogisticRegression(solver='saga',max_iter=300))\n",
    "])\n",
    "\n",
    "tfidf_params = {\n",
    "    'tfvec__max_features': [2500, 3000, 3500],\n",
    "    'tfvec__ngram_range': [(1,1), (1,2)],\n",
    "    'lr__penalty' : ['elasticnet'],\n",
    "    'lr__C' : np.arange(0.1,1,0.1),\n",
    "    'lr__l1_ratio' : np.arange(0,1.1,0.2)\n",
    "}\n",
    "\n",
    "gs = GridSearchCV(tfidf_pipe, param_grid=tfidf_params, cv=3,verbose=1,n_jobs=-1)\n",
    "gs.fit(X_text_train, y_text_train)\n",
    "print(gs.best_score_)"
   ]
  },
  {
   "cell_type": "markdown",
   "metadata": {},
   "source": [
    "It seems that tfidf vectorizer performs best with the logistic regression model."
   ]
  },
  {
   "cell_type": "code",
   "execution_count": 68,
   "metadata": {},
   "outputs": [
    {
     "data": {
      "text/plain": [
       "{'lr__C': 0.9,\n",
       " 'lr__l1_ratio': 1.0,\n",
       " 'lr__penalty': 'elasticnet',\n",
       " 'tfvec__max_features': 3500,\n",
       " 'tfvec__ngram_range': (1, 1)}"
      ]
     },
     "execution_count": 68,
     "metadata": {},
     "output_type": "execute_result"
    }
   ],
   "source": [
    "gs.best_params_"
   ]
  },
  {
   "cell_type": "code",
   "execution_count": 43,
   "metadata": {},
   "outputs": [],
   "source": [
    "tfidf_best_pipe = Pipeline([\n",
    "    ('tfvec', TfidfVectorizer(max_features=3500,ngram_range=(1,1),stop_words='english',tokenizer=LemmaTokenizer())),\n",
    "    ('lr', LogisticRegression(solver='saga',max_iter=300,C=0.9,l1_ratio=1.0,penalty='elasticnet'))\n",
    "])"
   ]
  },
  {
   "cell_type": "code",
   "execution_count": 71,
   "metadata": {
    "slideshow": {
     "slide_type": "slide"
    }
   },
   "outputs": [
    {
     "name": "stdout",
     "output_type": "stream",
     "text": [
      "Text Report (results based on test data) \n",
      "              precision    recall  f1-score   support\n",
      "\n",
      "     class 0       0.93      0.91      0.92       725\n",
      "     class 1       0.91      0.94      0.92       725\n",
      "\n",
      "    accuracy                           0.92      1450\n",
      "   macro avg       0.92      0.92      0.92      1450\n",
      "weighted avg       0.92      0.92      0.92      1450\n",
      "\n",
      "Titles (all titles) Report \n",
      "              precision    recall  f1-score   support\n",
      "\n",
      "     class 0       0.92      0.17      0.29      2900\n",
      "     class 1       0.54      0.98      0.70      2900\n",
      "\n",
      "    accuracy                           0.58      5800\n",
      "   macro avg       0.73      0.58      0.49      5800\n",
      "weighted avg       0.73      0.58      0.49      5800\n",
      "\n"
     ]
    }
   ],
   "source": [
    "# test model against test text data and rest of titles\n",
    "y_text_tfidf_pred = gs.best_estimator_.predict(X_text_test)\n",
    "y_title_tfidf_pred = gs.best_estimator_.predict(X_title)\n",
    "print(\"Text Report (results based on test data) \\n\" + \n",
    "      classification_report(y_text_test, y_text_tfidf_pred, target_names=['class 0','class 1']))\n",
    "print(\"Titles (all titles) Report \\n\" + \n",
    "      classification_report(y_title, y_title_tfidf_pred, target_names=['class 0','class 1']))"
   ]
  },
  {
   "cell_type": "markdown",
   "metadata": {},
   "source": [
    "While the optimised model with tfidf vectorizer performs remarkably well with high precision and recall, when used with the titles dataset, we can see that that it is somewhat overfit, unable to classify the titles correctly."
   ]
  },
  {
   "cell_type": "code",
   "execution_count": 72,
   "metadata": {
    "slideshow": {
     "slide_type": "slide"
    }
   },
   "outputs": [
    {
     "data": {
      "text/html": [
       "<div>\n",
       "<style scoped>\n",
       "    .dataframe tbody tr th:only-of-type {\n",
       "        vertical-align: middle;\n",
       "    }\n",
       "\n",
       "    .dataframe tbody tr th {\n",
       "        vertical-align: top;\n",
       "    }\n",
       "\n",
       "    .dataframe thead th {\n",
       "        text-align: right;\n",
       "    }\n",
       "</style>\n",
       "<table border=\"1\" class=\"dataframe\">\n",
       "  <thead>\n",
       "    <tr style=\"text-align: right;\">\n",
       "      <th></th>\n",
       "      <th>text</th>\n",
       "      <th>actual</th>\n",
       "      <th>predicted</th>\n",
       "    </tr>\n",
       "  </thead>\n",
       "  <tbody>\n",
       "    <tr>\n",
       "      <th>0</th>\n",
       "      <td>title says watched porn since got nasty furry ...</td>\n",
       "      <td>1</td>\n",
       "      <td>1</td>\n",
       "    </tr>\n",
       "    <tr>\n",
       "      <th>1</th>\n",
       "      <td>understand bad bad read lemon fanfic main vide...</td>\n",
       "      <td>1</td>\n",
       "      <td>1</td>\n",
       "    </tr>\n",
       "    <tr>\n",
       "      <th>2</th>\n",
       "      <td>lovely quite attractive boyfriend met girl wee...</td>\n",
       "      <td>0</td>\n",
       "      <td>0</td>\n",
       "    </tr>\n",
       "    <tr>\n",
       "      <th>3</th>\n",
       "      <td>dated briefly three months never turned someth...</td>\n",
       "      <td>0</td>\n",
       "      <td>0</td>\n",
       "    </tr>\n",
       "    <tr>\n",
       "      <th>4</th>\n",
       "      <td>background dating almost years good many fight...</td>\n",
       "      <td>0</td>\n",
       "      <td>0</td>\n",
       "    </tr>\n",
       "  </tbody>\n",
       "</table>\n",
       "</div>"
      ],
      "text/plain": [
       "                                                text  actual  predicted\n",
       "0  title says watched porn since got nasty furry ...       1          1\n",
       "1  understand bad bad read lemon fanfic main vide...       1          1\n",
       "2  lovely quite attractive boyfriend met girl wee...       0          0\n",
       "3  dated briefly three months never turned someth...       0          0\n",
       "4  background dating almost years good many fight...       0          0"
      ]
     },
     "execution_count": 72,
     "metadata": {},
     "output_type": "execute_result"
    }
   ],
   "source": [
    "# look at sample predictions\n",
    "\n",
    "pd.DataFrame(data=zip(X_text_test,y_text_test,y_text_tfidf_pred),columns=['text','actual','predicted']).head(5)"
   ]
  },
  {
   "cell_type": "code",
   "execution_count": 73,
   "metadata": {
    "slideshow": {
     "slide_type": "skip"
    }
   },
   "outputs": [],
   "source": [
    "knn_pipe = Pipeline([\n",
    "    ('tfvec', TfidfVectorizer(stop_words='english',tokenizer=LemmaTokenizer())),\n",
    "    ('knn', KNeighborsClassifier())\n",
    "])\n",
    "\n",
    "knn_params = {\n",
    "    'tfvec__max_features': [2500, 3000, 3500],\n",
    "    'tfvec__ngram_range': [(1,1), (1,2)],\n",
    "    'knn__n_neighbors' : np.arange(5,100,10),\n",
    "    'knn__weights' : ['uniform','distance'],\n",
    "    'knn__leaf_size': np.arange(10,30,10) \n",
    "}"
   ]
  },
  {
   "cell_type": "code",
   "execution_count": 74,
   "metadata": {
    "slideshow": {
     "slide_type": "skip"
    }
   },
   "outputs": [
    {
     "name": "stdout",
     "output_type": "stream",
     "text": [
      "Fitting 3 folds for each of 240 candidates, totalling 720 fits\n"
     ]
    },
    {
     "name": "stderr",
     "output_type": "stream",
     "text": [
      "[Parallel(n_jobs=-1)]: Using backend LokyBackend with 4 concurrent workers.\n",
      "[Parallel(n_jobs=-1)]: Done  42 tasks      | elapsed:   47.0s\n",
      "[Parallel(n_jobs=-1)]: Done 192 tasks      | elapsed:  3.5min\n",
      "[Parallel(n_jobs=-1)]: Done 442 tasks      | elapsed:  7.8min\n",
      "[Parallel(n_jobs=-1)]: Done 720 out of 720 | elapsed: 12.8min finished\n"
     ]
    },
    {
     "data": {
      "text/plain": [
       "GridSearchCV(cv=3, error_score='raise-deprecating',\n",
       "             estimator=Pipeline(memory=None,\n",
       "                                steps=[('tfvec',\n",
       "                                        TfidfVectorizer(analyzer='word',\n",
       "                                                        binary=False,\n",
       "                                                        decode_error='strict',\n",
       "                                                        dtype=<class 'numpy.float64'>,\n",
       "                                                        encoding='utf-8',\n",
       "                                                        input='content',\n",
       "                                                        lowercase=True,\n",
       "                                                        max_df=1.0,\n",
       "                                                        max_features=None,\n",
       "                                                        min_df=1,\n",
       "                                                        ngram_range=(1, 1),\n",
       "                                                        norm='l2',\n",
       "                                                        preprocessor=None,\n",
       "                                                        smooth_idf=True,\n",
       "                                                        stop_word...\n",
       "                                                             weights='uniform'))],\n",
       "                                verbose=False),\n",
       "             iid='warn', n_jobs=-1,\n",
       "             param_grid={'knn__leaf_size': array([10, 20]),\n",
       "                         'knn__n_neighbors': array([ 5, 15, 25, 35, 45, 55, 65, 75, 85, 95]),\n",
       "                         'knn__weights': ['uniform', 'distance'],\n",
       "                         'tfvec__max_features': [2500, 3000, 3500],\n",
       "                         'tfvec__ngram_range': [(1, 1), (1, 2)]},\n",
       "             pre_dispatch='2*n_jobs', refit=True, return_train_score=False,\n",
       "             scoring=None, verbose=1)"
      ]
     },
     "execution_count": 74,
     "metadata": {},
     "output_type": "execute_result"
    }
   ],
   "source": [
    "knn_gs = GridSearchCV(knn_pipe, param_grid=knn_params, cv=3,verbose=1,n_jobs=-1)\n",
    "knn_gs.fit(X_text_train, y_text_train)"
   ]
  },
  {
   "cell_type": "code",
   "execution_count": 75,
   "metadata": {
    "slideshow": {
     "slide_type": "skip"
    }
   },
   "outputs": [
    {
     "data": {
      "text/plain": [
       "{'knn__leaf_size': 10,\n",
       " 'knn__n_neighbors': 25,\n",
       " 'knn__weights': 'distance',\n",
       " 'tfvec__max_features': 3000,\n",
       " 'tfvec__ngram_range': (1, 2)}"
      ]
     },
     "execution_count": 75,
     "metadata": {},
     "output_type": "execute_result"
    }
   ],
   "source": [
    "knn_gs.best_params_"
   ]
  },
  {
   "cell_type": "code",
   "execution_count": 45,
   "metadata": {},
   "outputs": [],
   "source": [
    "knn_best_pipe = Pipeline([\n",
    "    ('tfvec', TfidfVectorizer(max_features=3000,ngram_range=(1,2),stop_words='english',tokenizer=LemmaTokenizer())),\n",
    "    ('knn', KNeighborsClassifier(leaf_size=10,n_neighbors=25,weights='distance'))\n",
    "])"
   ]
  },
  {
   "cell_type": "code",
   "execution_count": 85,
   "metadata": {},
   "outputs": [
    {
     "name": "stdout",
     "output_type": "stream",
     "text": [
      "Text Report (results based on test data) \n",
      "              precision    recall  f1-score   support\n",
      "\n",
      "     class 0       0.77      0.88      0.82       725\n",
      "     class 1       0.86      0.74      0.80       725\n",
      "\n",
      "    accuracy                           0.81      1450\n",
      "   macro avg       0.82      0.81      0.81      1450\n",
      "weighted avg       0.82      0.81      0.81      1450\n",
      "\n",
      "Titles (all titles) Report \n",
      "              precision    recall  f1-score   support\n",
      "\n",
      "     class 0       0.83      0.60      0.70      2900\n",
      "     class 1       0.69      0.88      0.77      2900\n",
      "\n",
      "    accuracy                           0.74      5800\n",
      "   macro avg       0.76      0.74      0.73      5800\n",
      "weighted avg       0.76      0.74      0.73      5800\n",
      "\n"
     ]
    }
   ],
   "source": [
    "# test model against test text data and rest of titles\n",
    "y_text_knn_pred = knn_gs.best_estimator_.predict(X_text_test)\n",
    "y_title_knn_pred = knn_gs.best_estimator_.predict(X_title)\n",
    "print(\"Text Report (results based on test data) \\n\" + \n",
    "      classification_report(y_text_test, y_text_knn_pred, target_names=['class 0','class 1']))\n",
    "print(\"Titles (all titles) Report \\n\" + \n",
    "      classification_report(y_title, y_title_knn_pred, target_names=['class 0','class 1']))"
   ]
  },
  {
   "cell_type": "markdown",
   "metadata": {
    "slideshow": {
     "slide_type": "slide"
    }
   },
   "source": [
    "## Model Evaluation & Summary"
   ]
  },
  {
   "cell_type": "code",
   "execution_count": 64,
   "metadata": {
    "slideshow": {
     "slide_type": "subslide"
    }
   },
   "outputs": [
    {
     "name": "stdout",
     "output_type": "stream",
     "text": [
      "Train Score:0.59 / Test Score 0.59\n",
      "Train Score:0.93 / Test Score 0.92\n",
      "Train Score:0.89 / Test Score 0.83\n",
      "Train Score:0.81 / Test Score 0.73\n",
      "Train Score:1.0 / Test Score 0.81\n"
     ]
    }
   ],
   "source": [
    "cv_log_roc = generate_roc(optimal_pipe)\n",
    "tfidf_log_roc = generate_roc(tfidf_best_pipe)\n",
    "cv_nb_roc = generate_roc(cv_bayes_pipe)\n",
    "tfidf_nb_roc = generate_roc(tfidf_bayes_pipe)\n",
    "tfidf_knn_roc = generate_roc(knn_best_pipe)"
   ]
  },
  {
   "cell_type": "code",
   "execution_count": 47,
   "metadata": {
    "slideshow": {
     "slide_type": "skip"
    }
   },
   "outputs": [],
   "source": [
    "# Evaluation\n",
    "\n",
    "roc_data ={\n",
    "    'cv_nb' : cv_nb_roc,\n",
    "    'tfidf_nb_roc' : tfidf_nb_roc,\n",
    "    'cv_log_roc' : cv_log_roc,\n",
    "    'tfidf_log_roc' : tfidf_log_roc,\n",
    "    'tfidf_knn_roc' : tfidf_knn_roc\n",
    "}"
   ]
  },
  {
   "cell_type": "code",
   "execution_count": 48,
   "metadata": {
    "slideshow": {
     "slide_type": "subslide"
    }
   },
   "outputs": [
    {
     "data": {
      "image/png": "[encoded data removed]",
      "text/plain": [
       "<Figure size 720x360 with 1 Axes>"
      ]
     },
     "metadata": {
      "needs_background": "light"
     },
     "output_type": "display_data"
    }
   ],
   "source": [
    "#### Plot figure\n",
    "plt.figure(1,figsize=(10,5))\n",
    "plt.plot([0, 1], [0, 1], 'k--')\n",
    "for key,roc in roc_data.items():\n",
    "    plt.plot(roc[0], roc[1], label=key)\n",
    "plt.xlabel('Sensitivity')\n",
    "plt.ylabel('1 - Specificity')\n",
    "plt.title('ROC curve')\n",
    "plt.legend(loc='best')\n",
    "\n",
    "plt.savefig(\"./img/roc_curve.png\",dpi=300)\n",
    "plt.show()"
   ]
  },
  {
   "cell_type": "markdown",
   "metadata": {},
   "source": [
    "The `crossvectorizer` + `logistic regression` model seems to perform similar to the `tfidf` vectorizer and `logistic regression` model. When looking at the accuracy score of all the models, the tfidf+ logistic regression model performs the best with an accuracy of 92% in terms of predicting if the selftext is either an r/confessions or r/relationships post."
   ]
  },
  {
   "cell_type": "markdown",
   "metadata": {},
   "source": [
    "### Save Best model weights"
   ]
  },
  {
   "cell_type": "code",
   "execution_count": 64,
   "metadata": {},
   "outputs": [],
   "source": [
    "from joblib import dump, load\n",
    "if __name__ == \"__main__\":\n",
    "    model = tfidf_best_pipe.fit(X_text_train, y_text_train)\n",
    "    dump(model, './model/tfidf_lr.joblib') \n"
   ]
  }
 ],
 "metadata": {
  "kernelspec": {
   "display_name": "Python 3",
   "language": "python",
   "name": "python3"
  },
  "language_info": {
   "codemirror_mode": {
    "name": "ipython",
    "version": 3
   },
   "file_extension": ".py",
   "mimetype": "text/x-python",
   "name": "python",
   "nbconvert_exporter": "python",
   "pygments_lexer": "ipython3",
   "version": "3.6.8"
  }
 },
 "nbformat": 4,
 "nbformat_minor": 2
}
