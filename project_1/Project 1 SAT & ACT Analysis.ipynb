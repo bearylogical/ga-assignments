{
 "cells": [
  {
   "cell_type": "markdown",
   "metadata": {
    "slideshow": {
     "slide_type": "slide"
    }
   },
   "source": [
    "# Project 1: SAT & ACT Analysis\n",
    "Syamil M."
   ]
  },
  {
   "cell_type": "markdown",
   "metadata": {
    "slideshow": {
     "slide_type": "slide"
    }
   },
   "source": [
    "## Problem Statement\n",
    "\n",
    "- How to improve SAT scores via trend \n"
   ]
  },
  {
   "cell_type": "markdown",
   "metadata": {
    "slideshow": {
     "slide_type": "slide"
    }
   },
   "source": [
    "## Executive Summary\n",
    "\n",
    "In 2016, the College Board released a new SAT format to reflect changing trends in college education and to better prepare students for college [<sup>1</sup>](#fn1). While test preferences differ from state to state, SAT participation rates in 2018 saw a 25% increase from 2017 with 2018 having the largest number of SAT test takers since the inception of the SAT [<sup>2</sup>](#fn2). \n",
    "\n",
    "At the same time, the colleges throughout America are dropping standardised tests such as the ACT and SAT in favour of more streamlined admissions assessment policies [<sup>3<sup>](#fn4). Clearly, this poses a challenge for the future of standardised testing in which the SAT has an intrinsic stake. \n",
    "\n",
    "In light of this challenge, aggregated data from the 2017 and 2018 cohort for the SAT and ACT assessments across the 51 United States Districts have been used in this report to better understand key trends in participation rates as well as provide new ways to look into further improving SAT participation rates. \n",
    "\n",
    "From the analysis, lowering barriers towards participation via SAT School Days on top of enabling easy access to fee waivers had a clear impact in a number of states towards improving SAT participation. \n",
    "\n",
    "In some cases, we see a ten-fold increase in SAT participation for one particular state, Illinois, that made the SAT its state-wide college entrance exam.\n",
    "\n"
   ]
  },
  {
   "cell_type": "markdown",
   "metadata": {
    "slideshow": {
     "slide_type": "skip"
    }
   },
   "source": [
    "\n",
    "### Contents:\n",
    "- [2017 Data Import & Cleaning](#Data-Import-and-Cleaning)\n",
    "- [2018 Data Import and Cleaning](#2018-Data-Import-and-Cleaning)\n",
    "- [Exploratory Data Analysis](#Exploratory-Data-Analysis)\n",
    "- [Data Visualization](#Visualize-the-data)\n",
    "- [Descriptive and Inferential Statistics](#Descriptive-and-Inferential-Statistics)\n",
    "- [Outside Research](#Outside-Research)\n",
    "- [Conclusions and Recommendations](#Conclusions-and-Recommendations)\n",
    "- [References](#References)"
   ]
  },
  {
   "cell_type": "markdown",
   "metadata": {
    "slideshow": {
     "slide_type": "slide"
    }
   },
   "source": [
    "### Libraries Used:"
   ]
  },
  {
   "cell_type": "code",
   "execution_count": 1,
   "metadata": {
    "slideshow": {
     "slide_type": "-"
    }
   },
   "outputs": [],
   "source": [
    "#Imports:\n",
    "import pandas as pd\n",
    "import numpy as np"
   ]
  },
  {
   "cell_type": "markdown",
   "metadata": {
    "slideshow": {
     "slide_type": "skip"
    }
   },
   "source": [
    "## 2017 Data Import and Cleaning"
   ]
  },
  {
   "cell_type": "markdown",
   "metadata": {
    "slideshow": {
     "slide_type": "skip"
    }
   },
   "source": [
    "#### 1. Read In SAT & ACT  Data\n",
    "\n",
    "Read in the `sat_2017.csv` and `act_2017.csv` files and assign them to appropriately named pandas dataframes."
   ]
  },
  {
   "cell_type": "code",
   "execution_count": 2,
   "metadata": {
    "slideshow": {
     "slide_type": "skip"
    }
   },
   "outputs": [],
   "source": [
    "#Code:\n",
    "sat_2017_dataset = pd.read_csv(\"data/sat_2017.csv\")\n",
    "act_2017_dataset = pd.read_csv(\"data/act_2017.csv\")"
   ]
  },
  {
   "cell_type": "markdown",
   "metadata": {
    "slideshow": {
     "slide_type": "skip"
    }
   },
   "source": [
    "#### 2. Display Data\n",
    "\n",
    "Print the first 10 rows of each dataframe to your jupyter notebook"
   ]
  },
  {
   "cell_type": "code",
   "execution_count": 3,
   "metadata": {
    "slideshow": {
     "slide_type": "skip"
    }
   },
   "outputs": [
    {
     "data": {
      "text/html": [
       "<div>\n",
       "<style scoped>\n",
       "    .dataframe tbody tr th:only-of-type {\n",
       "        vertical-align: middle;\n",
       "    }\n",
       "\n",
       "    .dataframe tbody tr th {\n",
       "        vertical-align: top;\n",
       "    }\n",
       "\n",
       "    .dataframe thead th {\n",
       "        text-align: right;\n",
       "    }\n",
       "</style>\n",
       "<table border=\"1\" class=\"dataframe\">\n",
       "  <thead>\n",
       "    <tr style=\"text-align: right;\">\n",
       "      <th></th>\n",
       "      <th>State</th>\n",
       "      <th>Participation</th>\n",
       "      <th>Evidence-Based Reading and Writing</th>\n",
       "      <th>Math</th>\n",
       "      <th>Total</th>\n",
       "    </tr>\n",
       "  </thead>\n",
       "  <tbody>\n",
       "    <tr>\n",
       "      <th>0</th>\n",
       "      <td>Alabama</td>\n",
       "      <td>5%</td>\n",
       "      <td>593</td>\n",
       "      <td>572</td>\n",
       "      <td>1165</td>\n",
       "    </tr>\n",
       "    <tr>\n",
       "      <th>1</th>\n",
       "      <td>Alaska</td>\n",
       "      <td>38%</td>\n",
       "      <td>547</td>\n",
       "      <td>533</td>\n",
       "      <td>1080</td>\n",
       "    </tr>\n",
       "    <tr>\n",
       "      <th>2</th>\n",
       "      <td>Arizona</td>\n",
       "      <td>30%</td>\n",
       "      <td>563</td>\n",
       "      <td>553</td>\n",
       "      <td>1116</td>\n",
       "    </tr>\n",
       "    <tr>\n",
       "      <th>3</th>\n",
       "      <td>Arkansas</td>\n",
       "      <td>3%</td>\n",
       "      <td>614</td>\n",
       "      <td>594</td>\n",
       "      <td>1208</td>\n",
       "    </tr>\n",
       "    <tr>\n",
       "      <th>4</th>\n",
       "      <td>California</td>\n",
       "      <td>53%</td>\n",
       "      <td>531</td>\n",
       "      <td>524</td>\n",
       "      <td>1055</td>\n",
       "    </tr>\n",
       "    <tr>\n",
       "      <th>5</th>\n",
       "      <td>Colorado</td>\n",
       "      <td>11%</td>\n",
       "      <td>606</td>\n",
       "      <td>595</td>\n",
       "      <td>1201</td>\n",
       "    </tr>\n",
       "    <tr>\n",
       "      <th>6</th>\n",
       "      <td>Connecticut</td>\n",
       "      <td>100%</td>\n",
       "      <td>530</td>\n",
       "      <td>512</td>\n",
       "      <td>1041</td>\n",
       "    </tr>\n",
       "    <tr>\n",
       "      <th>7</th>\n",
       "      <td>Delaware</td>\n",
       "      <td>100%</td>\n",
       "      <td>503</td>\n",
       "      <td>492</td>\n",
       "      <td>996</td>\n",
       "    </tr>\n",
       "    <tr>\n",
       "      <th>8</th>\n",
       "      <td>District of Columbia</td>\n",
       "      <td>100%</td>\n",
       "      <td>482</td>\n",
       "      <td>468</td>\n",
       "      <td>950</td>\n",
       "    </tr>\n",
       "    <tr>\n",
       "      <th>9</th>\n",
       "      <td>Florida</td>\n",
       "      <td>83%</td>\n",
       "      <td>520</td>\n",
       "      <td>497</td>\n",
       "      <td>1017</td>\n",
       "    </tr>\n",
       "  </tbody>\n",
       "</table>\n",
       "</div>"
      ],
      "text/plain": [
       "                  State Participation  Evidence-Based Reading and Writing  \\\n",
       "0               Alabama            5%                                 593   \n",
       "1                Alaska           38%                                 547   \n",
       "2               Arizona           30%                                 563   \n",
       "3              Arkansas            3%                                 614   \n",
       "4            California           53%                                 531   \n",
       "5              Colorado           11%                                 606   \n",
       "6           Connecticut          100%                                 530   \n",
       "7              Delaware          100%                                 503   \n",
       "8  District of Columbia          100%                                 482   \n",
       "9               Florida           83%                                 520   \n",
       "\n",
       "   Math  Total  \n",
       "0   572   1165  \n",
       "1   533   1080  \n",
       "2   553   1116  \n",
       "3   594   1208  \n",
       "4   524   1055  \n",
       "5   595   1201  \n",
       "6   512   1041  \n",
       "7   492    996  \n",
       "8   468    950  \n",
       "9   497   1017  "
      ]
     },
     "execution_count": 3,
     "metadata": {},
     "output_type": "execute_result"
    }
   ],
   "source": [
    "#sat 2017 dataset:\n",
    "sat_2017_dataset.head(10)"
   ]
  },
  {
   "cell_type": "code",
   "execution_count": 4,
   "metadata": {
    "slideshow": {
     "slide_type": "skip"
    }
   },
   "outputs": [
    {
     "data": {
      "text/html": [
       "<div>\n",
       "<style scoped>\n",
       "    .dataframe tbody tr th:only-of-type {\n",
       "        vertical-align: middle;\n",
       "    }\n",
       "\n",
       "    .dataframe tbody tr th {\n",
       "        vertical-align: top;\n",
       "    }\n",
       "\n",
       "    .dataframe thead th {\n",
       "        text-align: right;\n",
       "    }\n",
       "</style>\n",
       "<table border=\"1\" class=\"dataframe\">\n",
       "  <thead>\n",
       "    <tr style=\"text-align: right;\">\n",
       "      <th></th>\n",
       "      <th>State</th>\n",
       "      <th>Participation</th>\n",
       "      <th>English</th>\n",
       "      <th>Math</th>\n",
       "      <th>Reading</th>\n",
       "      <th>Science</th>\n",
       "      <th>Composite</th>\n",
       "    </tr>\n",
       "  </thead>\n",
       "  <tbody>\n",
       "    <tr>\n",
       "      <th>0</th>\n",
       "      <td>National</td>\n",
       "      <td>60%</td>\n",
       "      <td>20.3</td>\n",
       "      <td>20.7</td>\n",
       "      <td>21.4</td>\n",
       "      <td>21.0</td>\n",
       "      <td>21.0</td>\n",
       "    </tr>\n",
       "    <tr>\n",
       "      <th>1</th>\n",
       "      <td>Alabama</td>\n",
       "      <td>100%</td>\n",
       "      <td>18.9</td>\n",
       "      <td>18.4</td>\n",
       "      <td>19.7</td>\n",
       "      <td>19.4</td>\n",
       "      <td>19.2</td>\n",
       "    </tr>\n",
       "    <tr>\n",
       "      <th>2</th>\n",
       "      <td>Alaska</td>\n",
       "      <td>65%</td>\n",
       "      <td>18.7</td>\n",
       "      <td>19.8</td>\n",
       "      <td>20.4</td>\n",
       "      <td>19.9</td>\n",
       "      <td>19.8</td>\n",
       "    </tr>\n",
       "    <tr>\n",
       "      <th>3</th>\n",
       "      <td>Arizona</td>\n",
       "      <td>62%</td>\n",
       "      <td>18.6</td>\n",
       "      <td>19.8</td>\n",
       "      <td>20.1</td>\n",
       "      <td>19.8</td>\n",
       "      <td>19.7</td>\n",
       "    </tr>\n",
       "    <tr>\n",
       "      <th>4</th>\n",
       "      <td>Arkansas</td>\n",
       "      <td>100%</td>\n",
       "      <td>18.9</td>\n",
       "      <td>19.0</td>\n",
       "      <td>19.7</td>\n",
       "      <td>19.5</td>\n",
       "      <td>19.4</td>\n",
       "    </tr>\n",
       "    <tr>\n",
       "      <th>5</th>\n",
       "      <td>California</td>\n",
       "      <td>31%</td>\n",
       "      <td>22.5</td>\n",
       "      <td>22.7</td>\n",
       "      <td>23.1</td>\n",
       "      <td>22.2</td>\n",
       "      <td>22.8</td>\n",
       "    </tr>\n",
       "    <tr>\n",
       "      <th>6</th>\n",
       "      <td>Colorado</td>\n",
       "      <td>100%</td>\n",
       "      <td>20.1</td>\n",
       "      <td>20.3</td>\n",
       "      <td>21.2</td>\n",
       "      <td>20.9</td>\n",
       "      <td>20.8</td>\n",
       "    </tr>\n",
       "    <tr>\n",
       "      <th>7</th>\n",
       "      <td>Connecticut</td>\n",
       "      <td>31%</td>\n",
       "      <td>25.5</td>\n",
       "      <td>24.6</td>\n",
       "      <td>25.6</td>\n",
       "      <td>24.6</td>\n",
       "      <td>25.2</td>\n",
       "    </tr>\n",
       "    <tr>\n",
       "      <th>8</th>\n",
       "      <td>Delaware</td>\n",
       "      <td>18%</td>\n",
       "      <td>24.1</td>\n",
       "      <td>23.4</td>\n",
       "      <td>24.8</td>\n",
       "      <td>23.6</td>\n",
       "      <td>24.1</td>\n",
       "    </tr>\n",
       "    <tr>\n",
       "      <th>9</th>\n",
       "      <td>District of Columbia</td>\n",
       "      <td>32%</td>\n",
       "      <td>24.4</td>\n",
       "      <td>23.5</td>\n",
       "      <td>24.9</td>\n",
       "      <td>23.5</td>\n",
       "      <td>24.2</td>\n",
       "    </tr>\n",
       "  </tbody>\n",
       "</table>\n",
       "</div>"
      ],
      "text/plain": [
       "                  State Participation  English  Math  Reading  Science  \\\n",
       "0              National           60%     20.3  20.7     21.4     21.0   \n",
       "1               Alabama          100%     18.9  18.4     19.7     19.4   \n",
       "2                Alaska           65%     18.7  19.8     20.4     19.9   \n",
       "3               Arizona           62%     18.6  19.8     20.1     19.8   \n",
       "4              Arkansas          100%     18.9  19.0     19.7     19.5   \n",
       "5            California           31%     22.5  22.7     23.1     22.2   \n",
       "6              Colorado          100%     20.1  20.3     21.2     20.9   \n",
       "7           Connecticut           31%     25.5  24.6     25.6     24.6   \n",
       "8              Delaware           18%     24.1  23.4     24.8     23.6   \n",
       "9  District of Columbia           32%     24.4  23.5     24.9     23.5   \n",
       "\n",
       "  Composite  \n",
       "0      21.0  \n",
       "1      19.2  \n",
       "2      19.8  \n",
       "3      19.7  \n",
       "4      19.4  \n",
       "5      22.8  \n",
       "6      20.8  \n",
       "7      25.2  \n",
       "8      24.1  \n",
       "9      24.2  "
      ]
     },
     "execution_count": 4,
     "metadata": {},
     "output_type": "execute_result"
    }
   ],
   "source": [
    "#act 2017 dataset:\n",
    "act_2017_dataset.head(10)"
   ]
  },
  {
   "cell_type": "markdown",
   "metadata": {
    "slideshow": {
     "slide_type": "skip"
    }
   },
   "source": [
    "#### 3. Verbally Describe Data\n"
   ]
  },
  {
   "cell_type": "code",
   "execution_count": 5,
   "metadata": {
    "slideshow": {
     "slide_type": "skip"
    }
   },
   "outputs": [
    {
     "name": "stdout",
     "output_type": "stream",
     "text": [
      "ACT 2017 Dataset = (52, 7)\n",
      "SAT 2017 Dataset = (51, 5)\n"
     ]
    }
   ],
   "source": [
    "#Get Structure of Datasets\n",
    "print(\"ACT 2017 Dataset = \" + str(act_2017_dataset.shape))\n",
    "print(\"SAT 2017 Dataset = \" + str(sat_2017_dataset.shape))\n"
   ]
  },
  {
   "cell_type": "markdown",
   "metadata": {
    "slideshow": {
     "slide_type": "skip"
    }
   },
   "source": [
    "###### SAT 2017 Data Set\n",
    "There are 50 rows (excluding header) in this dataset corresponding to each state, and 5 columns with various column names.`State` is a categorical/nominal data type as states are unordered and mutually exclusive. The other four columns appear to be of numerical/continuous data types where `Total` is the sum of the `Evidence-Based Reading and Writing` and `Math` .`Participation` is of continous data type with a maximum of 100%. \n",
    "\n",
    "###### ACT 2017 Data Set\n",
    "\n",
    "In this dataset, there are 51 rows (excluding header) in this dataset corresponding to each state as well as an additional row for `National` with 7 columns. Again, `State` is a categorical/nominal data type as states are unordered and mutually exclusive. `Participation` is of continous data type with a maximum of 100%. `English` `Math` `Reading` `Science` and `Composite` columns are of numerical/continuous data types."
   ]
  },
  {
   "cell_type": "markdown",
   "metadata": {
    "slideshow": {
     "slide_type": "skip"
    }
   },
   "source": [
    "#### 4a. Does the data look complete? "
   ]
  },
  {
   "cell_type": "code",
   "execution_count": 6,
   "metadata": {
    "slideshow": {
     "slide_type": "skip"
    }
   },
   "outputs": [
    {
     "name": "stdout",
     "output_type": "stream",
     "text": [
      "Is SAT 2017 data complete = False\n",
      "Is ACT 2017 data complete = False\n"
     ]
    }
   ],
   "source": [
    "#Check for NAs in data:\n",
    "print(\"Is SAT 2017 data complete = \" + str(sat_2017_dataset.isnull().values.any())) # if false, SAT 2017 is complete\n",
    "print(\"Is ACT 2017 data complete = \" + str(act_2017_dataset.isnull().values.any())) # if false, ACT 2017 is complete"
   ]
  },
  {
   "cell_type": "markdown",
   "metadata": {
    "slideshow": {
     "slide_type": "skip"
    }
   },
   "source": [
    "The data seems to not have any NAs or missing values. That *appears* to pass a test for data completeness"
   ]
  },
  {
   "cell_type": "markdown",
   "metadata": {
    "slideshow": {
     "slide_type": "skip"
    }
   },
   "source": [
    "#### 4b. Are there any obvious issues with the observations?\n",
    "\n",
    "**What is the minimum *possible* value for each test/subtest? What is the maximum *possible* value?**\n",
    "\n",
    "Consider comparing any questionable values to the sources of your data:\n",
    "- [SAT](https://blog.collegevine.com/here-are-the-average-sat-scores-by-state/)\n",
    "- [ACT](https://blog.prepscholar.com/act-scores-by-state-averages-highs-and-lows)"
   ]
  },
  {
   "cell_type": "code",
   "execution_count": 7,
   "metadata": {
    "slideshow": {
     "slide_type": "skip"
    }
   },
   "outputs": [
    {
     "data": {
      "text/html": [
       "<div>\n",
       "<style scoped>\n",
       "    .dataframe tbody tr th:only-of-type {\n",
       "        vertical-align: middle;\n",
       "    }\n",
       "\n",
       "    .dataframe tbody tr th {\n",
       "        vertical-align: top;\n",
       "    }\n",
       "\n",
       "    .dataframe thead th {\n",
       "        text-align: right;\n",
       "    }\n",
       "</style>\n",
       "<table border=\"1\" class=\"dataframe\">\n",
       "  <thead>\n",
       "    <tr style=\"text-align: right;\">\n",
       "      <th></th>\n",
       "      <th>State</th>\n",
       "      <th>Participation</th>\n",
       "      <th>Evidence-Based Reading and Writing</th>\n",
       "      <th>Math</th>\n",
       "      <th>Total</th>\n",
       "    </tr>\n",
       "  </thead>\n",
       "  <tbody>\n",
       "    <tr>\n",
       "      <th>0</th>\n",
       "      <td>Alabama</td>\n",
       "      <td>5%</td>\n",
       "      <td>593</td>\n",
       "      <td>572</td>\n",
       "      <td>1165</td>\n",
       "    </tr>\n",
       "    <tr>\n",
       "      <th>1</th>\n",
       "      <td>Alaska</td>\n",
       "      <td>38%</td>\n",
       "      <td>547</td>\n",
       "      <td>533</td>\n",
       "      <td>1080</td>\n",
       "    </tr>\n",
       "    <tr>\n",
       "      <th>2</th>\n",
       "      <td>Arizona</td>\n",
       "      <td>30%</td>\n",
       "      <td>563</td>\n",
       "      <td>553</td>\n",
       "      <td>1116</td>\n",
       "    </tr>\n",
       "    <tr>\n",
       "      <th>3</th>\n",
       "      <td>Arkansas</td>\n",
       "      <td>3%</td>\n",
       "      <td>614</td>\n",
       "      <td>594</td>\n",
       "      <td>1208</td>\n",
       "    </tr>\n",
       "    <tr>\n",
       "      <th>4</th>\n",
       "      <td>California</td>\n",
       "      <td>53%</td>\n",
       "      <td>531</td>\n",
       "      <td>524</td>\n",
       "      <td>1055</td>\n",
       "    </tr>\n",
       "  </tbody>\n",
       "</table>\n",
       "</div>"
      ],
      "text/plain": [
       "        State Participation  Evidence-Based Reading and Writing  Math  Total\n",
       "0     Alabama            5%                                 593   572   1165\n",
       "1      Alaska           38%                                 547   533   1080\n",
       "2     Arizona           30%                                 563   553   1116\n",
       "3    Arkansas            3%                                 614   594   1208\n",
       "4  California           53%                                 531   524   1055"
      ]
     },
     "execution_count": 7,
     "metadata": {},
     "output_type": "execute_result"
    }
   ],
   "source": [
    "sat_2017_dataset.head()\n"
   ]
  },
  {
   "cell_type": "code",
   "execution_count": 8,
   "metadata": {
    "slideshow": {
     "slide_type": "skip"
    }
   },
   "outputs": [
    {
     "name": "stdout",
     "output_type": "stream",
     "text": [
      "SAT 2017 Dataset\n",
      "\n",
      "min/max value for 'Participation' column: 10% / 96%\n",
      "min/max value for 'Evidence-Based Reading and Writing' column: 482 / 644\n",
      "min/max value for 'Math' column: 52 / 651\n",
      "min/max value for 'Total' column: 950 / 1295\n",
      "\n",
      "ACT 2017 Dataset\n",
      "\n",
      "min/max value for 'Participation' column:  60% / 98%\n",
      "min/max value for 'English' column: 16.3 / 25.5\n",
      "min/max value for 'Math' column: 18.0 / 25.3\n",
      "min/max value for 'Reading' column: 18.1 / 26.0\n",
      "min/max value for 'Science' column: 2.3 / 24.9\n",
      "min/max value for 'Composite' column: 17.8 / 25.5\n"
     ]
    }
   ],
   "source": [
    "print(\"SAT 2017 Dataset\\n\")\n",
    "\n",
    "# Print out min/max , excluding states\n",
    "for sat_2017_headers in list(sat_2017_dataset.columns[1:]):\n",
    "    print(\"min/max value for '\" + str(sat_2017_headers) +\"' column: \" \n",
    "          + str(min(sat_2017_dataset[sat_2017_headers])) \n",
    "                    + ' / ' + str(max(sat_2017_dataset[sat_2017_headers])))\n",
    "\n",
    "# Print out min/max , excluding states\n",
    "print(\"\\nACT 2017 Dataset\\n\") \n",
    "for act_2017_headers in list(act_2017_dataset.columns[1:]):\n",
    "    print(\"min/max value for '\" + str(act_2017_headers) +\"' column: \" \n",
    "          + str(min(act_2017_dataset[act_2017_headers])) \n",
    "                    + ' / ' + str(max(act_2017_dataset[act_2017_headers])))"
   ]
  },
  {
   "cell_type": "markdown",
   "metadata": {
    "slideshow": {
     "slide_type": "skip"
    }
   },
   "source": [
    "_Answer_\n",
    "\n",
    "200 - 800 per section for SAT with 400 - 1600 for the total score.\n",
    "1 - 36 per section for ACT with  1 - 36 for the composite score.\n",
    "\n",
    "The `min` in `Math` value for SAT 2017 Dataset is suspicious - upon comparing with the raw data source, it appears there was a typo. Actual value is 524. Also, participation data output from code appears to not be correct (actual is 2%) - could be due to incorrect datatype applied at time of import\n",
    "\n",
    "For the ACT 2017 dataset, the `Science` column appears to be quite low. Upon validation with source dataset, the value is supposed to be 23.2 _not_ 2.3. `Composite` score for Wyoming is 20.2x when it should be 20.2.\n"
   ]
  },
  {
   "cell_type": "markdown",
   "metadata": {
    "slideshow": {
     "slide_type": "skip"
    }
   },
   "source": [
    "#### 4c. Fix any errors you identified\n",
    "\n",
    "**The data is available** so there's no need to guess or calculate anything. If you didn't find any errors, continue to the next step."
   ]
  },
  {
   "cell_type": "code",
   "execution_count": 9,
   "metadata": {
    "slideshow": {
     "slide_type": "skip"
    }
   },
   "outputs": [],
   "source": [
    "# Once data is fixed, export fixed data:\n",
    "\n",
    "sat_2017_dataset = pd.read_csv(\"data/sat_2017_fixed.csv\")\n",
    "act_2017_dataset = pd.read_csv(\"data/act_2017_fixed.csv\")"
   ]
  },
  {
   "cell_type": "markdown",
   "metadata": {
    "slideshow": {
     "slide_type": "skip"
    }
   },
   "source": [
    "#### 5. What are your data types? \n",
    "Display the data types of each feature. "
   ]
  },
  {
   "cell_type": "code",
   "execution_count": 10,
   "metadata": {
    "slideshow": {
     "slide_type": "skip"
    }
   },
   "outputs": [
    {
     "name": "stdout",
     "output_type": "stream",
     "text": [
      "Datatypes for SAT 2017 Dataset:\n",
      "State                                 object\n",
      "Participation                         object\n",
      "Evidence-Based Reading and Writing     int64\n",
      "Math                                   int64\n",
      "Total                                  int64\n",
      "dtype: object\n",
      "\n",
      "Datatypes for ACT 2017 Dataset:\n",
      "State             object\n",
      "Participation     object\n",
      "English          float64\n",
      "Math             float64\n",
      "Reading          float64\n",
      "Science          float64\n",
      "Composite        float64\n",
      "dtype: object\n"
     ]
    }
   ],
   "source": [
    "#code\n",
    "print(\"Datatypes for SAT 2017 Dataset:\"  + \"\\n\" + str(sat_2017_dataset.dtypes))\n",
    "\n",
    "print()\n",
    "#code\n",
    "print(\"Datatypes for ACT 2017 Dataset:\"  + \"\\n\" + str(act_2017_dataset.dtypes))"
   ]
  },
  {
   "cell_type": "markdown",
   "metadata": {
    "slideshow": {
     "slide_type": "skip"
    }
   },
   "source": [
    "What did you learn?\n",
    "- Do any of them seem odd?  \n",
    "- Which ones are not as they should be?  "
   ]
  },
  {
   "cell_type": "markdown",
   "metadata": {
    "slideshow": {
     "slide_type": "skip"
    }
   },
   "source": [
    "_Answer:_\n",
    "\n",
    "Participation rates for both datasets should be of type int as the percentages appear to be a whole number."
   ]
  },
  {
   "cell_type": "markdown",
   "metadata": {
    "slideshow": {
     "slide_type": "skip"
    }
   },
   "source": [
    "#### 6. Fix Incorrect Data Types\n",
    "Based on what you discovered above, use appropriate methods to re-type incorrectly typed data.\n",
    "- Define a function that will allow you to convert participation rates to an appropriate numeric type. Use `map` or `apply` to change these columns in each dataframe."
   ]
  },
  {
   "cell_type": "code",
   "execution_count": 11,
   "metadata": {
    "slideshow": {
     "slide_type": "skip"
    }
   },
   "outputs": [],
   "source": [
    "#change sat 2017 participation datatype\n",
    "\n",
    "# sat_2017_dataset['Participation'] = sat_2017_dataset['Participation'].str.rstrip('%').astype('int64')\n",
    "\n"
   ]
  },
  {
   "cell_type": "code",
   "execution_count": 12,
   "metadata": {
    "slideshow": {
     "slide_type": "skip"
    }
   },
   "outputs": [],
   "source": [
    "# lambda method\n",
    "\n",
    "sat_2017_dataset['Participation'] = sat_2017_dataset['Participation'].apply(lambda x: int(x[:-1]) )"
   ]
  },
  {
   "cell_type": "code",
   "execution_count": 13,
   "metadata": {
    "slideshow": {
     "slide_type": "skip"
    }
   },
   "outputs": [
    {
     "data": {
      "text/html": [
       "<div>\n",
       "<style scoped>\n",
       "    .dataframe tbody tr th:only-of-type {\n",
       "        vertical-align: middle;\n",
       "    }\n",
       "\n",
       "    .dataframe tbody tr th {\n",
       "        vertical-align: top;\n",
       "    }\n",
       "\n",
       "    .dataframe thead th {\n",
       "        text-align: right;\n",
       "    }\n",
       "</style>\n",
       "<table border=\"1\" class=\"dataframe\">\n",
       "  <thead>\n",
       "    <tr style=\"text-align: right;\">\n",
       "      <th></th>\n",
       "      <th>State</th>\n",
       "      <th>Participation</th>\n",
       "      <th>Evidence-Based Reading and Writing</th>\n",
       "      <th>Math</th>\n",
       "      <th>Total</th>\n",
       "    </tr>\n",
       "  </thead>\n",
       "  <tbody>\n",
       "    <tr>\n",
       "      <th>0</th>\n",
       "      <td>Alabama</td>\n",
       "      <td>5</td>\n",
       "      <td>593</td>\n",
       "      <td>572</td>\n",
       "      <td>1165</td>\n",
       "    </tr>\n",
       "    <tr>\n",
       "      <th>1</th>\n",
       "      <td>Alaska</td>\n",
       "      <td>38</td>\n",
       "      <td>547</td>\n",
       "      <td>533</td>\n",
       "      <td>1080</td>\n",
       "    </tr>\n",
       "    <tr>\n",
       "      <th>2</th>\n",
       "      <td>Arizona</td>\n",
       "      <td>30</td>\n",
       "      <td>563</td>\n",
       "      <td>553</td>\n",
       "      <td>1116</td>\n",
       "    </tr>\n",
       "    <tr>\n",
       "      <th>3</th>\n",
       "      <td>Arkansas</td>\n",
       "      <td>3</td>\n",
       "      <td>614</td>\n",
       "      <td>594</td>\n",
       "      <td>1208</td>\n",
       "    </tr>\n",
       "    <tr>\n",
       "      <th>4</th>\n",
       "      <td>California</td>\n",
       "      <td>53</td>\n",
       "      <td>531</td>\n",
       "      <td>524</td>\n",
       "      <td>1055</td>\n",
       "    </tr>\n",
       "  </tbody>\n",
       "</table>\n",
       "</div>"
      ],
      "text/plain": [
       "        State  Participation  Evidence-Based Reading and Writing  Math  Total\n",
       "0     Alabama              5                                 593   572   1165\n",
       "1      Alaska             38                                 547   533   1080\n",
       "2     Arizona             30                                 563   553   1116\n",
       "3    Arkansas              3                                 614   594   1208\n",
       "4  California             53                                 531   524   1055"
      ]
     },
     "execution_count": 13,
     "metadata": {},
     "output_type": "execute_result"
    }
   ],
   "source": [
    "sat_2017_dataset.head() "
   ]
  },
  {
   "cell_type": "code",
   "execution_count": 14,
   "metadata": {
    "slideshow": {
     "slide_type": "skip"
    }
   },
   "outputs": [],
   "source": [
    "#change act 2017 participation datatype\n",
    "\n",
    "act_2017_dataset['Participation'] = act_2017_dataset['Participation'].str.rstrip('%').astype('int64')"
   ]
  },
  {
   "cell_type": "code",
   "execution_count": 15,
   "metadata": {
    "slideshow": {
     "slide_type": "skip"
    }
   },
   "outputs": [
    {
     "data": {
      "text/html": [
       "<div>\n",
       "<style scoped>\n",
       "    .dataframe tbody tr th:only-of-type {\n",
       "        vertical-align: middle;\n",
       "    }\n",
       "\n",
       "    .dataframe tbody tr th {\n",
       "        vertical-align: top;\n",
       "    }\n",
       "\n",
       "    .dataframe thead th {\n",
       "        text-align: right;\n",
       "    }\n",
       "</style>\n",
       "<table border=\"1\" class=\"dataframe\">\n",
       "  <thead>\n",
       "    <tr style=\"text-align: right;\">\n",
       "      <th></th>\n",
       "      <th>State</th>\n",
       "      <th>Participation</th>\n",
       "      <th>English</th>\n",
       "      <th>Math</th>\n",
       "      <th>Reading</th>\n",
       "      <th>Science</th>\n",
       "      <th>Composite</th>\n",
       "    </tr>\n",
       "  </thead>\n",
       "  <tbody>\n",
       "    <tr>\n",
       "      <th>0</th>\n",
       "      <td>National</td>\n",
       "      <td>60</td>\n",
       "      <td>20.3</td>\n",
       "      <td>20.7</td>\n",
       "      <td>21.4</td>\n",
       "      <td>21.0</td>\n",
       "      <td>21.0</td>\n",
       "    </tr>\n",
       "    <tr>\n",
       "      <th>1</th>\n",
       "      <td>Alabama</td>\n",
       "      <td>100</td>\n",
       "      <td>18.9</td>\n",
       "      <td>18.4</td>\n",
       "      <td>19.7</td>\n",
       "      <td>19.4</td>\n",
       "      <td>19.2</td>\n",
       "    </tr>\n",
       "    <tr>\n",
       "      <th>2</th>\n",
       "      <td>Alaska</td>\n",
       "      <td>65</td>\n",
       "      <td>18.7</td>\n",
       "      <td>19.8</td>\n",
       "      <td>20.4</td>\n",
       "      <td>19.9</td>\n",
       "      <td>19.8</td>\n",
       "    </tr>\n",
       "    <tr>\n",
       "      <th>3</th>\n",
       "      <td>Arizona</td>\n",
       "      <td>62</td>\n",
       "      <td>18.6</td>\n",
       "      <td>19.8</td>\n",
       "      <td>20.1</td>\n",
       "      <td>19.8</td>\n",
       "      <td>19.7</td>\n",
       "    </tr>\n",
       "    <tr>\n",
       "      <th>4</th>\n",
       "      <td>Arkansas</td>\n",
       "      <td>100</td>\n",
       "      <td>18.9</td>\n",
       "      <td>19.0</td>\n",
       "      <td>19.7</td>\n",
       "      <td>19.5</td>\n",
       "      <td>19.4</td>\n",
       "    </tr>\n",
       "  </tbody>\n",
       "</table>\n",
       "</div>"
      ],
      "text/plain": [
       "      State  Participation  English  Math  Reading  Science  Composite\n",
       "0  National             60     20.3  20.7     21.4     21.0       21.0\n",
       "1   Alabama            100     18.9  18.4     19.7     19.4       19.2\n",
       "2    Alaska             65     18.7  19.8     20.4     19.9       19.8\n",
       "3   Arizona             62     18.6  19.8     20.1     19.8       19.7\n",
       "4  Arkansas            100     18.9  19.0     19.7     19.5       19.4"
      ]
     },
     "execution_count": 15,
     "metadata": {},
     "output_type": "execute_result"
    }
   ],
   "source": [
    "act_2017_dataset.head()"
   ]
  },
  {
   "cell_type": "markdown",
   "metadata": {
    "slideshow": {
     "slide_type": "skip"
    }
   },
   "source": [
    "- Fix any individual values preventing other columns from being the appropriate type."
   ]
  },
  {
   "cell_type": "markdown",
   "metadata": {
    "slideshow": {
     "slide_type": "skip"
    }
   },
   "source": [
    "- Finish your data modifications by making sure the columns are now typed appropriately."
   ]
  },
  {
   "cell_type": "code",
   "execution_count": 16,
   "metadata": {
    "slideshow": {
     "slide_type": "skip"
    }
   },
   "outputs": [
    {
     "name": "stdout",
     "output_type": "stream",
     "text": [
      "<class 'pandas.core.frame.DataFrame'>\n",
      "RangeIndex: 51 entries, 0 to 50\n",
      "Data columns (total 5 columns):\n",
      "State                                 51 non-null object\n",
      "Participation                         51 non-null int64\n",
      "Evidence-Based Reading and Writing    51 non-null int64\n",
      "Math                                  51 non-null int64\n",
      "Total                                 51 non-null int64\n",
      "dtypes: int64(4), object(1)\n",
      "memory usage: 2.1+ KB\n"
     ]
    }
   ],
   "source": [
    "#code\n",
    "sat_2017_dataset.info()\n"
   ]
  },
  {
   "cell_type": "code",
   "execution_count": 17,
   "metadata": {
    "slideshow": {
     "slide_type": "skip"
    }
   },
   "outputs": [
    {
     "name": "stdout",
     "output_type": "stream",
     "text": [
      "<class 'pandas.core.frame.DataFrame'>\n",
      "RangeIndex: 52 entries, 0 to 51\n",
      "Data columns (total 7 columns):\n",
      "State            52 non-null object\n",
      "Participation    52 non-null int64\n",
      "English          52 non-null float64\n",
      "Math             52 non-null float64\n",
      "Reading          52 non-null float64\n",
      "Science          52 non-null float64\n",
      "Composite        52 non-null float64\n",
      "dtypes: float64(5), int64(1), object(1)\n",
      "memory usage: 2.9+ KB\n"
     ]
    }
   ],
   "source": [
    "act_2017_dataset.info()"
   ]
  },
  {
   "cell_type": "markdown",
   "metadata": {
    "slideshow": {
     "slide_type": "skip"
    }
   },
   "source": [
    "- Display the data types again to confirm they are correct."
   ]
  },
  {
   "cell_type": "code",
   "execution_count": 18,
   "metadata": {
    "slideshow": {
     "slide_type": "skip"
    }
   },
   "outputs": [],
   "source": [
    "#Code:"
   ]
  },
  {
   "cell_type": "markdown",
   "metadata": {
    "slideshow": {
     "slide_type": "skip"
    }
   },
   "source": [
    "#### 7. Rename Columns\n",
    "Change the names of the columns to more expressive names so that you can tell the difference the SAT columns and the ACT columns. Your solution should map all column names being changed at once (no repeated singular name-changes). **We will be combining these data with some of the data from 2018, and so you should name columns in an appropriate way**.\n",
    "\n",
    "**Guidelines**:\n",
    "- Column names should be all lowercase (you will thank yourself when you start pushing data to SQL later in the course)\n",
    "- Column names should not contain spaces (underscores will suffice--this allows for using the `df.column_name` method to access columns in addition to `df['column_name']`.\n",
    "- Column names should be unique and informative (the only feature that we actually share between dataframes is the state)."
   ]
  },
  {
   "cell_type": "code",
   "execution_count": 19,
   "metadata": {
    "slideshow": {
     "slide_type": "skip"
    }
   },
   "outputs": [],
   "source": [
    "#code\n",
    "# replace any whitespaces in column names with '_'\n",
    "sat_2017_dataset.columns = sat_2017_dataset.columns.str.replace(' ', '_')\n",
    "act_2017_dataset.columns = act_2017_dataset.columns.str.replace(' ', '_')\n",
    "\n",
    "# add suffix to distinguish 2017 dataframe \n",
    "sat_2017_dataset = sat_2017_dataset.add_suffix('_sat2017')\n",
    "act_2017_dataset = act_2017_dataset.add_suffix('_act2017')\n"
   ]
  },
  {
   "cell_type": "code",
   "execution_count": 20,
   "metadata": {
    "slideshow": {
     "slide_type": "skip"
    }
   },
   "outputs": [
    {
     "data": {
      "text/html": [
       "<div>\n",
       "<style scoped>\n",
       "    .dataframe tbody tr th:only-of-type {\n",
       "        vertical-align: middle;\n",
       "    }\n",
       "\n",
       "    .dataframe tbody tr th {\n",
       "        vertical-align: top;\n",
       "    }\n",
       "\n",
       "    .dataframe thead th {\n",
       "        text-align: right;\n",
       "    }\n",
       "</style>\n",
       "<table border=\"1\" class=\"dataframe\">\n",
       "  <thead>\n",
       "    <tr style=\"text-align: right;\">\n",
       "      <th></th>\n",
       "      <th>State_sat2017</th>\n",
       "      <th>Participation_sat2017</th>\n",
       "      <th>Evidence-Based_Reading_and_Writing_sat2017</th>\n",
       "      <th>Math_sat2017</th>\n",
       "      <th>Total_sat2017</th>\n",
       "    </tr>\n",
       "  </thead>\n",
       "  <tbody>\n",
       "    <tr>\n",
       "      <th>0</th>\n",
       "      <td>Alabama</td>\n",
       "      <td>5</td>\n",
       "      <td>593</td>\n",
       "      <td>572</td>\n",
       "      <td>1165</td>\n",
       "    </tr>\n",
       "    <tr>\n",
       "      <th>1</th>\n",
       "      <td>Alaska</td>\n",
       "      <td>38</td>\n",
       "      <td>547</td>\n",
       "      <td>533</td>\n",
       "      <td>1080</td>\n",
       "    </tr>\n",
       "    <tr>\n",
       "      <th>2</th>\n",
       "      <td>Arizona</td>\n",
       "      <td>30</td>\n",
       "      <td>563</td>\n",
       "      <td>553</td>\n",
       "      <td>1116</td>\n",
       "    </tr>\n",
       "    <tr>\n",
       "      <th>3</th>\n",
       "      <td>Arkansas</td>\n",
       "      <td>3</td>\n",
       "      <td>614</td>\n",
       "      <td>594</td>\n",
       "      <td>1208</td>\n",
       "    </tr>\n",
       "    <tr>\n",
       "      <th>4</th>\n",
       "      <td>California</td>\n",
       "      <td>53</td>\n",
       "      <td>531</td>\n",
       "      <td>524</td>\n",
       "      <td>1055</td>\n",
       "    </tr>\n",
       "  </tbody>\n",
       "</table>\n",
       "</div>"
      ],
      "text/plain": [
       "  State_sat2017  Participation_sat2017  \\\n",
       "0       Alabama                      5   \n",
       "1        Alaska                     38   \n",
       "2       Arizona                     30   \n",
       "3      Arkansas                      3   \n",
       "4    California                     53   \n",
       "\n",
       "   Evidence-Based_Reading_and_Writing_sat2017  Math_sat2017  Total_sat2017  \n",
       "0                                         593           572           1165  \n",
       "1                                         547           533           1080  \n",
       "2                                         563           553           1116  \n",
       "3                                         614           594           1208  \n",
       "4                                         531           524           1055  "
      ]
     },
     "execution_count": 20,
     "metadata": {},
     "output_type": "execute_result"
    }
   ],
   "source": [
    "sat_2017_dataset.head()"
   ]
  },
  {
   "cell_type": "code",
   "execution_count": 21,
   "metadata": {
    "slideshow": {
     "slide_type": "skip"
    }
   },
   "outputs": [
    {
     "data": {
      "text/html": [
       "<div>\n",
       "<style scoped>\n",
       "    .dataframe tbody tr th:only-of-type {\n",
       "        vertical-align: middle;\n",
       "    }\n",
       "\n",
       "    .dataframe tbody tr th {\n",
       "        vertical-align: top;\n",
       "    }\n",
       "\n",
       "    .dataframe thead th {\n",
       "        text-align: right;\n",
       "    }\n",
       "</style>\n",
       "<table border=\"1\" class=\"dataframe\">\n",
       "  <thead>\n",
       "    <tr style=\"text-align: right;\">\n",
       "      <th></th>\n",
       "      <th>State_act2017</th>\n",
       "      <th>Participation_act2017</th>\n",
       "      <th>English_act2017</th>\n",
       "      <th>Math_act2017</th>\n",
       "      <th>Reading_act2017</th>\n",
       "      <th>Science_act2017</th>\n",
       "      <th>Composite_act2017</th>\n",
       "    </tr>\n",
       "  </thead>\n",
       "  <tbody>\n",
       "    <tr>\n",
       "      <th>0</th>\n",
       "      <td>National</td>\n",
       "      <td>60</td>\n",
       "      <td>20.3</td>\n",
       "      <td>20.7</td>\n",
       "      <td>21.4</td>\n",
       "      <td>21.0</td>\n",
       "      <td>21.0</td>\n",
       "    </tr>\n",
       "    <tr>\n",
       "      <th>1</th>\n",
       "      <td>Alabama</td>\n",
       "      <td>100</td>\n",
       "      <td>18.9</td>\n",
       "      <td>18.4</td>\n",
       "      <td>19.7</td>\n",
       "      <td>19.4</td>\n",
       "      <td>19.2</td>\n",
       "    </tr>\n",
       "    <tr>\n",
       "      <th>2</th>\n",
       "      <td>Alaska</td>\n",
       "      <td>65</td>\n",
       "      <td>18.7</td>\n",
       "      <td>19.8</td>\n",
       "      <td>20.4</td>\n",
       "      <td>19.9</td>\n",
       "      <td>19.8</td>\n",
       "    </tr>\n",
       "    <tr>\n",
       "      <th>3</th>\n",
       "      <td>Arizona</td>\n",
       "      <td>62</td>\n",
       "      <td>18.6</td>\n",
       "      <td>19.8</td>\n",
       "      <td>20.1</td>\n",
       "      <td>19.8</td>\n",
       "      <td>19.7</td>\n",
       "    </tr>\n",
       "    <tr>\n",
       "      <th>4</th>\n",
       "      <td>Arkansas</td>\n",
       "      <td>100</td>\n",
       "      <td>18.9</td>\n",
       "      <td>19.0</td>\n",
       "      <td>19.7</td>\n",
       "      <td>19.5</td>\n",
       "      <td>19.4</td>\n",
       "    </tr>\n",
       "  </tbody>\n",
       "</table>\n",
       "</div>"
      ],
      "text/plain": [
       "  State_act2017  Participation_act2017  English_act2017  Math_act2017  \\\n",
       "0      National                     60             20.3          20.7   \n",
       "1       Alabama                    100             18.9          18.4   \n",
       "2        Alaska                     65             18.7          19.8   \n",
       "3       Arizona                     62             18.6          19.8   \n",
       "4      Arkansas                    100             18.9          19.0   \n",
       "\n",
       "   Reading_act2017  Science_act2017  Composite_act2017  \n",
       "0             21.4             21.0               21.0  \n",
       "1             19.7             19.4               19.2  \n",
       "2             20.4             19.9               19.8  \n",
       "3             20.1             19.8               19.7  \n",
       "4             19.7             19.5               19.4  "
      ]
     },
     "execution_count": 21,
     "metadata": {},
     "output_type": "execute_result"
    }
   ],
   "source": [
    "act_2017_dataset.head()"
   ]
  },
  {
   "cell_type": "markdown",
   "metadata": {
    "slideshow": {
     "slide_type": "skip"
    }
   },
   "source": [
    "#### 8. Create a data dictionary\n",
    "\n",
    "Now that we've fixed our data, and given it appropriate names, let's create a [data dictionary](http://library.ucmerced.edu/node/10249). \n",
    "\n",
    "A data dictionary provides a quick overview of features/variables/columns, alongside data types and descriptions. The more descriptive you can be, the more useful this document is.\n",
    "\n",
    "Example of a Fictional Data Dictionary Entry: \n",
    "\n",
    "|Feature|Type|Dataset|Description|\n",
    "|---|---|---|---|\n",
    "|**county_pop**|*integer*|2010 census|The population of the county (units in thousands, where 2.5 represents 2500 people).| \n",
    "|**per_poverty**|*float*|2010 census|The percent of the county over the age of 18 living below the 200% of official US poverty rate (units percent to two decimal places 98.10 means 98.1%)|\n",
    "\n",
    "[Here's a quick link to a short guide for formatting markdown in Jupyter notebooks](https://jupyter-notebook.readthedocs.io/en/stable/examples/Notebook/Working%20With%20Markdown%20Cells.html).\n",
    "\n",
    "Provided is the skeleton for formatting a markdown table, with columns headers that will help you create a data dictionary to quickly summarize your data, as well as some examples. **This would be a great thing to copy and paste into your custom README for this project.**"
   ]
  },
  {
   "cell_type": "markdown",
   "metadata": {
    "slideshow": {
     "slide_type": "skip"
    }
   },
   "source": [
    "#### SAT 2017 data dictionary\n",
    "\n",
    "|Feature|Type|Dataset|Description|\n",
    "|---|---|---|---|\n",
    "|**State_sat2017 / State_act2017**|*object (category)*|SAT/ACT 2017|Name of US State| \n",
    "|**Participation_sat2017 / Participation_act2017**|*integer*|SAT/ACT 2017|Participation rate of students in percentages| \n",
    "|**Evidence-Based_Reading_and_Writing_sat2017**|*integer*|SAT 2017|Score for Evidenced Based Reading and Writing Component of SAT (maximum is 800)| \n",
    "|**Math_sat2017**|*integer*|SAT 2017|Score for Math Component of SAT (maximum is 800)| \n",
    "|**Total_sat2017**|*integer*|SAT 2017|Total Score computed as a sum of Evidence-Based Reading and Writing and Math (maximum is 1600)| \n",
    "|**English_act2017**|*float*|ACT 2017|Score for English Component (Scaled between 1 and 36)|\n",
    "|**Math_act2017**|*float*|ACT 2017|Score for Math Component (Scaled between 1 and 36)|\n",
    "|**Reading_act2017**|*float*|ACT 2017|Score for Reading Component (Scaled between 1 and 36)|\n",
    "|**Science_act2017**|*float*|ACT 2017|Score for Science Component (Scaled between 1 and 36)|\n",
    "|**Composite_act2017**|*float*|ACT 2017|Average Score of English/Math/Reading/Science Components (Scaled between 1 and 36)|\n",
    "\n"
   ]
  },
  {
   "cell_type": "markdown",
   "metadata": {
    "slideshow": {
     "slide_type": "skip"
    }
   },
   "source": [
    "#### 9. Drop unnecessary rows\n",
    "\n",
    "One of our dataframes contains an extra row. Identify and remove this from the dataframe."
   ]
  },
  {
   "cell_type": "code",
   "execution_count": 22,
   "metadata": {
    "slideshow": {
     "slide_type": "skip"
    }
   },
   "outputs": [],
   "source": [
    "#code : remove national from the act 2017 dataset\n",
    "act_2017_dataset = act_2017_dataset[act_2017_dataset.State_act2017 != 'National']"
   ]
  },
  {
   "cell_type": "markdown",
   "metadata": {
    "slideshow": {
     "slide_type": "skip"
    }
   },
   "source": [
    "#### 10. Merge Dataframes\n",
    "\n",
    "Join the 2017 ACT and SAT dataframes using the state in each dataframe as the key. Assign this to a new variable."
   ]
  },
  {
   "cell_type": "code",
   "execution_count": 23,
   "metadata": {
    "slideshow": {
     "slide_type": "skip"
    }
   },
   "outputs": [
    {
     "name": "stdout",
     "output_type": "stream",
     "text": [
      "<class 'pandas.core.frame.DataFrame'>\n",
      "Int64Index: 51 entries, 1 to 51\n",
      "Data columns (total 7 columns):\n",
      "State_act2017            51 non-null object\n",
      "Participation_act2017    51 non-null int64\n",
      "English_act2017          51 non-null float64\n",
      "Math_act2017             51 non-null float64\n",
      "Reading_act2017          51 non-null float64\n",
      "Science_act2017          51 non-null float64\n",
      "Composite_act2017        51 non-null float64\n",
      "dtypes: float64(5), int64(1), object(1)\n",
      "memory usage: 3.2+ KB\n"
     ]
    }
   ],
   "source": [
    "#Code - check before merge:\n",
    "\n",
    "act_2017_dataset.info()"
   ]
  },
  {
   "cell_type": "code",
   "execution_count": 24,
   "metadata": {
    "slideshow": {
     "slide_type": "skip"
    }
   },
   "outputs": [
    {
     "name": "stdout",
     "output_type": "stream",
     "text": [
      "<class 'pandas.core.frame.DataFrame'>\n",
      "RangeIndex: 51 entries, 0 to 50\n",
      "Data columns (total 5 columns):\n",
      "State_sat2017                                 51 non-null object\n",
      "Participation_sat2017                         51 non-null int64\n",
      "Evidence-Based_Reading_and_Writing_sat2017    51 non-null int64\n",
      "Math_sat2017                                  51 non-null int64\n",
      "Total_sat2017                                 51 non-null int64\n",
      "dtypes: int64(4), object(1)\n",
      "memory usage: 2.1+ KB\n"
     ]
    }
   ],
   "source": [
    "sat_2017_dataset.info()"
   ]
  },
  {
   "cell_type": "code",
   "execution_count": 25,
   "metadata": {
    "slideshow": {
     "slide_type": "skip"
    }
   },
   "outputs": [
    {
     "data": {
      "text/html": [
       "<div>\n",
       "<style scoped>\n",
       "    .dataframe tbody tr th:only-of-type {\n",
       "        vertical-align: middle;\n",
       "    }\n",
       "\n",
       "    .dataframe tbody tr th {\n",
       "        vertical-align: top;\n",
       "    }\n",
       "\n",
       "    .dataframe thead th {\n",
       "        text-align: right;\n",
       "    }\n",
       "</style>\n",
       "<table border=\"1\" class=\"dataframe\">\n",
       "  <thead>\n",
       "    <tr style=\"text-align: right;\">\n",
       "      <th></th>\n",
       "      <th>State_sat2017</th>\n",
       "      <th>Participation_sat2017</th>\n",
       "      <th>Evidence-Based_Reading_and_Writing_sat2017</th>\n",
       "      <th>Math_sat2017</th>\n",
       "      <th>Total_sat2017</th>\n",
       "      <th>State_act2017</th>\n",
       "      <th>Participation_act2017</th>\n",
       "      <th>English_act2017</th>\n",
       "      <th>Math_act2017</th>\n",
       "      <th>Reading_act2017</th>\n",
       "      <th>Science_act2017</th>\n",
       "      <th>Composite_act2017</th>\n",
       "    </tr>\n",
       "  </thead>\n",
       "  <tbody>\n",
       "    <tr>\n",
       "      <th>0</th>\n",
       "      <td>Alabama</td>\n",
       "      <td>5</td>\n",
       "      <td>593</td>\n",
       "      <td>572</td>\n",
       "      <td>1165</td>\n",
       "      <td>Alabama</td>\n",
       "      <td>100</td>\n",
       "      <td>18.9</td>\n",
       "      <td>18.4</td>\n",
       "      <td>19.7</td>\n",
       "      <td>19.4</td>\n",
       "      <td>19.2</td>\n",
       "    </tr>\n",
       "    <tr>\n",
       "      <th>1</th>\n",
       "      <td>Alaska</td>\n",
       "      <td>38</td>\n",
       "      <td>547</td>\n",
       "      <td>533</td>\n",
       "      <td>1080</td>\n",
       "      <td>Alaska</td>\n",
       "      <td>65</td>\n",
       "      <td>18.7</td>\n",
       "      <td>19.8</td>\n",
       "      <td>20.4</td>\n",
       "      <td>19.9</td>\n",
       "      <td>19.8</td>\n",
       "    </tr>\n",
       "    <tr>\n",
       "      <th>2</th>\n",
       "      <td>Arizona</td>\n",
       "      <td>30</td>\n",
       "      <td>563</td>\n",
       "      <td>553</td>\n",
       "      <td>1116</td>\n",
       "      <td>Arizona</td>\n",
       "      <td>62</td>\n",
       "      <td>18.6</td>\n",
       "      <td>19.8</td>\n",
       "      <td>20.1</td>\n",
       "      <td>19.8</td>\n",
       "      <td>19.7</td>\n",
       "    </tr>\n",
       "    <tr>\n",
       "      <th>3</th>\n",
       "      <td>Arkansas</td>\n",
       "      <td>3</td>\n",
       "      <td>614</td>\n",
       "      <td>594</td>\n",
       "      <td>1208</td>\n",
       "      <td>Arkansas</td>\n",
       "      <td>100</td>\n",
       "      <td>18.9</td>\n",
       "      <td>19.0</td>\n",
       "      <td>19.7</td>\n",
       "      <td>19.5</td>\n",
       "      <td>19.4</td>\n",
       "    </tr>\n",
       "    <tr>\n",
       "      <th>4</th>\n",
       "      <td>California</td>\n",
       "      <td>53</td>\n",
       "      <td>531</td>\n",
       "      <td>524</td>\n",
       "      <td>1055</td>\n",
       "      <td>California</td>\n",
       "      <td>31</td>\n",
       "      <td>22.5</td>\n",
       "      <td>22.7</td>\n",
       "      <td>23.1</td>\n",
       "      <td>22.2</td>\n",
       "      <td>22.8</td>\n",
       "    </tr>\n",
       "  </tbody>\n",
       "</table>\n",
       "</div>"
      ],
      "text/plain": [
       "  State_sat2017  Participation_sat2017  \\\n",
       "0       Alabama                      5   \n",
       "1        Alaska                     38   \n",
       "2       Arizona                     30   \n",
       "3      Arkansas                      3   \n",
       "4    California                     53   \n",
       "\n",
       "   Evidence-Based_Reading_and_Writing_sat2017  Math_sat2017  Total_sat2017  \\\n",
       "0                                         593           572           1165   \n",
       "1                                         547           533           1080   \n",
       "2                                         563           553           1116   \n",
       "3                                         614           594           1208   \n",
       "4                                         531           524           1055   \n",
       "\n",
       "  State_act2017  Participation_act2017  English_act2017  Math_act2017  \\\n",
       "0       Alabama                    100             18.9          18.4   \n",
       "1        Alaska                     65             18.7          19.8   \n",
       "2       Arizona                     62             18.6          19.8   \n",
       "3      Arkansas                    100             18.9          19.0   \n",
       "4    California                     31             22.5          22.7   \n",
       "\n",
       "   Reading_act2017  Science_act2017  Composite_act2017  \n",
       "0             19.7             19.4               19.2  \n",
       "1             20.4             19.9               19.8  \n",
       "2             20.1             19.8               19.7  \n",
       "3             19.7             19.5               19.4  \n",
       "4             23.1             22.2               22.8  "
      ]
     },
     "execution_count": 25,
     "metadata": {},
     "output_type": "execute_result"
    }
   ],
   "source": [
    "merge_2017 = sat_2017_dataset.merge(act_2017_dataset,how='left',left_on='State_sat2017',right_on='State_act2017')\n",
    "\n",
    "merge_2017.head()"
   ]
  },
  {
   "cell_type": "markdown",
   "metadata": {
    "slideshow": {
     "slide_type": "skip"
    }
   },
   "source": [
    "#### 11. Save your cleaned, merged dataframe\n",
    "\n",
    "Use a relative path to save out your data as `combined_2017.csv`."
   ]
  },
  {
   "cell_type": "code",
   "execution_count": 26,
   "metadata": {
    "slideshow": {
     "slide_type": "skip"
    }
   },
   "outputs": [],
   "source": [
    "#code\n",
    "merge_2017.to_csv('data/combined_2017.csv')"
   ]
  },
  {
   "cell_type": "markdown",
   "metadata": {
    "slideshow": {
     "slide_type": "skip"
    }
   },
   "source": [
    "## 2018 Data Import and Cleaning"
   ]
  },
  {
   "cell_type": "markdown",
   "metadata": {
    "slideshow": {
     "slide_type": "skip"
    }
   },
   "source": [
    "Links to the 2018 ACT and SAT data are provided in the README. These data live in PDFs, and so you'll get to enjoy practicing some *manual* data collection. Save these data as a CSV in your `data` directory, and import, explore, and clean these data in the same way you did above. **Make sure you comment on your steps so it is clear *why* you are doing each process**."
   ]
  },
  {
   "cell_type": "code",
   "execution_count": 27,
   "metadata": {
    "slideshow": {
     "slide_type": "skip"
    }
   },
   "outputs": [],
   "source": [
    "#Code:\n",
    "# Load in datasets\n",
    "sat_2018_dataset = pd.read_csv(\"data/SAT_2018.csv\")\n",
    "act_2018_dataset = pd.read_csv(\"data/ACT_2018_with_scores.csv\")"
   ]
  },
  {
   "cell_type": "code",
   "execution_count": 28,
   "metadata": {
    "slideshow": {
     "slide_type": "skip"
    }
   },
   "outputs": [
    {
     "name": "stdout",
     "output_type": "stream",
     "text": [
      "<class 'pandas.core.frame.DataFrame'>\n",
      "RangeIndex: 51 entries, 0 to 50\n",
      "Data columns (total 5 columns):\n",
      "State                                 51 non-null object\n",
      "Participation                         51 non-null object\n",
      "Evidence-Based Reading and Writing    51 non-null int64\n",
      "Math                                  51 non-null int64\n",
      "Total                                 51 non-null int64\n",
      "dtypes: int64(3), object(2)\n",
      "memory usage: 2.1+ KB\n"
     ]
    }
   ],
   "source": [
    "# Check dataset structure\n",
    "sat_2018_dataset.info()"
   ]
  },
  {
   "cell_type": "code",
   "execution_count": 29,
   "metadata": {
    "slideshow": {
     "slide_type": "skip"
    }
   },
   "outputs": [
    {
     "name": "stdout",
     "output_type": "stream",
     "text": [
      "<class 'pandas.core.frame.DataFrame'>\n",
      "RangeIndex: 52 entries, 0 to 51\n",
      "Data columns (total 7 columns):\n",
      "State            52 non-null object\n",
      "Participation    52 non-null int64\n",
      "Composite        52 non-null float64\n",
      "English          52 non-null float64\n",
      "Math             52 non-null float64\n",
      "Reading          52 non-null float64\n",
      "Science          52 non-null float64\n",
      "dtypes: float64(5), int64(1), object(1)\n",
      "memory usage: 2.9+ KB\n"
     ]
    }
   ],
   "source": [
    "act_2018_dataset.info()"
   ]
  },
  {
   "cell_type": "code",
   "execution_count": 30,
   "metadata": {
    "slideshow": {
     "slide_type": "skip"
    }
   },
   "outputs": [],
   "source": [
    "# 2018 SAT Dataset is of wrong datatype for participation\n",
    "sat_2018_dataset['Participation'] = sat_2018_dataset['Participation'].str.rstrip('%').astype('int64')"
   ]
  },
  {
   "cell_type": "code",
   "execution_count": 31,
   "metadata": {
    "slideshow": {
     "slide_type": "skip"
    }
   },
   "outputs": [
    {
     "name": "stdout",
     "output_type": "stream",
     "text": [
      "<class 'pandas.core.frame.DataFrame'>\n",
      "RangeIndex: 51 entries, 0 to 50\n",
      "Data columns (total 5 columns):\n",
      "State                                 51 non-null object\n",
      "Participation                         51 non-null int64\n",
      "Evidence-Based Reading and Writing    51 non-null int64\n",
      "Math                                  51 non-null int64\n",
      "Total                                 51 non-null int64\n",
      "dtypes: int64(4), object(1)\n",
      "memory usage: 2.1+ KB\n"
     ]
    }
   ],
   "source": [
    "# Participation should be of integer type\n",
    "sat_2018_dataset.info()"
   ]
  },
  {
   "cell_type": "code",
   "execution_count": 32,
   "metadata": {
    "slideshow": {
     "slide_type": "skip"
    }
   },
   "outputs": [
    {
     "data": {
      "text/plain": [
       "False"
      ]
     },
     "execution_count": 32,
     "metadata": {},
     "output_type": "execute_result"
    }
   ],
   "source": [
    "# Check data quality (NAs / Missing Values)\n",
    "sat_2018_dataset.isnull().values.any() # No missing values if False\n"
   ]
  },
  {
   "cell_type": "code",
   "execution_count": 33,
   "metadata": {
    "slideshow": {
     "slide_type": "skip"
    }
   },
   "outputs": [
    {
     "data": {
      "text/plain": [
       "False"
      ]
     },
     "execution_count": 33,
     "metadata": {},
     "output_type": "execute_result"
    }
   ],
   "source": [
    "act_2017_dataset.isnull().values.any() # No missing values if False"
   ]
  },
  {
   "cell_type": "code",
   "execution_count": 34,
   "metadata": {
    "slideshow": {
     "slide_type": "skip"
    }
   },
   "outputs": [
    {
     "name": "stdout",
     "output_type": "stream",
     "text": [
      "SAT 2018 Dataset\n",
      "\n",
      "min/max value for 'Participation' column: 2 / 100\n",
      "min/max value for 'Evidence-Based Reading and Writing' column: 497 / 643\n",
      "min/max value for 'Math' column: 480 / 655\n",
      "min/max value for 'Total' column: 977 / 1298\n",
      "\n",
      "ACT 2018 Dataset\n",
      "\n",
      "min/max value for 'Participation' column: 7 / 100\n",
      "min/max value for 'Composite' column: 17.7 / 25.6\n",
      "min/max value for 'English' column: 16.6 / 26.0\n",
      "min/max value for 'Math' column: 17.8 / 25.2\n",
      "min/max value for 'Reading' column: 18.0 / 26.1\n",
      "min/max value for 'Science' column: 17.9 / 24.9\n"
     ]
    }
   ],
   "source": [
    "#Check Observations (Max/Min) for discrepancies\n",
    "print(\"SAT 2018 Dataset\\n\")\n",
    "\n",
    "# Print out min/max , excluding states\n",
    "for sat_2018_headers in list(sat_2018_dataset.columns[1:]):\n",
    "    print(\"min/max value for '\" + str(sat_2018_headers) +\"' column: \" \n",
    "          + str(min(sat_2018_dataset[sat_2018_headers])) \n",
    "                    + ' / ' + str(max(sat_2018_dataset[sat_2018_headers])))\n",
    "\n",
    "# Print out min/max , excluding states\n",
    "print(\"\\nACT 2018 Dataset\\n\") \n",
    "for act_2018_headers in list(act_2018_dataset.columns[1:]):\n",
    "    print(\"min/max value for '\" + str(act_2018_headers) +\"' column: \" \n",
    "          + str(min(act_2018_dataset[act_2018_headers])) \n",
    "                    + ' / ' + str(max(act_2018_dataset[act_2018_headers])))"
   ]
  },
  {
   "cell_type": "markdown",
   "metadata": {
    "slideshow": {
     "slide_type": "skip"
    }
   },
   "source": [
    "Columns seem to check out, with no missing values. Now move on to merging the 2018 files together. "
   ]
  },
  {
   "cell_type": "code",
   "execution_count": 35,
   "metadata": {
    "slideshow": {
     "slide_type": "skip"
    }
   },
   "outputs": [],
   "source": [
    "# Prepare column names by removing spaces and adding appopriate suffixes\n",
    "\n",
    "# replace any whitespaces in column names with '_'\n",
    "sat_2018_dataset.columns = sat_2018_dataset.columns.str.replace(' ', '_')\n",
    "act_2018_dataset.columns = act_2018_dataset.columns.str.replace(' ', '_')\n",
    "\n",
    "# add suffix to distinguish 2017 dataframe \n",
    "sat_2018_dataset = sat_2018_dataset.add_suffix('_sat2018')\n",
    "act_2018_dataset = act_2018_dataset.add_suffix('_act2018')"
   ]
  },
  {
   "cell_type": "code",
   "execution_count": 36,
   "metadata": {
    "slideshow": {
     "slide_type": "skip"
    }
   },
   "outputs": [
    {
     "data": {
      "text/html": [
       "<div>\n",
       "<style scoped>\n",
       "    .dataframe tbody tr th:only-of-type {\n",
       "        vertical-align: middle;\n",
       "    }\n",
       "\n",
       "    .dataframe tbody tr th {\n",
       "        vertical-align: top;\n",
       "    }\n",
       "\n",
       "    .dataframe thead th {\n",
       "        text-align: right;\n",
       "    }\n",
       "</style>\n",
       "<table border=\"1\" class=\"dataframe\">\n",
       "  <thead>\n",
       "    <tr style=\"text-align: right;\">\n",
       "      <th></th>\n",
       "      <th>State_act2018</th>\n",
       "      <th>Participation_act2018</th>\n",
       "      <th>Composite_act2018</th>\n",
       "      <th>English_act2018</th>\n",
       "      <th>Math_act2018</th>\n",
       "      <th>Reading_act2018</th>\n",
       "      <th>Science_act2018</th>\n",
       "    </tr>\n",
       "  </thead>\n",
       "  <tbody>\n",
       "    <tr>\n",
       "      <th>0</th>\n",
       "      <td>Alabama</td>\n",
       "      <td>100</td>\n",
       "      <td>19.1</td>\n",
       "      <td>18.9</td>\n",
       "      <td>18.3</td>\n",
       "      <td>19.6</td>\n",
       "      <td>19.0</td>\n",
       "    </tr>\n",
       "    <tr>\n",
       "      <th>1</th>\n",
       "      <td>Alaska</td>\n",
       "      <td>33</td>\n",
       "      <td>20.8</td>\n",
       "      <td>19.8</td>\n",
       "      <td>20.6</td>\n",
       "      <td>21.6</td>\n",
       "      <td>20.7</td>\n",
       "    </tr>\n",
       "    <tr>\n",
       "      <th>2</th>\n",
       "      <td>Arizona</td>\n",
       "      <td>66</td>\n",
       "      <td>19.2</td>\n",
       "      <td>18.2</td>\n",
       "      <td>19.4</td>\n",
       "      <td>19.5</td>\n",
       "      <td>19.2</td>\n",
       "    </tr>\n",
       "    <tr>\n",
       "      <th>3</th>\n",
       "      <td>Arkansas</td>\n",
       "      <td>100</td>\n",
       "      <td>19.4</td>\n",
       "      <td>19.1</td>\n",
       "      <td>18.9</td>\n",
       "      <td>19.7</td>\n",
       "      <td>19.4</td>\n",
       "    </tr>\n",
       "    <tr>\n",
       "      <th>4</th>\n",
       "      <td>California</td>\n",
       "      <td>27</td>\n",
       "      <td>22.7</td>\n",
       "      <td>22.5</td>\n",
       "      <td>22.5</td>\n",
       "      <td>23.0</td>\n",
       "      <td>22.1</td>\n",
       "    </tr>\n",
       "  </tbody>\n",
       "</table>\n",
       "</div>"
      ],
      "text/plain": [
       "  State_act2018  Participation_act2018  Composite_act2018  English_act2018  \\\n",
       "0       Alabama                    100               19.1             18.9   \n",
       "1        Alaska                     33               20.8             19.8   \n",
       "2       Arizona                     66               19.2             18.2   \n",
       "3      Arkansas                    100               19.4             19.1   \n",
       "4    California                     27               22.7             22.5   \n",
       "\n",
       "   Math_act2018  Reading_act2018  Science_act2018  \n",
       "0          18.3             19.6             19.0  \n",
       "1          20.6             21.6             20.7  \n",
       "2          19.4             19.5             19.2  \n",
       "3          18.9             19.7             19.4  \n",
       "4          22.5             23.0             22.1  "
      ]
     },
     "execution_count": 36,
     "metadata": {},
     "output_type": "execute_result"
    }
   ],
   "source": [
    "act_2018_dataset.head()"
   ]
  },
  {
   "cell_type": "code",
   "execution_count": 37,
   "metadata": {
    "slideshow": {
     "slide_type": "skip"
    }
   },
   "outputs": [],
   "source": [
    "# Remove additional row 'National' from ACT dataset\n",
    "\n",
    "act_2018_dataset = act_2018_dataset[act_2018_dataset.State_act2018 != 'National']"
   ]
  },
  {
   "cell_type": "code",
   "execution_count": 38,
   "metadata": {
    "slideshow": {
     "slide_type": "skip"
    }
   },
   "outputs": [
    {
     "data": {
      "text/html": [
       "<div>\n",
       "<style scoped>\n",
       "    .dataframe tbody tr th:only-of-type {\n",
       "        vertical-align: middle;\n",
       "    }\n",
       "\n",
       "    .dataframe tbody tr th {\n",
       "        vertical-align: top;\n",
       "    }\n",
       "\n",
       "    .dataframe thead th {\n",
       "        text-align: right;\n",
       "    }\n",
       "</style>\n",
       "<table border=\"1\" class=\"dataframe\">\n",
       "  <thead>\n",
       "    <tr style=\"text-align: right;\">\n",
       "      <th></th>\n",
       "      <th>State_sat2018</th>\n",
       "      <th>Participation_sat2018</th>\n",
       "      <th>Evidence-Based_Reading_and_Writing_sat2018</th>\n",
       "      <th>Math_sat2018</th>\n",
       "      <th>Total_sat2018</th>\n",
       "      <th>State_act2018</th>\n",
       "      <th>Participation_act2018</th>\n",
       "      <th>Composite_act2018</th>\n",
       "      <th>English_act2018</th>\n",
       "      <th>Math_act2018</th>\n",
       "      <th>Reading_act2018</th>\n",
       "      <th>Science_act2018</th>\n",
       "    </tr>\n",
       "  </thead>\n",
       "  <tbody>\n",
       "    <tr>\n",
       "      <th>0</th>\n",
       "      <td>Alabama</td>\n",
       "      <td>6</td>\n",
       "      <td>595</td>\n",
       "      <td>571</td>\n",
       "      <td>1166</td>\n",
       "      <td>Alabama</td>\n",
       "      <td>100</td>\n",
       "      <td>19.1</td>\n",
       "      <td>18.9</td>\n",
       "      <td>18.3</td>\n",
       "      <td>19.6</td>\n",
       "      <td>19.0</td>\n",
       "    </tr>\n",
       "    <tr>\n",
       "      <th>1</th>\n",
       "      <td>Alaska</td>\n",
       "      <td>43</td>\n",
       "      <td>562</td>\n",
       "      <td>544</td>\n",
       "      <td>1106</td>\n",
       "      <td>Alaska</td>\n",
       "      <td>33</td>\n",
       "      <td>20.8</td>\n",
       "      <td>19.8</td>\n",
       "      <td>20.6</td>\n",
       "      <td>21.6</td>\n",
       "      <td>20.7</td>\n",
       "    </tr>\n",
       "    <tr>\n",
       "      <th>2</th>\n",
       "      <td>Arizona</td>\n",
       "      <td>29</td>\n",
       "      <td>577</td>\n",
       "      <td>572</td>\n",
       "      <td>1149</td>\n",
       "      <td>Arizona</td>\n",
       "      <td>66</td>\n",
       "      <td>19.2</td>\n",
       "      <td>18.2</td>\n",
       "      <td>19.4</td>\n",
       "      <td>19.5</td>\n",
       "      <td>19.2</td>\n",
       "    </tr>\n",
       "    <tr>\n",
       "      <th>3</th>\n",
       "      <td>Arkansas</td>\n",
       "      <td>5</td>\n",
       "      <td>592</td>\n",
       "      <td>576</td>\n",
       "      <td>1169</td>\n",
       "      <td>Arkansas</td>\n",
       "      <td>100</td>\n",
       "      <td>19.4</td>\n",
       "      <td>19.1</td>\n",
       "      <td>18.9</td>\n",
       "      <td>19.7</td>\n",
       "      <td>19.4</td>\n",
       "    </tr>\n",
       "    <tr>\n",
       "      <th>4</th>\n",
       "      <td>California</td>\n",
       "      <td>60</td>\n",
       "      <td>540</td>\n",
       "      <td>536</td>\n",
       "      <td>1076</td>\n",
       "      <td>California</td>\n",
       "      <td>27</td>\n",
       "      <td>22.7</td>\n",
       "      <td>22.5</td>\n",
       "      <td>22.5</td>\n",
       "      <td>23.0</td>\n",
       "      <td>22.1</td>\n",
       "    </tr>\n",
       "  </tbody>\n",
       "</table>\n",
       "</div>"
      ],
      "text/plain": [
       "  State_sat2018  Participation_sat2018  \\\n",
       "0       Alabama                      6   \n",
       "1        Alaska                     43   \n",
       "2       Arizona                     29   \n",
       "3      Arkansas                      5   \n",
       "4    California                     60   \n",
       "\n",
       "   Evidence-Based_Reading_and_Writing_sat2018  Math_sat2018  Total_sat2018  \\\n",
       "0                                         595           571           1166   \n",
       "1                                         562           544           1106   \n",
       "2                                         577           572           1149   \n",
       "3                                         592           576           1169   \n",
       "4                                         540           536           1076   \n",
       "\n",
       "  State_act2018  Participation_act2018  Composite_act2018  English_act2018  \\\n",
       "0       Alabama                    100               19.1             18.9   \n",
       "1        Alaska                     33               20.8             19.8   \n",
       "2       Arizona                     66               19.2             18.2   \n",
       "3      Arkansas                    100               19.4             19.1   \n",
       "4    California                     27               22.7             22.5   \n",
       "\n",
       "   Math_act2018  Reading_act2018  Science_act2018  \n",
       "0          18.3             19.6             19.0  \n",
       "1          20.6             21.6             20.7  \n",
       "2          19.4             19.5             19.2  \n",
       "3          18.9             19.7             19.4  \n",
       "4          22.5             23.0             22.1  "
      ]
     },
     "execution_count": 38,
     "metadata": {},
     "output_type": "execute_result"
    }
   ],
   "source": [
    "# merge dataframes\n",
    "\n",
    "merge_2018 = sat_2018_dataset.merge(act_2018_dataset,how='left',left_on='State_sat2018',right_on='State_act2018')\n",
    "\n",
    "merge_2018.head()"
   ]
  },
  {
   "cell_type": "code",
   "execution_count": 39,
   "metadata": {
    "slideshow": {
     "slide_type": "skip"
    }
   },
   "outputs": [],
   "source": [
    "# Export merged dataframes\n",
    "\n",
    "merge_2018.to_csv('data/combined_2018.csv')"
   ]
  },
  {
   "cell_type": "markdown",
   "metadata": {
    "slideshow": {
     "slide_type": "skip"
    }
   },
   "source": [
    "#### Combine your 2017 and 2018 data into a single dataframe\n",
    "Joining on state names should work, assuming you formatted all your state names identically. Make sure none of your columns (other than state) have identical names. Do yourself a favor and decide if you're encoding participation rates as floats or integers and standardize this across your datasets.\n",
    "\n",
    "Save the contents of this merged dataframe as `final.csv`.\n",
    "\n",
    "**Use this combined dataframe for the remainder of the project**."
   ]
  },
  {
   "cell_type": "code",
   "execution_count": 40,
   "metadata": {
    "slideshow": {
     "slide_type": "skip"
    }
   },
   "outputs": [
    {
     "data": {
      "text/html": [
       "<div>\n",
       "<style scoped>\n",
       "    .dataframe tbody tr th:only-of-type {\n",
       "        vertical-align: middle;\n",
       "    }\n",
       "\n",
       "    .dataframe tbody tr th {\n",
       "        vertical-align: top;\n",
       "    }\n",
       "\n",
       "    .dataframe thead th {\n",
       "        text-align: right;\n",
       "    }\n",
       "</style>\n",
       "<table border=\"1\" class=\"dataframe\">\n",
       "  <thead>\n",
       "    <tr style=\"text-align: right;\">\n",
       "      <th></th>\n",
       "      <th>State_sat2018</th>\n",
       "      <th>Participation_sat2018</th>\n",
       "      <th>Evidence-Based_Reading_and_Writing_sat2018</th>\n",
       "      <th>Math_sat2018</th>\n",
       "      <th>Total_sat2018</th>\n",
       "      <th>State_act2018</th>\n",
       "      <th>Participation_act2018</th>\n",
       "      <th>Composite_act2018</th>\n",
       "      <th>English_act2018</th>\n",
       "      <th>Math_act2018</th>\n",
       "      <th>...</th>\n",
       "      <th>Evidence-Based_Reading_and_Writing_sat2017</th>\n",
       "      <th>Math_sat2017</th>\n",
       "      <th>Total_sat2017</th>\n",
       "      <th>State_act2017</th>\n",
       "      <th>Participation_act2017</th>\n",
       "      <th>English_act2017</th>\n",
       "      <th>Math_act2017</th>\n",
       "      <th>Reading_act2017</th>\n",
       "      <th>Science_act2017</th>\n",
       "      <th>Composite_act2017</th>\n",
       "    </tr>\n",
       "  </thead>\n",
       "  <tbody>\n",
       "    <tr>\n",
       "      <th>0</th>\n",
       "      <td>Alabama</td>\n",
       "      <td>6</td>\n",
       "      <td>595</td>\n",
       "      <td>571</td>\n",
       "      <td>1166</td>\n",
       "      <td>Alabama</td>\n",
       "      <td>100</td>\n",
       "      <td>19.1</td>\n",
       "      <td>18.9</td>\n",
       "      <td>18.3</td>\n",
       "      <td>...</td>\n",
       "      <td>593</td>\n",
       "      <td>572</td>\n",
       "      <td>1165</td>\n",
       "      <td>Alabama</td>\n",
       "      <td>100</td>\n",
       "      <td>18.9</td>\n",
       "      <td>18.4</td>\n",
       "      <td>19.7</td>\n",
       "      <td>19.4</td>\n",
       "      <td>19.2</td>\n",
       "    </tr>\n",
       "    <tr>\n",
       "      <th>1</th>\n",
       "      <td>Alaska</td>\n",
       "      <td>43</td>\n",
       "      <td>562</td>\n",
       "      <td>544</td>\n",
       "      <td>1106</td>\n",
       "      <td>Alaska</td>\n",
       "      <td>33</td>\n",
       "      <td>20.8</td>\n",
       "      <td>19.8</td>\n",
       "      <td>20.6</td>\n",
       "      <td>...</td>\n",
       "      <td>547</td>\n",
       "      <td>533</td>\n",
       "      <td>1080</td>\n",
       "      <td>Alaska</td>\n",
       "      <td>65</td>\n",
       "      <td>18.7</td>\n",
       "      <td>19.8</td>\n",
       "      <td>20.4</td>\n",
       "      <td>19.9</td>\n",
       "      <td>19.8</td>\n",
       "    </tr>\n",
       "    <tr>\n",
       "      <th>2</th>\n",
       "      <td>Arizona</td>\n",
       "      <td>29</td>\n",
       "      <td>577</td>\n",
       "      <td>572</td>\n",
       "      <td>1149</td>\n",
       "      <td>Arizona</td>\n",
       "      <td>66</td>\n",
       "      <td>19.2</td>\n",
       "      <td>18.2</td>\n",
       "      <td>19.4</td>\n",
       "      <td>...</td>\n",
       "      <td>563</td>\n",
       "      <td>553</td>\n",
       "      <td>1116</td>\n",
       "      <td>Arizona</td>\n",
       "      <td>62</td>\n",
       "      <td>18.6</td>\n",
       "      <td>19.8</td>\n",
       "      <td>20.1</td>\n",
       "      <td>19.8</td>\n",
       "      <td>19.7</td>\n",
       "    </tr>\n",
       "    <tr>\n",
       "      <th>3</th>\n",
       "      <td>Arkansas</td>\n",
       "      <td>5</td>\n",
       "      <td>592</td>\n",
       "      <td>576</td>\n",
       "      <td>1169</td>\n",
       "      <td>Arkansas</td>\n",
       "      <td>100</td>\n",
       "      <td>19.4</td>\n",
       "      <td>19.1</td>\n",
       "      <td>18.9</td>\n",
       "      <td>...</td>\n",
       "      <td>614</td>\n",
       "      <td>594</td>\n",
       "      <td>1208</td>\n",
       "      <td>Arkansas</td>\n",
       "      <td>100</td>\n",
       "      <td>18.9</td>\n",
       "      <td>19.0</td>\n",
       "      <td>19.7</td>\n",
       "      <td>19.5</td>\n",
       "      <td>19.4</td>\n",
       "    </tr>\n",
       "    <tr>\n",
       "      <th>4</th>\n",
       "      <td>California</td>\n",
       "      <td>60</td>\n",
       "      <td>540</td>\n",
       "      <td>536</td>\n",
       "      <td>1076</td>\n",
       "      <td>California</td>\n",
       "      <td>27</td>\n",
       "      <td>22.7</td>\n",
       "      <td>22.5</td>\n",
       "      <td>22.5</td>\n",
       "      <td>...</td>\n",
       "      <td>531</td>\n",
       "      <td>524</td>\n",
       "      <td>1055</td>\n",
       "      <td>California</td>\n",
       "      <td>31</td>\n",
       "      <td>22.5</td>\n",
       "      <td>22.7</td>\n",
       "      <td>23.1</td>\n",
       "      <td>22.2</td>\n",
       "      <td>22.8</td>\n",
       "    </tr>\n",
       "  </tbody>\n",
       "</table>\n",
       "<p>5 rows × 24 columns</p>\n",
       "</div>"
      ],
      "text/plain": [
       "  State_sat2018  Participation_sat2018  \\\n",
       "0       Alabama                      6   \n",
       "1        Alaska                     43   \n",
       "2       Arizona                     29   \n",
       "3      Arkansas                      5   \n",
       "4    California                     60   \n",
       "\n",
       "   Evidence-Based_Reading_and_Writing_sat2018  Math_sat2018  Total_sat2018  \\\n",
       "0                                         595           571           1166   \n",
       "1                                         562           544           1106   \n",
       "2                                         577           572           1149   \n",
       "3                                         592           576           1169   \n",
       "4                                         540           536           1076   \n",
       "\n",
       "  State_act2018  Participation_act2018  Composite_act2018  English_act2018  \\\n",
       "0       Alabama                    100               19.1             18.9   \n",
       "1        Alaska                     33               20.8             19.8   \n",
       "2       Arizona                     66               19.2             18.2   \n",
       "3      Arkansas                    100               19.4             19.1   \n",
       "4    California                     27               22.7             22.5   \n",
       "\n",
       "   Math_act2018  ...  Evidence-Based_Reading_and_Writing_sat2017  \\\n",
       "0          18.3  ...                                         593   \n",
       "1          20.6  ...                                         547   \n",
       "2          19.4  ...                                         563   \n",
       "3          18.9  ...                                         614   \n",
       "4          22.5  ...                                         531   \n",
       "\n",
       "   Math_sat2017 Total_sat2017  State_act2017  Participation_act2017  \\\n",
       "0           572          1165        Alabama                    100   \n",
       "1           533          1080         Alaska                     65   \n",
       "2           553          1116        Arizona                     62   \n",
       "3           594          1208       Arkansas                    100   \n",
       "4           524          1055     California                     31   \n",
       "\n",
       "   English_act2017  Math_act2017 Reading_act2017  Science_act2017  \\\n",
       "0             18.9          18.4            19.7             19.4   \n",
       "1             18.7          19.8            20.4             19.9   \n",
       "2             18.6          19.8            20.1             19.8   \n",
       "3             18.9          19.0            19.7             19.5   \n",
       "4             22.5          22.7            23.1             22.2   \n",
       "\n",
       "   Composite_act2017  \n",
       "0               19.2  \n",
       "1               19.8  \n",
       "2               19.7  \n",
       "3               19.4  \n",
       "4               22.8  \n",
       "\n",
       "[5 rows x 24 columns]"
      ]
     },
     "execution_count": 40,
     "metadata": {},
     "output_type": "execute_result"
    }
   ],
   "source": [
    "# create 'super' combined dataframe\n",
    "final = merge_2018.merge(merge_2017,how='left',left_on='State_sat2018',right_on='State_act2017')\n",
    "\n",
    "final.head()"
   ]
  },
  {
   "cell_type": "code",
   "execution_count": 41,
   "metadata": {
    "slideshow": {
     "slide_type": "skip"
    }
   },
   "outputs": [],
   "source": [
    "# Export file\n",
    "final.to_csv('data/final.csv')"
   ]
  },
  {
   "cell_type": "markdown",
   "metadata": {
    "slideshow": {
     "slide_type": "skip"
    }
   },
   "source": [
    "## Exploratory Data Analysis\n",
    "\n",
    "\n",
    "### Summary Statistics\n",
    "Transpose the output of pandas `describe` method to create a quick overview of each numeric feature."
   ]
  },
  {
   "cell_type": "code",
   "execution_count": 42,
   "metadata": {
    "slideshow": {
     "slide_type": "skip"
    }
   },
   "outputs": [
    {
     "data": {
      "text/html": [
       "<div>\n",
       "<style scoped>\n",
       "    .dataframe tbody tr th:only-of-type {\n",
       "        vertical-align: middle;\n",
       "    }\n",
       "\n",
       "    .dataframe tbody tr th {\n",
       "        vertical-align: top;\n",
       "    }\n",
       "\n",
       "    .dataframe thead th {\n",
       "        text-align: right;\n",
       "    }\n",
       "</style>\n",
       "<table border=\"1\" class=\"dataframe\">\n",
       "  <thead>\n",
       "    <tr style=\"text-align: right;\">\n",
       "      <th></th>\n",
       "      <th>count</th>\n",
       "      <th>mean</th>\n",
       "      <th>std</th>\n",
       "      <th>min</th>\n",
       "      <th>25%</th>\n",
       "      <th>50%</th>\n",
       "      <th>75%</th>\n",
       "      <th>max</th>\n",
       "    </tr>\n",
       "  </thead>\n",
       "  <tbody>\n",
       "    <tr>\n",
       "      <th>Participation_sat2018</th>\n",
       "      <td>51.0</td>\n",
       "      <td>46.627451</td>\n",
       "      <td>38.014187</td>\n",
       "      <td>2.0</td>\n",
       "      <td>4.5</td>\n",
       "      <td>52.0</td>\n",
       "      <td>79.5</td>\n",
       "      <td>100.0</td>\n",
       "    </tr>\n",
       "    <tr>\n",
       "      <th>Evidence-Based_Reading_and_Writing_sat2018</th>\n",
       "      <td>51.0</td>\n",
       "      <td>567.294118</td>\n",
       "      <td>45.317676</td>\n",
       "      <td>497.0</td>\n",
       "      <td>535.0</td>\n",
       "      <td>552.0</td>\n",
       "      <td>616.5</td>\n",
       "      <td>643.0</td>\n",
       "    </tr>\n",
       "    <tr>\n",
       "      <th>Math_sat2018</th>\n",
       "      <td>51.0</td>\n",
       "      <td>557.254902</td>\n",
       "      <td>48.887562</td>\n",
       "      <td>480.0</td>\n",
       "      <td>521.5</td>\n",
       "      <td>547.0</td>\n",
       "      <td>600.5</td>\n",
       "      <td>655.0</td>\n",
       "    </tr>\n",
       "    <tr>\n",
       "      <th>Total_sat2018</th>\n",
       "      <td>51.0</td>\n",
       "      <td>1124.666667</td>\n",
       "      <td>93.867069</td>\n",
       "      <td>977.0</td>\n",
       "      <td>1062.5</td>\n",
       "      <td>1099.0</td>\n",
       "      <td>1220.0</td>\n",
       "      <td>1298.0</td>\n",
       "    </tr>\n",
       "    <tr>\n",
       "      <th>Participation_act2018</th>\n",
       "      <td>51.0</td>\n",
       "      <td>61.647059</td>\n",
       "      <td>34.080976</td>\n",
       "      <td>7.0</td>\n",
       "      <td>28.5</td>\n",
       "      <td>66.0</td>\n",
       "      <td>100.0</td>\n",
       "      <td>100.0</td>\n",
       "    </tr>\n",
       "  </tbody>\n",
       "</table>\n",
       "</div>"
      ],
      "text/plain": [
       "                                            count         mean        std  \\\n",
       "Participation_sat2018                        51.0    46.627451  38.014187   \n",
       "Evidence-Based_Reading_and_Writing_sat2018   51.0   567.294118  45.317676   \n",
       "Math_sat2018                                 51.0   557.254902  48.887562   \n",
       "Total_sat2018                                51.0  1124.666667  93.867069   \n",
       "Participation_act2018                        51.0    61.647059  34.080976   \n",
       "\n",
       "                                              min     25%     50%     75%  \\\n",
       "Participation_sat2018                         2.0     4.5    52.0    79.5   \n",
       "Evidence-Based_Reading_and_Writing_sat2018  497.0   535.0   552.0   616.5   \n",
       "Math_sat2018                                480.0   521.5   547.0   600.5   \n",
       "Total_sat2018                               977.0  1062.5  1099.0  1220.0   \n",
       "Participation_act2018                         7.0    28.5    66.0   100.0   \n",
       "\n",
       "                                               max  \n",
       "Participation_sat2018                        100.0  \n",
       "Evidence-Based_Reading_and_Writing_sat2018   643.0  \n",
       "Math_sat2018                                 655.0  \n",
       "Total_sat2018                               1298.0  \n",
       "Participation_act2018                        100.0  "
      ]
     },
     "execution_count": 42,
     "metadata": {},
     "output_type": "execute_result"
    }
   ],
   "source": [
    "#Code:\n",
    "final.describe().transpose().head()"
   ]
  },
  {
   "cell_type": "markdown",
   "metadata": {
    "slideshow": {
     "slide_type": "skip"
    }
   },
   "source": [
    "#### Manually calculate standard deviation\n",
    "\n",
    "$$\\sigma = \\sqrt{\\frac{1}{n}\\sum_{i=1}^n(x_i - \\mu)^2}$$\n",
    "\n",
    "- Write a function to calculate standard deviation using the formula above"
   ]
  },
  {
   "cell_type": "code",
   "execution_count": 43,
   "metadata": {
    "slideshow": {
     "slide_type": "skip"
    }
   },
   "outputs": [],
   "source": [
    "#code\n",
    "def standard_deviation(list_input):\n",
    "    n_elements = len(list_input)\n",
    "    mu = sum(list_input) / n_elements\n",
    "    squared_diff = 0\n",
    "    \n",
    "    for number in list_input:\n",
    "        squared_diff += (number - mu)**2\n",
    "    \n",
    "    sd = (squared_diff / n_elements) ** 0.5\n",
    "    \n",
    "    return sd\n",
    "         "
   ]
  },
  {
   "cell_type": "markdown",
   "metadata": {
    "slideshow": {
     "slide_type": "skip"
    }
   },
   "source": [
    "- Use a **dictionary comprehension** to apply your standard deviation function to each numeric column in the dataframe.  **No loops**  \n",
    "- Assign the output to variable `sd` as a dictionary where: \n",
    "    - Each column name is now a key \n",
    "    - That standard deviation of the column is the value \n",
    "     \n",
    "*Example Output :* `{'ACT_Math': 120, 'ACT_Reading': 120, ...}`"
   ]
  },
  {
   "cell_type": "code",
   "execution_count": 44,
   "metadata": {
    "slideshow": {
     "slide_type": "skip"
    }
   },
   "outputs": [
    {
     "data": {
      "text/plain": [
       "{'Participation_sat2018': 37.63965409204986,\n",
       " 'Evidence-Based_Reading_and_Writing_sat2018': 44.87118561762388,\n",
       " 'Math_sat2018': 48.40589946919447,\n",
       " 'Total_sat2018': 92.94224786343668,\n",
       " 'Participation_act2018': 33.745194881997506,\n",
       " 'Composite_act2018': 2.0855261815801147,\n",
       " 'English_act2018': 2.4222536143202795,\n",
       " 'Math_act2018': 2.015707255555717,\n",
       " 'Reading_act2018': 2.145891884510421,\n",
       " 'Science_act2018': 1.8516885484833543,\n",
       " 'Participation_sat2017': 34.92907076664508,\n",
       " 'Evidence-Based_Reading_and_Writing_sat2017': 45.21697020437866,\n",
       " 'Math_sat2017': 46.65713364485503,\n",
       " 'Total_sat2017': 91.58351056778743,\n",
       " 'Participation_act2017': 31.824175751231806,\n",
       " 'English_act2017': 2.3304876369363363,\n",
       " 'Math_act2017': 1.9624620273436781,\n",
       " 'Reading_act2017': 2.0469029314842646,\n",
       " 'Science_act2017': 1.7222161451443676,\n",
       " 'Composite_act2017': 2.000786081581989}"
      ]
     },
     "execution_count": 44,
     "metadata": {},
     "output_type": "execute_result"
    }
   ],
   "source": [
    "{column_index:standard_deviation(final[column_index].tolist()) for column_index in final.columns if (final[column_index].dtype == 'float' or final[column_index].dtype == 'int')}\n",
    "\n"
   ]
  },
  {
   "cell_type": "markdown",
   "metadata": {
    "slideshow": {
     "slide_type": "skip"
    }
   },
   "source": [
    "Do your manually calculated standard deviations match up with the output from pandas `describe`? What about numpy's `std` method?"
   ]
  },
  {
   "cell_type": "code",
   "execution_count": 45,
   "metadata": {
    "slideshow": {
     "slide_type": "skip"
    }
   },
   "outputs": [
    {
     "data": {
      "text/plain": [
       "{'Participation_sat2018': 37.63965409204986,\n",
       " 'Evidence-Based_Reading_and_Writing_sat2018': 44.871185617623894,\n",
       " 'Math_sat2018': 48.405899469194466,\n",
       " 'Total_sat2018': 92.94224786343666,\n",
       " 'Participation_act2018': 33.745194881997506,\n",
       " 'Composite_act2018': 2.0855261815801143,\n",
       " 'English_act2018': 2.4222536143202795,\n",
       " 'Math_act2018': 2.0157072555557174,\n",
       " 'Reading_act2018': 2.1458918845104216,\n",
       " 'Science_act2018': 1.8516885484833538,\n",
       " 'Participation_sat2017': 34.929070766645076,\n",
       " 'Evidence-Based_Reading_and_Writing_sat2017': 45.21697020437866,\n",
       " 'Math_sat2017': 46.65713364485504,\n",
       " 'Total_sat2017': 91.58351056778743,\n",
       " 'Participation_act2017': 31.824175751231806,\n",
       " 'English_act2017': 2.3304876369363368,\n",
       " 'Math_act2017': 1.9624620273436781,\n",
       " 'Reading_act2017': 2.046902931484265,\n",
       " 'Science_act2017': 1.7222161451443672,\n",
       " 'Composite_act2017': 2.0007860815819893}"
      ]
     },
     "execution_count": 45,
     "metadata": {},
     "output_type": "execute_result"
    }
   ],
   "source": [
    "{column_index:np.std(final[column_index].tolist()) for column_index in final.columns if (final[column_index].dtype == 'float' or final[column_index].dtype == 'int')}"
   ]
  },
  {
   "cell_type": "markdown",
   "metadata": {
    "slideshow": {
     "slide_type": "skip"
    }
   },
   "source": [
    "\n",
    "_Answer_\n",
    "\n",
    "Manual calculations differ slightly from pandas. From documentation, pandas uses sampled standard distribution (bassel's correction) while the manual method uses population-based standard distribution. Meanwhile, numpys `std` method gives very \n",
    "similar output with manual calculation as there was `ddof` defined (so it assumed std. dev is being calculated on a population)\n",
    "\n"
   ]
  },
  {
   "cell_type": "markdown",
   "metadata": {
    "slideshow": {
     "slide_type": "skip"
    }
   },
   "source": [
    "#### Investigate trends in the data\n",
    "Using sorting and/or masking (along with the `.head` method to not print our entire dataframe), consider the following questions:\n",
    "\n",
    "- Which states have the highest and lowest participation rates for the:\n",
    "    - 2017 SAT?\n",
    "    - 2018 SAT?\n",
    "    - 2017 ACT?\n",
    "    - 2018 ACT?\n",
    "- Which states have the highest and lowest mean total/composite scores for the:\n",
    "    - 2017 SAT?\n",
    "    - 2018 SAT?\n",
    "    - 2017 ACT?\n",
    "    - 2018 ACT?\n",
    "- Do any states with 100% participation on a given test have a rate change year-to-year?\n",
    "- Do any states show have >50% participation on *both* tests either year?\n",
    "\n",
    "Based on what you've just observed, have you identified any states that you're especially interested in? **Make a note of these and state *why* you think they're interesting**.\n",
    "\n",
    "**You should comment on your findings at each step in a markdown cell below your code block**. Make sure you include at least one example of sorting your dataframe by a column, and one example of using boolean filtering (i.e., masking) to select a subset of the dataframe."
   ]
  },
  {
   "cell_type": "markdown",
   "metadata": {
    "slideshow": {
     "slide_type": "skip"
    }
   },
   "source": [
    "#### Participation Rates (SATs)"
   ]
  },
  {
   "cell_type": "code",
   "execution_count": 46,
   "metadata": {
    "slideshow": {
     "slide_type": "skip"
    }
   },
   "outputs": [
    {
     "name": "stdout",
     "output_type": "stream",
     "text": [
      "Max SAT 2017: ['Connecticut', 'Delaware', 'District of Columbia', 'Michigan']\n",
      "Min SAT 2017: ['Iowa', 'Mississippi', 'North Dakota']\n",
      "\n",
      "Max SAT 2018: ['Colorado', 'Connecticut', 'Delaware', 'Idaho', 'Michigan']\n",
      "Min SAT 2018: ['North Dakota']\n"
     ]
    }
   ],
   "source": [
    "#code for highest/lowest participation rates \n",
    "print(\"Max SAT 2017: \" + str(final[final['Participation_sat2017'] == max(final['Participation_sat2017'])].get('State_sat2017').tolist()))\n",
    "print(\"Min SAT 2017: \" + str(final[final['Participation_sat2017'] == min(final['Participation_sat2017'])].get('State_sat2017').tolist()))\n",
    "\n",
    "print()\n",
    "print(\"Max SAT 2018: \" + str(final[final['Participation_sat2018'] == max(final['Participation_sat2018'])].get('State_sat2018').tolist()))\n",
    "print(\"Min SAT 2018: \" + str(final[final['Participation_sat2018'] == min(final['Participation_sat2018'])].get('State_sat2018').tolist()))"
   ]
  },
  {
   "cell_type": "code",
   "execution_count": 47,
   "metadata": {
    "slideshow": {
     "slide_type": "skip"
    }
   },
   "outputs": [
    {
     "data": {
      "text/html": [
       "<div>\n",
       "<style scoped>\n",
       "    .dataframe tbody tr th:only-of-type {\n",
       "        vertical-align: middle;\n",
       "    }\n",
       "\n",
       "    .dataframe tbody tr th {\n",
       "        vertical-align: top;\n",
       "    }\n",
       "\n",
       "    .dataframe thead th {\n",
       "        text-align: right;\n",
       "    }\n",
       "</style>\n",
       "<table border=\"1\" class=\"dataframe\">\n",
       "  <thead>\n",
       "    <tr style=\"text-align: right;\">\n",
       "      <th></th>\n",
       "      <th>Participation_sat2017</th>\n",
       "      <th>State_sat2017</th>\n",
       "    </tr>\n",
       "  </thead>\n",
       "  <tbody>\n",
       "    <tr>\n",
       "      <th>8</th>\n",
       "      <td>100</td>\n",
       "      <td>District of Columbia</td>\n",
       "    </tr>\n",
       "    <tr>\n",
       "      <th>22</th>\n",
       "      <td>100</td>\n",
       "      <td>Michigan</td>\n",
       "    </tr>\n",
       "    <tr>\n",
       "      <th>6</th>\n",
       "      <td>100</td>\n",
       "      <td>Connecticut</td>\n",
       "    </tr>\n",
       "    <tr>\n",
       "      <th>7</th>\n",
       "      <td>100</td>\n",
       "      <td>Delaware</td>\n",
       "    </tr>\n",
       "    <tr>\n",
       "      <th>29</th>\n",
       "      <td>96</td>\n",
       "      <td>New Hampshire</td>\n",
       "    </tr>\n",
       "  </tbody>\n",
       "</table>\n",
       "</div>"
      ],
      "text/plain": [
       "    Participation_sat2017         State_sat2017\n",
       "8                     100  District of Columbia\n",
       "22                    100              Michigan\n",
       "6                     100           Connecticut\n",
       "7                     100              Delaware\n",
       "29                     96         New Hampshire"
      ]
     },
     "execution_count": 47,
     "metadata": {},
     "output_type": "execute_result"
    }
   ],
   "source": [
    "# Using sort to show table:\n",
    "final.sort_values(by=['Participation_sat2017'],ascending = False ).loc[:, ['Participation_sat2017', 'State_sat2017']].head(5)"
   ]
  },
  {
   "cell_type": "code",
   "execution_count": 48,
   "metadata": {
    "slideshow": {
     "slide_type": "skip"
    }
   },
   "outputs": [
    {
     "data": {
      "text/html": [
       "<div>\n",
       "<style scoped>\n",
       "    .dataframe tbody tr th:only-of-type {\n",
       "        vertical-align: middle;\n",
       "    }\n",
       "\n",
       "    .dataframe tbody tr th {\n",
       "        vertical-align: top;\n",
       "    }\n",
       "\n",
       "    .dataframe thead th {\n",
       "        text-align: right;\n",
       "    }\n",
       "</style>\n",
       "<table border=\"1\" class=\"dataframe\">\n",
       "  <thead>\n",
       "    <tr style=\"text-align: right;\">\n",
       "      <th></th>\n",
       "      <th>Participation_sat2017</th>\n",
       "      <th>State_sat2017</th>\n",
       "    </tr>\n",
       "  </thead>\n",
       "  <tbody>\n",
       "    <tr>\n",
       "      <th>15</th>\n",
       "      <td>2</td>\n",
       "      <td>Iowa</td>\n",
       "    </tr>\n",
       "    <tr>\n",
       "      <th>24</th>\n",
       "      <td>2</td>\n",
       "      <td>Mississippi</td>\n",
       "    </tr>\n",
       "    <tr>\n",
       "      <th>34</th>\n",
       "      <td>2</td>\n",
       "      <td>North Dakota</td>\n",
       "    </tr>\n",
       "  </tbody>\n",
       "</table>\n",
       "</div>"
      ],
      "text/plain": [
       "    Participation_sat2017 State_sat2017\n",
       "15                      2          Iowa\n",
       "24                      2   Mississippi\n",
       "34                      2  North Dakota"
      ]
     },
     "execution_count": 48,
     "metadata": {},
     "output_type": "execute_result"
    }
   ],
   "source": [
    "# Using masking to show table:\n",
    "final[final['Participation_sat2017'] == min(final['Participation_sat2017']) ].loc[:, ['Participation_sat2017', 'State_sat2017']].tail(5)"
   ]
  },
  {
   "cell_type": "markdown",
   "metadata": {
    "slideshow": {
     "slide_type": "skip"
    }
   },
   "source": [
    "#### Participation Rates (ACTs)"
   ]
  },
  {
   "cell_type": "code",
   "execution_count": 49,
   "metadata": {
    "slideshow": {
     "slide_type": "skip"
    }
   },
   "outputs": [
    {
     "name": "stdout",
     "output_type": "stream",
     "text": [
      "Max ACT 2017: ['Alabama', 'Arkansas', 'Colorado', 'Kentucky', 'Louisiana', 'Minnesota', 'Mississippi', 'Missouri', 'Montana', 'Nevada', 'North Carolina', 'Oklahoma', 'South Carolina', 'Tennessee', 'Utah', 'Wisconsin', 'Wyoming']\n",
      "Min ACT 2017: ['Maine']\n",
      "\n",
      "Max ACT 2018: ['Alabama', 'Arkansas', 'Kentucky', 'Louisiana', 'Mississippi', 'Missouri', 'Montana', 'Nebraska', 'Nevada', 'North Carolina', 'Ohio', 'Oklahoma', 'South Carolina', 'Tennessee', 'Utah', 'Wisconsin', 'Wyoming']\n",
      "Min ACT 2018: ['Maine']\n"
     ]
    }
   ],
   "source": [
    "#code for highest/lowest participation rates by masking\n",
    "print(\"Max ACT 2017: \" + str(final[final['Participation_act2017'] == max(final['Participation_act2017'])].get('State_act2017').tolist()))\n",
    "print(\"Min ACT 2017: \" + str(final[final['Participation_act2017'] == min(final['Participation_act2017'])].get('State_act2017').tolist()))\n",
    "\n",
    "print()\n",
    "print(\"Max ACT 2018: \" + str(final[final['Participation_act2018'] == max(final['Participation_act2018'])].get('State_act2018').tolist()))\n",
    "print(\"Min ACT 2018: \" + str(final[final['Participation_act2018'] == min(final['Participation_act2018'])].get('State_act2018').tolist()))"
   ]
  },
  {
   "cell_type": "code",
   "execution_count": 50,
   "metadata": {
    "slideshow": {
     "slide_type": "skip"
    }
   },
   "outputs": [
    {
     "data": {
      "text/html": [
       "<div>\n",
       "<style scoped>\n",
       "    .dataframe tbody tr th:only-of-type {\n",
       "        vertical-align: middle;\n",
       "    }\n",
       "\n",
       "    .dataframe tbody tr th {\n",
       "        vertical-align: top;\n",
       "    }\n",
       "\n",
       "    .dataframe thead th {\n",
       "        text-align: right;\n",
       "    }\n",
       "</style>\n",
       "<table border=\"1\" class=\"dataframe\">\n",
       "  <thead>\n",
       "    <tr style=\"text-align: right;\">\n",
       "      <th></th>\n",
       "      <th>Participation_act2017</th>\n",
       "      <th>State_act2017</th>\n",
       "    </tr>\n",
       "  </thead>\n",
       "  <tbody>\n",
       "    <tr>\n",
       "      <th>0</th>\n",
       "      <td>100</td>\n",
       "      <td>Alabama</td>\n",
       "    </tr>\n",
       "    <tr>\n",
       "      <th>17</th>\n",
       "      <td>100</td>\n",
       "      <td>Kentucky</td>\n",
       "    </tr>\n",
       "    <tr>\n",
       "      <th>49</th>\n",
       "      <td>100</td>\n",
       "      <td>Wisconsin</td>\n",
       "    </tr>\n",
       "    <tr>\n",
       "      <th>44</th>\n",
       "      <td>100</td>\n",
       "      <td>Utah</td>\n",
       "    </tr>\n",
       "    <tr>\n",
       "      <th>42</th>\n",
       "      <td>100</td>\n",
       "      <td>Tennessee</td>\n",
       "    </tr>\n",
       "  </tbody>\n",
       "</table>\n",
       "</div>"
      ],
      "text/plain": [
       "    Participation_act2017 State_act2017\n",
       "0                     100       Alabama\n",
       "17                    100      Kentucky\n",
       "49                    100     Wisconsin\n",
       "44                    100          Utah\n",
       "42                    100     Tennessee"
      ]
     },
     "execution_count": 50,
     "metadata": {},
     "output_type": "execute_result"
    }
   ],
   "source": [
    "# Using sort to show table:\n",
    "final.sort_values(by=['Participation_act2017'],ascending = False ).loc[:, ['Participation_act2017', 'State_act2017']].head(5)"
   ]
  },
  {
   "cell_type": "code",
   "execution_count": 51,
   "metadata": {
    "slideshow": {
     "slide_type": "skip"
    }
   },
   "outputs": [
    {
     "data": {
      "text/html": [
       "<div>\n",
       "<style scoped>\n",
       "    .dataframe tbody tr th:only-of-type {\n",
       "        vertical-align: middle;\n",
       "    }\n",
       "\n",
       "    .dataframe tbody tr th {\n",
       "        vertical-align: top;\n",
       "    }\n",
       "\n",
       "    .dataframe thead th {\n",
       "        text-align: right;\n",
       "    }\n",
       "</style>\n",
       "<table border=\"1\" class=\"dataframe\">\n",
       "  <thead>\n",
       "    <tr style=\"text-align: right;\">\n",
       "      <th></th>\n",
       "      <th>Participation_act2017</th>\n",
       "      <th>State_act2017</th>\n",
       "    </tr>\n",
       "  </thead>\n",
       "  <tbody>\n",
       "    <tr>\n",
       "      <th>19</th>\n",
       "      <td>8</td>\n",
       "      <td>Maine</td>\n",
       "    </tr>\n",
       "    <tr>\n",
       "      <th>29</th>\n",
       "      <td>18</td>\n",
       "      <td>New Hampshire</td>\n",
       "    </tr>\n",
       "    <tr>\n",
       "      <th>7</th>\n",
       "      <td>18</td>\n",
       "      <td>Delaware</td>\n",
       "    </tr>\n",
       "    <tr>\n",
       "      <th>39</th>\n",
       "      <td>21</td>\n",
       "      <td>Rhode Island</td>\n",
       "    </tr>\n",
       "    <tr>\n",
       "      <th>38</th>\n",
       "      <td>23</td>\n",
       "      <td>Pennsylvania</td>\n",
       "    </tr>\n",
       "  </tbody>\n",
       "</table>\n",
       "</div>"
      ],
      "text/plain": [
       "    Participation_act2017  State_act2017\n",
       "19                      8          Maine\n",
       "29                     18  New Hampshire\n",
       "7                      18       Delaware\n",
       "39                     21   Rhode Island\n",
       "38                     23   Pennsylvania"
      ]
     },
     "execution_count": 51,
     "metadata": {},
     "output_type": "execute_result"
    }
   ],
   "source": [
    "# Using sort to show table:\n",
    "final.sort_values(by=['Participation_act2017'],ascending = True ).loc[:, ['Participation_act2017', 'State_act2017']].head(5)"
   ]
  },
  {
   "cell_type": "markdown",
   "metadata": {
    "slideshow": {
     "slide_type": "skip"
    }
   },
   "source": [
    "#### Total Scores (SATs)"
   ]
  },
  {
   "cell_type": "code",
   "execution_count": 52,
   "metadata": {
    "scrolled": true,
    "slideshow": {
     "slide_type": "skip"
    }
   },
   "outputs": [
    {
     "name": "stdout",
     "output_type": "stream",
     "text": [
      "Max SAT 2017: ['Minnesota']\n",
      "Min SAT 2017: ['District of Columbia']\n",
      "\n",
      "Max SAT 2018: ['Minnesota']\n",
      "Min SAT 2018: ['District of Columbia']\n"
     ]
    }
   ],
   "source": [
    "#code for highest/lowest total scores\n",
    "print(\"Max SAT 2017: \" + str(final[final['Total_sat2017'] == max(final['Total_sat2017'])].get('State_sat2017').tolist()))\n",
    "print(\"Min SAT 2017: \" + str(final[final['Total_sat2017'] == min(final['Total_sat2017'])].get('State_sat2017').tolist()))\n",
    "\n",
    "print()\n",
    "print(\"Max SAT 2018: \" + str(final[final['Total_sat2018'] == max(final['Total_sat2018'])].get('State_sat2018').tolist()))\n",
    "print(\"Min SAT 2018: \" + str(final[final['Total_sat2018'] == min(final['Total_sat2018'])].get('State_sat2018').tolist()))"
   ]
  },
  {
   "cell_type": "markdown",
   "metadata": {
    "slideshow": {
     "slide_type": "skip"
    }
   },
   "source": [
    "#### Composites (ACTs)"
   ]
  },
  {
   "cell_type": "code",
   "execution_count": 53,
   "metadata": {
    "slideshow": {
     "slide_type": "skip"
    }
   },
   "outputs": [
    {
     "name": "stdout",
     "output_type": "stream",
     "text": [
      "Max ACT 2017: ['New Hampshire']\n",
      "Min ACT 2017: ['Nevada']\n",
      "\n",
      "Max ACT 2018: ['Connecticut']\n",
      "Min ACT 2018: ['Nevada']\n"
     ]
    }
   ],
   "source": [
    "#code for highest/lowest total scores\n",
    "print(\"Max ACT 2017: \" + str(final[final['Composite_act2017'] == max(final['Composite_act2017'])].get('State_sat2017').tolist()))\n",
    "print(\"Min ACT 2017: \" + str(final[final['Composite_act2017'] == min(final['Composite_act2017'])].get('State_sat2017').tolist()))\n",
    "\n",
    "print()\n",
    "print(\"Max ACT 2018: \" + str(final[final['Composite_act2018'] == max(final['Composite_act2018'])].get('State_sat2018').tolist()))\n",
    "print(\"Min ACT 2018: \" + str(final[final['Composite_act2018'] == min(final['Composite_act2018'])].get('State_sat2018').tolist()))"
   ]
  },
  {
   "cell_type": "markdown",
   "metadata": {
    "slideshow": {
     "slide_type": "skip"
    }
   },
   "source": [
    "### Rate Changes\n"
   ]
  },
  {
   "cell_type": "code",
   "execution_count": 54,
   "metadata": {
    "slideshow": {
     "slide_type": "skip"
    }
   },
   "outputs": [
    {
     "data": {
      "text/html": [
       "<div>\n",
       "<style scoped>\n",
       "    .dataframe tbody tr th:only-of-type {\n",
       "        vertical-align: middle;\n",
       "    }\n",
       "\n",
       "    .dataframe tbody tr th {\n",
       "        vertical-align: top;\n",
       "    }\n",
       "\n",
       "    .dataframe thead th {\n",
       "        text-align: right;\n",
       "    }\n",
       "</style>\n",
       "<table border=\"1\" class=\"dataframe\">\n",
       "  <thead>\n",
       "    <tr style=\"text-align: right;\">\n",
       "      <th></th>\n",
       "      <th>State_sat2018</th>\n",
       "      <th>Participation_sat2018</th>\n",
       "      <th>Evidence-Based_Reading_and_Writing_sat2018</th>\n",
       "      <th>Math_sat2018</th>\n",
       "      <th>Total_sat2018</th>\n",
       "      <th>State_sat2017</th>\n",
       "      <th>Participation_sat2017</th>\n",
       "      <th>Evidence-Based_Reading_and_Writing_sat2017</th>\n",
       "      <th>Math_sat2017</th>\n",
       "      <th>Total_sat2017</th>\n",
       "    </tr>\n",
       "  </thead>\n",
       "  <tbody>\n",
       "    <tr>\n",
       "      <th>6</th>\n",
       "      <td>Connecticut</td>\n",
       "      <td>100</td>\n",
       "      <td>535</td>\n",
       "      <td>519</td>\n",
       "      <td>1053</td>\n",
       "      <td>Connecticut</td>\n",
       "      <td>100</td>\n",
       "      <td>530</td>\n",
       "      <td>512</td>\n",
       "      <td>1041</td>\n",
       "    </tr>\n",
       "    <tr>\n",
       "      <th>7</th>\n",
       "      <td>Delaware</td>\n",
       "      <td>100</td>\n",
       "      <td>505</td>\n",
       "      <td>492</td>\n",
       "      <td>998</td>\n",
       "      <td>Delaware</td>\n",
       "      <td>100</td>\n",
       "      <td>503</td>\n",
       "      <td>492</td>\n",
       "      <td>996</td>\n",
       "    </tr>\n",
       "    <tr>\n",
       "      <th>22</th>\n",
       "      <td>Michigan</td>\n",
       "      <td>100</td>\n",
       "      <td>511</td>\n",
       "      <td>499</td>\n",
       "      <td>1011</td>\n",
       "      <td>Michigan</td>\n",
       "      <td>100</td>\n",
       "      <td>509</td>\n",
       "      <td>495</td>\n",
       "      <td>1005</td>\n",
       "    </tr>\n",
       "    <tr>\n",
       "      <th>8</th>\n",
       "      <td>District of Columbia</td>\n",
       "      <td>92</td>\n",
       "      <td>497</td>\n",
       "      <td>480</td>\n",
       "      <td>977</td>\n",
       "      <td>District of Columbia</td>\n",
       "      <td>100</td>\n",
       "      <td>482</td>\n",
       "      <td>468</td>\n",
       "      <td>950</td>\n",
       "    </tr>\n",
       "    <tr>\n",
       "      <th>29</th>\n",
       "      <td>New Hampshire</td>\n",
       "      <td>96</td>\n",
       "      <td>535</td>\n",
       "      <td>528</td>\n",
       "      <td>1063</td>\n",
       "      <td>New Hampshire</td>\n",
       "      <td>96</td>\n",
       "      <td>532</td>\n",
       "      <td>520</td>\n",
       "      <td>1052</td>\n",
       "    </tr>\n",
       "  </tbody>\n",
       "</table>\n",
       "</div>"
      ],
      "text/plain": [
       "           State_sat2018  Participation_sat2018  \\\n",
       "6            Connecticut                    100   \n",
       "7               Delaware                    100   \n",
       "22              Michigan                    100   \n",
       "8   District of Columbia                     92   \n",
       "29         New Hampshire                     96   \n",
       "\n",
       "    Evidence-Based_Reading_and_Writing_sat2018  Math_sat2018  Total_sat2018  \\\n",
       "6                                          535           519           1053   \n",
       "7                                          505           492            998   \n",
       "22                                         511           499           1011   \n",
       "8                                          497           480            977   \n",
       "29                                         535           528           1063   \n",
       "\n",
       "           State_sat2017  Participation_sat2017  \\\n",
       "6            Connecticut                    100   \n",
       "7               Delaware                    100   \n",
       "22              Michigan                    100   \n",
       "8   District of Columbia                    100   \n",
       "29         New Hampshire                     96   \n",
       "\n",
       "    Evidence-Based_Reading_and_Writing_sat2017  Math_sat2017  Total_sat2017  \n",
       "6                                          530           512           1041  \n",
       "7                                          503           492            996  \n",
       "22                                         509           495           1005  \n",
       "8                                          482           468            950  \n",
       "29                                         532           520           1052  "
      ]
     },
     "execution_count": 54,
     "metadata": {},
     "output_type": "execute_result"
    }
   ],
   "source": [
    "# Filtering Data\n",
    "# looking at SAT information:\n",
    "# Using sort to show table:\n",
    "final.sort_values(by=['Participation_sat2017','Participation_sat2018']\\\n",
    "                  ,ascending = False ).head(5).loc[:, final.columns.to_series().str.contains('sat201[78]')]"
   ]
  },
  {
   "cell_type": "code",
   "execution_count": 55,
   "metadata": {
    "slideshow": {
     "slide_type": "skip"
    }
   },
   "outputs": [
    {
     "data": {
      "text/html": [
       "<div>\n",
       "<style scoped>\n",
       "    .dataframe tbody tr th:only-of-type {\n",
       "        vertical-align: middle;\n",
       "    }\n",
       "\n",
       "    .dataframe tbody tr th {\n",
       "        vertical-align: top;\n",
       "    }\n",
       "\n",
       "    .dataframe thead th {\n",
       "        text-align: right;\n",
       "    }\n",
       "</style>\n",
       "<table border=\"1\" class=\"dataframe\">\n",
       "  <thead>\n",
       "    <tr style=\"text-align: right;\">\n",
       "      <th></th>\n",
       "      <th>State_act2018</th>\n",
       "      <th>Participation_act2018</th>\n",
       "      <th>Composite_act2018</th>\n",
       "      <th>English_act2018</th>\n",
       "      <th>Math_act2018</th>\n",
       "      <th>Reading_act2018</th>\n",
       "      <th>Science_act2018</th>\n",
       "      <th>State_act2017</th>\n",
       "      <th>Participation_act2017</th>\n",
       "      <th>English_act2017</th>\n",
       "      <th>Math_act2017</th>\n",
       "      <th>Reading_act2017</th>\n",
       "      <th>Science_act2017</th>\n",
       "      <th>Composite_act2017</th>\n",
       "    </tr>\n",
       "  </thead>\n",
       "  <tbody>\n",
       "    <tr>\n",
       "      <th>0</th>\n",
       "      <td>Alabama</td>\n",
       "      <td>100</td>\n",
       "      <td>19.1</td>\n",
       "      <td>18.9</td>\n",
       "      <td>18.3</td>\n",
       "      <td>19.6</td>\n",
       "      <td>19.0</td>\n",
       "      <td>Alabama</td>\n",
       "      <td>100</td>\n",
       "      <td>18.9</td>\n",
       "      <td>18.4</td>\n",
       "      <td>19.7</td>\n",
       "      <td>19.4</td>\n",
       "      <td>19.2</td>\n",
       "    </tr>\n",
       "    <tr>\n",
       "      <th>3</th>\n",
       "      <td>Arkansas</td>\n",
       "      <td>100</td>\n",
       "      <td>19.4</td>\n",
       "      <td>19.1</td>\n",
       "      <td>18.9</td>\n",
       "      <td>19.7</td>\n",
       "      <td>19.4</td>\n",
       "      <td>Arkansas</td>\n",
       "      <td>100</td>\n",
       "      <td>18.9</td>\n",
       "      <td>19.0</td>\n",
       "      <td>19.7</td>\n",
       "      <td>19.5</td>\n",
       "      <td>19.4</td>\n",
       "    </tr>\n",
       "    <tr>\n",
       "      <th>17</th>\n",
       "      <td>Kentucky</td>\n",
       "      <td>100</td>\n",
       "      <td>20.2</td>\n",
       "      <td>19.9</td>\n",
       "      <td>19.7</td>\n",
       "      <td>20.8</td>\n",
       "      <td>20.1</td>\n",
       "      <td>Kentucky</td>\n",
       "      <td>100</td>\n",
       "      <td>19.6</td>\n",
       "      <td>19.4</td>\n",
       "      <td>20.5</td>\n",
       "      <td>20.1</td>\n",
       "      <td>20.0</td>\n",
       "    </tr>\n",
       "    <tr>\n",
       "      <th>18</th>\n",
       "      <td>Louisiana</td>\n",
       "      <td>100</td>\n",
       "      <td>19.2</td>\n",
       "      <td>19.0</td>\n",
       "      <td>18.5</td>\n",
       "      <td>19.6</td>\n",
       "      <td>19.1</td>\n",
       "      <td>Louisiana</td>\n",
       "      <td>100</td>\n",
       "      <td>19.4</td>\n",
       "      <td>18.8</td>\n",
       "      <td>19.8</td>\n",
       "      <td>19.6</td>\n",
       "      <td>19.5</td>\n",
       "    </tr>\n",
       "    <tr>\n",
       "      <th>24</th>\n",
       "      <td>Mississippi</td>\n",
       "      <td>100</td>\n",
       "      <td>18.6</td>\n",
       "      <td>18.2</td>\n",
       "      <td>18.1</td>\n",
       "      <td>18.9</td>\n",
       "      <td>18.6</td>\n",
       "      <td>Mississippi</td>\n",
       "      <td>100</td>\n",
       "      <td>18.2</td>\n",
       "      <td>18.1</td>\n",
       "      <td>18.8</td>\n",
       "      <td>18.8</td>\n",
       "      <td>18.6</td>\n",
       "    </tr>\n",
       "  </tbody>\n",
       "</table>\n",
       "</div>"
      ],
      "text/plain": [
       "   State_act2018  Participation_act2018  Composite_act2018  English_act2018  \\\n",
       "0        Alabama                    100               19.1             18.9   \n",
       "3       Arkansas                    100               19.4             19.1   \n",
       "17      Kentucky                    100               20.2             19.9   \n",
       "18     Louisiana                    100               19.2             19.0   \n",
       "24   Mississippi                    100               18.6             18.2   \n",
       "\n",
       "    Math_act2018  Reading_act2018  Science_act2018 State_act2017  \\\n",
       "0           18.3             19.6             19.0       Alabama   \n",
       "3           18.9             19.7             19.4      Arkansas   \n",
       "17          19.7             20.8             20.1      Kentucky   \n",
       "18          18.5             19.6             19.1     Louisiana   \n",
       "24          18.1             18.9             18.6   Mississippi   \n",
       "\n",
       "    Participation_act2017  English_act2017  Math_act2017  Reading_act2017  \\\n",
       "0                     100             18.9          18.4             19.7   \n",
       "3                     100             18.9          19.0             19.7   \n",
       "17                    100             19.6          19.4             20.5   \n",
       "18                    100             19.4          18.8             19.8   \n",
       "24                    100             18.2          18.1             18.8   \n",
       "\n",
       "    Science_act2017  Composite_act2017  \n",
       "0              19.4               19.2  \n",
       "3              19.5               19.4  \n",
       "17             20.1               20.0  \n",
       "18             19.6               19.5  \n",
       "24             18.8               18.6  "
      ]
     },
     "execution_count": 55,
     "metadata": {},
     "output_type": "execute_result"
    }
   ],
   "source": [
    "# Filtering Data\n",
    "# looking at ACT information:\n",
    "# Using sort to show table:\n",
    "final.sort_values(by=['Participation_act2017','Participation_act2018']\\\n",
    "                  ,ascending = False ).head(5).loc[:, final.columns.to_series().str.contains('act201[78]')]"
   ]
  },
  {
   "cell_type": "code",
   "execution_count": 56,
   "metadata": {
    "slideshow": {
     "slide_type": "skip"
    }
   },
   "outputs": [],
   "source": [
    "final_sat_copy = final.sort_values(by=['Participation_sat2018']\\\n",
    "                  ,ascending = False ).loc[:, final.columns.to_series().str.contains('sat201[78]')].copy()"
   ]
  },
  {
   "cell_type": "markdown",
   "metadata": {
    "slideshow": {
     "slide_type": "skip"
    }
   },
   "source": [
    "#### SAT Rate Changes"
   ]
  },
  {
   "cell_type": "code",
   "execution_count": 57,
   "metadata": {
    "scrolled": true,
    "slideshow": {
     "slide_type": "skip"
    }
   },
   "outputs": [
    {
     "data": {
      "text/html": [
       "<div>\n",
       "<style scoped>\n",
       "    .dataframe tbody tr th:only-of-type {\n",
       "        vertical-align: middle;\n",
       "    }\n",
       "\n",
       "    .dataframe tbody tr th {\n",
       "        vertical-align: top;\n",
       "    }\n",
       "\n",
       "    .dataframe thead th {\n",
       "        text-align: right;\n",
       "    }\n",
       "</style>\n",
       "<table border=\"1\" class=\"dataframe\">\n",
       "  <thead>\n",
       "    <tr style=\"text-align: right;\">\n",
       "      <th></th>\n",
       "      <th>State_sat2018</th>\n",
       "      <th>Participation_sat2018</th>\n",
       "      <th>Evidence-Based_Reading_and_Writing_sat2018</th>\n",
       "      <th>Math_sat2018</th>\n",
       "      <th>Total_sat2018</th>\n",
       "      <th>State_sat2017</th>\n",
       "      <th>Participation_sat2017</th>\n",
       "      <th>Evidence-Based_Reading_and_Writing_sat2017</th>\n",
       "      <th>Math_sat2017</th>\n",
       "      <th>Total_sat2017</th>\n",
       "      <th>Mean_Diff_rate</th>\n",
       "    </tr>\n",
       "  </thead>\n",
       "  <tbody>\n",
       "    <tr>\n",
       "      <th>5</th>\n",
       "      <td>Colorado</td>\n",
       "      <td>100</td>\n",
       "      <td>519</td>\n",
       "      <td>506</td>\n",
       "      <td>1025</td>\n",
       "      <td>Colorado</td>\n",
       "      <td>11</td>\n",
       "      <td>606</td>\n",
       "      <td>595</td>\n",
       "      <td>1201</td>\n",
       "      <td>-14.65</td>\n",
       "    </tr>\n",
       "    <tr>\n",
       "      <th>13</th>\n",
       "      <td>Illinois</td>\n",
       "      <td>99</td>\n",
       "      <td>513</td>\n",
       "      <td>506</td>\n",
       "      <td>1019</td>\n",
       "      <td>Illinois</td>\n",
       "      <td>9</td>\n",
       "      <td>559</td>\n",
       "      <td>556</td>\n",
       "      <td>1115</td>\n",
       "      <td>-8.61</td>\n",
       "    </tr>\n",
       "    <tr>\n",
       "      <th>48</th>\n",
       "      <td>West Virginia</td>\n",
       "      <td>28</td>\n",
       "      <td>513</td>\n",
       "      <td>486</td>\n",
       "      <td>999</td>\n",
       "      <td>West Virginia</td>\n",
       "      <td>14</td>\n",
       "      <td>558</td>\n",
       "      <td>528</td>\n",
       "      <td>1086</td>\n",
       "      <td>-8.01</td>\n",
       "    </tr>\n",
       "    <tr>\n",
       "      <th>35</th>\n",
       "      <td>Ohio</td>\n",
       "      <td>18</td>\n",
       "      <td>552</td>\n",
       "      <td>547</td>\n",
       "      <td>1099</td>\n",
       "      <td>Ohio</td>\n",
       "      <td>12</td>\n",
       "      <td>578</td>\n",
       "      <td>570</td>\n",
       "      <td>1149</td>\n",
       "      <td>-4.35</td>\n",
       "    </tr>\n",
       "    <tr>\n",
       "      <th>39</th>\n",
       "      <td>Rhode Island</td>\n",
       "      <td>97</td>\n",
       "      <td>513</td>\n",
       "      <td>505</td>\n",
       "      <td>1018</td>\n",
       "      <td>Rhode Island</td>\n",
       "      <td>71</td>\n",
       "      <td>539</td>\n",
       "      <td>524</td>\n",
       "      <td>1062</td>\n",
       "      <td>-4.14</td>\n",
       "    </tr>\n",
       "  </tbody>\n",
       "</table>\n",
       "</div>"
      ],
      "text/plain": [
       "    State_sat2018  Participation_sat2018  \\\n",
       "5        Colorado                    100   \n",
       "13       Illinois                     99   \n",
       "48  West Virginia                     28   \n",
       "35           Ohio                     18   \n",
       "39   Rhode Island                     97   \n",
       "\n",
       "    Evidence-Based_Reading_and_Writing_sat2018  Math_sat2018  Total_sat2018  \\\n",
       "5                                          519           506           1025   \n",
       "13                                         513           506           1019   \n",
       "48                                         513           486            999   \n",
       "35                                         552           547           1099   \n",
       "39                                         513           505           1018   \n",
       "\n",
       "    State_sat2017  Participation_sat2017  \\\n",
       "5        Colorado                     11   \n",
       "13       Illinois                      9   \n",
       "48  West Virginia                     14   \n",
       "35           Ohio                     12   \n",
       "39   Rhode Island                     71   \n",
       "\n",
       "    Evidence-Based_Reading_and_Writing_sat2017  Math_sat2017  Total_sat2017  \\\n",
       "5                                          606           595           1201   \n",
       "13                                         559           556           1115   \n",
       "48                                         558           528           1086   \n",
       "35                                         578           570           1149   \n",
       "39                                         539           524           1062   \n",
       "\n",
       "    Mean_Diff_rate  \n",
       "5           -14.65  \n",
       "13           -8.61  \n",
       "48           -8.01  \n",
       "35           -4.35  \n",
       "39           -4.14  "
      ]
     },
     "execution_count": 57,
     "metadata": {},
     "output_type": "execute_result"
    }
   ],
   "source": [
    "final_sat_copy['Mean_Diff_rate'] = round(((final_sat_copy['Total_sat2018'] -final_sat_copy['Total_sat2017']) / final_sat_copy['Total_sat2017']) * 100,2)\n",
    "\n",
    "final_sat_copy.sort_values(by=['Mean_Diff_rate'],ascending=True).head()"
   ]
  },
  {
   "cell_type": "markdown",
   "metadata": {
    "slideshow": {
     "slide_type": "skip"
    }
   },
   "source": [
    "Colorado had the highest rate change in SAT total scores within their 100% participation rate. A decrease of 14.65% compared to the previous year."
   ]
  },
  {
   "cell_type": "markdown",
   "metadata": {
    "slideshow": {
     "slide_type": "skip"
    }
   },
   "source": [
    "#### ACT Rate Changes"
   ]
  },
  {
   "cell_type": "code",
   "execution_count": 58,
   "metadata": {
    "slideshow": {
     "slide_type": "skip"
    }
   },
   "outputs": [],
   "source": [
    "final_act_copy = final.sort_values(by=['Participation_act2017','Participation_act2018']\\\n",
    "                  ,ascending = False ).head(5).loc[:, final.columns.to_series().str.contains('act201[78]')].copy()"
   ]
  },
  {
   "cell_type": "code",
   "execution_count": 59,
   "metadata": {
    "slideshow": {
     "slide_type": "skip"
    }
   },
   "outputs": [
    {
     "data": {
      "text/html": [
       "<div>\n",
       "<style scoped>\n",
       "    .dataframe tbody tr th:only-of-type {\n",
       "        vertical-align: middle;\n",
       "    }\n",
       "\n",
       "    .dataframe tbody tr th {\n",
       "        vertical-align: top;\n",
       "    }\n",
       "\n",
       "    .dataframe thead th {\n",
       "        text-align: right;\n",
       "    }\n",
       "</style>\n",
       "<table border=\"1\" class=\"dataframe\">\n",
       "  <thead>\n",
       "    <tr style=\"text-align: right;\">\n",
       "      <th></th>\n",
       "      <th>State_act2018</th>\n",
       "      <th>Participation_act2018</th>\n",
       "      <th>Composite_act2018</th>\n",
       "      <th>English_act2018</th>\n",
       "      <th>Math_act2018</th>\n",
       "      <th>Reading_act2018</th>\n",
       "      <th>Science_act2018</th>\n",
       "      <th>State_act2017</th>\n",
       "      <th>Participation_act2017</th>\n",
       "      <th>English_act2017</th>\n",
       "      <th>Math_act2017</th>\n",
       "      <th>Reading_act2017</th>\n",
       "      <th>Science_act2017</th>\n",
       "      <th>Composite_act2017</th>\n",
       "      <th>Mean_Diff_rate</th>\n",
       "    </tr>\n",
       "  </thead>\n",
       "  <tbody>\n",
       "    <tr>\n",
       "      <th>18</th>\n",
       "      <td>Louisiana</td>\n",
       "      <td>100</td>\n",
       "      <td>19.2</td>\n",
       "      <td>19.0</td>\n",
       "      <td>18.5</td>\n",
       "      <td>19.6</td>\n",
       "      <td>19.1</td>\n",
       "      <td>Louisiana</td>\n",
       "      <td>100</td>\n",
       "      <td>19.4</td>\n",
       "      <td>18.8</td>\n",
       "      <td>19.8</td>\n",
       "      <td>19.6</td>\n",
       "      <td>19.5</td>\n",
       "      <td>-1.54</td>\n",
       "    </tr>\n",
       "    <tr>\n",
       "      <th>0</th>\n",
       "      <td>Alabama</td>\n",
       "      <td>100</td>\n",
       "      <td>19.1</td>\n",
       "      <td>18.9</td>\n",
       "      <td>18.3</td>\n",
       "      <td>19.6</td>\n",
       "      <td>19.0</td>\n",
       "      <td>Alabama</td>\n",
       "      <td>100</td>\n",
       "      <td>18.9</td>\n",
       "      <td>18.4</td>\n",
       "      <td>19.7</td>\n",
       "      <td>19.4</td>\n",
       "      <td>19.2</td>\n",
       "      <td>-0.52</td>\n",
       "    </tr>\n",
       "    <tr>\n",
       "      <th>3</th>\n",
       "      <td>Arkansas</td>\n",
       "      <td>100</td>\n",
       "      <td>19.4</td>\n",
       "      <td>19.1</td>\n",
       "      <td>18.9</td>\n",
       "      <td>19.7</td>\n",
       "      <td>19.4</td>\n",
       "      <td>Arkansas</td>\n",
       "      <td>100</td>\n",
       "      <td>18.9</td>\n",
       "      <td>19.0</td>\n",
       "      <td>19.7</td>\n",
       "      <td>19.5</td>\n",
       "      <td>19.4</td>\n",
       "      <td>0.00</td>\n",
       "    </tr>\n",
       "    <tr>\n",
       "      <th>24</th>\n",
       "      <td>Mississippi</td>\n",
       "      <td>100</td>\n",
       "      <td>18.6</td>\n",
       "      <td>18.2</td>\n",
       "      <td>18.1</td>\n",
       "      <td>18.9</td>\n",
       "      <td>18.6</td>\n",
       "      <td>Mississippi</td>\n",
       "      <td>100</td>\n",
       "      <td>18.2</td>\n",
       "      <td>18.1</td>\n",
       "      <td>18.8</td>\n",
       "      <td>18.8</td>\n",
       "      <td>18.6</td>\n",
       "      <td>0.00</td>\n",
       "    </tr>\n",
       "    <tr>\n",
       "      <th>17</th>\n",
       "      <td>Kentucky</td>\n",
       "      <td>100</td>\n",
       "      <td>20.2</td>\n",
       "      <td>19.9</td>\n",
       "      <td>19.7</td>\n",
       "      <td>20.8</td>\n",
       "      <td>20.1</td>\n",
       "      <td>Kentucky</td>\n",
       "      <td>100</td>\n",
       "      <td>19.6</td>\n",
       "      <td>19.4</td>\n",
       "      <td>20.5</td>\n",
       "      <td>20.1</td>\n",
       "      <td>20.0</td>\n",
       "      <td>1.00</td>\n",
       "    </tr>\n",
       "  </tbody>\n",
       "</table>\n",
       "</div>"
      ],
      "text/plain": [
       "   State_act2018  Participation_act2018  Composite_act2018  English_act2018  \\\n",
       "18     Louisiana                    100               19.2             19.0   \n",
       "0        Alabama                    100               19.1             18.9   \n",
       "3       Arkansas                    100               19.4             19.1   \n",
       "24   Mississippi                    100               18.6             18.2   \n",
       "17      Kentucky                    100               20.2             19.9   \n",
       "\n",
       "    Math_act2018  Reading_act2018  Science_act2018 State_act2017  \\\n",
       "18          18.5             19.6             19.1     Louisiana   \n",
       "0           18.3             19.6             19.0       Alabama   \n",
       "3           18.9             19.7             19.4      Arkansas   \n",
       "24          18.1             18.9             18.6   Mississippi   \n",
       "17          19.7             20.8             20.1      Kentucky   \n",
       "\n",
       "    Participation_act2017  English_act2017  Math_act2017  Reading_act2017  \\\n",
       "18                    100             19.4          18.8             19.8   \n",
       "0                     100             18.9          18.4             19.7   \n",
       "3                     100             18.9          19.0             19.7   \n",
       "24                    100             18.2          18.1             18.8   \n",
       "17                    100             19.6          19.4             20.5   \n",
       "\n",
       "    Science_act2017  Composite_act2017  Mean_Diff_rate  \n",
       "18             19.6               19.5           -1.54  \n",
       "0              19.4               19.2           -0.52  \n",
       "3              19.5               19.4            0.00  \n",
       "24             18.8               18.6            0.00  \n",
       "17             20.1               20.0            1.00  "
      ]
     },
     "execution_count": 59,
     "metadata": {},
     "output_type": "execute_result"
    }
   ],
   "source": [
    "final_act_copy['Mean_Diff_rate'] = round((final_act_copy['Composite_act2018'] -final_act_copy['Composite_act2017']) / final_act_copy['Composite_act2017'] * 100,2)\n",
    "\n",
    "final_act_copy.sort_values(by=['Mean_Diff_rate'],ascending=True).head()"
   ]
  },
  {
   "cell_type": "markdown",
   "metadata": {
    "slideshow": {
     "slide_type": "skip"
    }
   },
   "source": [
    "For states with a 100% ACT Rate, Louisiana had a 1.54% decrease in Composite scores while Kentucky had a 1% increase in score."
   ]
  },
  {
   "cell_type": "markdown",
   "metadata": {
    "slideshow": {
     "slide_type": "skip"
    }
   },
   "source": [
    "#### States with >50% Pariticpation rate on both tests for either year"
   ]
  },
  {
   "cell_type": "code",
   "execution_count": 60,
   "metadata": {
    "slideshow": {
     "slide_type": "skip"
    }
   },
   "outputs": [],
   "source": [
    "# make a copy of the final df\n",
    "final_copy = final.copy()"
   ]
  },
  {
   "cell_type": "code",
   "execution_count": 61,
   "metadata": {
    "slideshow": {
     "slide_type": "skip"
    }
   },
   "outputs": [
    {
     "data": {
      "text/html": [
       "<div>\n",
       "<style scoped>\n",
       "    .dataframe tbody tr th:only-of-type {\n",
       "        vertical-align: middle;\n",
       "    }\n",
       "\n",
       "    .dataframe tbody tr th {\n",
       "        vertical-align: top;\n",
       "    }\n",
       "\n",
       "    .dataframe thead th {\n",
       "        text-align: right;\n",
       "    }\n",
       "</style>\n",
       "<table border=\"1\" class=\"dataframe\">\n",
       "  <thead>\n",
       "    <tr style=\"text-align: right;\">\n",
       "      <th></th>\n",
       "      <th>State_sat2018</th>\n",
       "      <th>Participation_sat2018</th>\n",
       "      <th>Evidence-Based_Reading_and_Writing_sat2018</th>\n",
       "      <th>Math_sat2018</th>\n",
       "      <th>Total_sat2018</th>\n",
       "      <th>State_act2018</th>\n",
       "      <th>Participation_act2018</th>\n",
       "      <th>Composite_act2018</th>\n",
       "      <th>English_act2018</th>\n",
       "      <th>Math_act2018</th>\n",
       "      <th>Reading_act2018</th>\n",
       "      <th>Science_act2018</th>\n",
       "    </tr>\n",
       "  </thead>\n",
       "  <tbody>\n",
       "    <tr>\n",
       "      <th>9</th>\n",
       "      <td>Florida</td>\n",
       "      <td>97</td>\n",
       "      <td>522</td>\n",
       "      <td>493</td>\n",
       "      <td>1014</td>\n",
       "      <td>Florida</td>\n",
       "      <td>66</td>\n",
       "      <td>19.9</td>\n",
       "      <td>19.2</td>\n",
       "      <td>19.3</td>\n",
       "      <td>21.1</td>\n",
       "      <td>19.5</td>\n",
       "    </tr>\n",
       "    <tr>\n",
       "      <th>10</th>\n",
       "      <td>Georgia</td>\n",
       "      <td>70</td>\n",
       "      <td>542</td>\n",
       "      <td>522</td>\n",
       "      <td>1064</td>\n",
       "      <td>Georgia</td>\n",
       "      <td>53</td>\n",
       "      <td>21.4</td>\n",
       "      <td>20.9</td>\n",
       "      <td>20.7</td>\n",
       "      <td>21.2</td>\n",
       "      <td>21.4</td>\n",
       "    </tr>\n",
       "    <tr>\n",
       "      <th>11</th>\n",
       "      <td>Hawaii</td>\n",
       "      <td>56</td>\n",
       "      <td>550</td>\n",
       "      <td>549</td>\n",
       "      <td>1099</td>\n",
       "      <td>Hawaii</td>\n",
       "      <td>89</td>\n",
       "      <td>18.9</td>\n",
       "      <td>18.2</td>\n",
       "      <td>19.0</td>\n",
       "      <td>19.1</td>\n",
       "      <td>19.0</td>\n",
       "    </tr>\n",
       "    <tr>\n",
       "      <th>33</th>\n",
       "      <td>North Carolina</td>\n",
       "      <td>52</td>\n",
       "      <td>554</td>\n",
       "      <td>543</td>\n",
       "      <td>1098</td>\n",
       "      <td>North Carolina</td>\n",
       "      <td>100</td>\n",
       "      <td>19.1</td>\n",
       "      <td>18.0</td>\n",
       "      <td>19.3</td>\n",
       "      <td>19.5</td>\n",
       "      <td>19.2</td>\n",
       "    </tr>\n",
       "    <tr>\n",
       "      <th>40</th>\n",
       "      <td>South Carolina</td>\n",
       "      <td>55</td>\n",
       "      <td>547</td>\n",
       "      <td>523</td>\n",
       "      <td>1070</td>\n",
       "      <td>South Carolina</td>\n",
       "      <td>100</td>\n",
       "      <td>18.3</td>\n",
       "      <td>17.3</td>\n",
       "      <td>18.2</td>\n",
       "      <td>18.6</td>\n",
       "      <td>18.5</td>\n",
       "    </tr>\n",
       "  </tbody>\n",
       "</table>\n",
       "</div>"
      ],
      "text/plain": [
       "     State_sat2018  Participation_sat2018  \\\n",
       "9          Florida                     97   \n",
       "10         Georgia                     70   \n",
       "11          Hawaii                     56   \n",
       "33  North Carolina                     52   \n",
       "40  South Carolina                     55   \n",
       "\n",
       "    Evidence-Based_Reading_and_Writing_sat2018  Math_sat2018  Total_sat2018  \\\n",
       "9                                          522           493           1014   \n",
       "10                                         542           522           1064   \n",
       "11                                         550           549           1099   \n",
       "33                                         554           543           1098   \n",
       "40                                         547           523           1070   \n",
       "\n",
       "     State_act2018  Participation_act2018  Composite_act2018  English_act2018  \\\n",
       "9          Florida                     66               19.9             19.2   \n",
       "10         Georgia                     53               21.4             20.9   \n",
       "11          Hawaii                     89               18.9             18.2   \n",
       "33  North Carolina                    100               19.1             18.0   \n",
       "40  South Carolina                    100               18.3             17.3   \n",
       "\n",
       "    Math_act2018  Reading_act2018  Science_act2018  \n",
       "9           19.3             21.1             19.5  \n",
       "10          20.7             21.2             21.4  \n",
       "11          19.0             19.1             19.0  \n",
       "33          19.3             19.5             19.2  \n",
       "40          18.2             18.6             18.5  "
      ]
     },
     "execution_count": 61,
     "metadata": {},
     "output_type": "execute_result"
    }
   ],
   "source": [
    "final_participation_2018 = final_copy[(final_copy['Participation_act2018']  > 50) & (final_copy['Participation_sat2018'] > 50)]\\\n",
    "                            .loc[:, final_copy.columns.to_series().str.contains('2018')].copy()\n",
    "\n",
    "final_participation_2018"
   ]
  },
  {
   "cell_type": "code",
   "execution_count": 62,
   "metadata": {
    "slideshow": {
     "slide_type": "skip"
    }
   },
   "outputs": [
    {
     "data": {
      "text/html": [
       "<div>\n",
       "<style scoped>\n",
       "    .dataframe tbody tr th:only-of-type {\n",
       "        vertical-align: middle;\n",
       "    }\n",
       "\n",
       "    .dataframe tbody tr th {\n",
       "        vertical-align: top;\n",
       "    }\n",
       "\n",
       "    .dataframe thead th {\n",
       "        text-align: right;\n",
       "    }\n",
       "</style>\n",
       "<table border=\"1\" class=\"dataframe\">\n",
       "  <thead>\n",
       "    <tr style=\"text-align: right;\">\n",
       "      <th></th>\n",
       "      <th>State_sat2017</th>\n",
       "      <th>Participation_sat2017</th>\n",
       "      <th>Evidence-Based_Reading_and_Writing_sat2017</th>\n",
       "      <th>Math_sat2017</th>\n",
       "      <th>Total_sat2017</th>\n",
       "      <th>State_act2017</th>\n",
       "      <th>Participation_act2017</th>\n",
       "      <th>English_act2017</th>\n",
       "      <th>Math_act2017</th>\n",
       "      <th>Reading_act2017</th>\n",
       "      <th>Science_act2017</th>\n",
       "      <th>Composite_act2017</th>\n",
       "    </tr>\n",
       "  </thead>\n",
       "  <tbody>\n",
       "    <tr>\n",
       "      <th>9</th>\n",
       "      <td>Florida</td>\n",
       "      <td>83</td>\n",
       "      <td>520</td>\n",
       "      <td>497</td>\n",
       "      <td>1017</td>\n",
       "      <td>Florida</td>\n",
       "      <td>73</td>\n",
       "      <td>19.0</td>\n",
       "      <td>19.4</td>\n",
       "      <td>21.0</td>\n",
       "      <td>19.4</td>\n",
       "      <td>19.8</td>\n",
       "    </tr>\n",
       "    <tr>\n",
       "      <th>10</th>\n",
       "      <td>Georgia</td>\n",
       "      <td>61</td>\n",
       "      <td>535</td>\n",
       "      <td>515</td>\n",
       "      <td>1050</td>\n",
       "      <td>Georgia</td>\n",
       "      <td>55</td>\n",
       "      <td>21.0</td>\n",
       "      <td>20.9</td>\n",
       "      <td>22.0</td>\n",
       "      <td>21.3</td>\n",
       "      <td>21.4</td>\n",
       "    </tr>\n",
       "    <tr>\n",
       "      <th>11</th>\n",
       "      <td>Hawaii</td>\n",
       "      <td>55</td>\n",
       "      <td>544</td>\n",
       "      <td>541</td>\n",
       "      <td>1085</td>\n",
       "      <td>Hawaii</td>\n",
       "      <td>90</td>\n",
       "      <td>17.8</td>\n",
       "      <td>19.2</td>\n",
       "      <td>19.2</td>\n",
       "      <td>19.3</td>\n",
       "      <td>19.0</td>\n",
       "    </tr>\n",
       "  </tbody>\n",
       "</table>\n",
       "</div>"
      ],
      "text/plain": [
       "   State_sat2017  Participation_sat2017  \\\n",
       "9        Florida                     83   \n",
       "10       Georgia                     61   \n",
       "11        Hawaii                     55   \n",
       "\n",
       "    Evidence-Based_Reading_and_Writing_sat2017  Math_sat2017  Total_sat2017  \\\n",
       "9                                          520           497           1017   \n",
       "10                                         535           515           1050   \n",
       "11                                         544           541           1085   \n",
       "\n",
       "   State_act2017  Participation_act2017  English_act2017  Math_act2017  \\\n",
       "9        Florida                     73             19.0          19.4   \n",
       "10       Georgia                     55             21.0          20.9   \n",
       "11        Hawaii                     90             17.8          19.2   \n",
       "\n",
       "    Reading_act2017  Science_act2017  Composite_act2017  \n",
       "9              21.0             19.4               19.8  \n",
       "10             22.0             21.3               21.4  \n",
       "11             19.2             19.3               19.0  "
      ]
     },
     "execution_count": 62,
     "metadata": {},
     "output_type": "execute_result"
    }
   ],
   "source": [
    "final_participation_2017 = final_copy[(final_copy['Participation_act2017']  > 50) & (final_copy['Participation_sat2017'] > 50)]\\\n",
    "                            .loc[:, final_copy.columns.to_series().str.contains('2017')].copy()\n",
    "\n",
    "final_participation_2017"
   ]
  },
  {
   "cell_type": "markdown",
   "metadata": {
    "slideshow": {
     "slide_type": "skip"
    }
   },
   "source": [
    "<a id=\"florida\"></a>\n",
    "We can observe that `Florida` has an inverse relationship with its YoY SAT and ACT participation rates. For example, Participation in the SATs increased form 83% to 97% (7.65% increase)  while ACTs decreased from 73% to 66% (-9.65%). A similar trend is observed for `Georgia` SAT increased 15% while ACT Participation rates decreased by -3.6% . \n",
    "\n",
    "#### Some Comments\n",
    "\n",
    "This inverse relationship between SAT and ACT participation rates would be interesting to take note as it may point to certain trends in college admissions' priorities for current students. For example, are SATs more relevant to college admission as compared to ACTs? And are participation rates being driven by such a preception?"
   ]
  },
  {
   "cell_type": "markdown",
   "metadata": {
    "slideshow": {
     "slide_type": "skip"
    }
   },
   "source": [
    "## Visualize the data\n",
    "\n",
    "There's not a magic bullet recommendation for the right number of plots to understand a given dataset, but visualizing your data is *always* a good idea. Not only does it allow you to quickly convey your findings (even if you have a non-technical audience), it will often reveal trends in your data that escaped you when you were looking only at numbers.\n",
    "\n",
    "Some recommendations on plotting:\n",
    "- Plots have titles\n",
    "- Plots have axis labels\n",
    "- Plots have appropriate tick labels\n",
    "- All text is legible in a plot\n",
    "- Plots demonstrate meaningful and valid relationships\n",
    "- Plots are interpreted to aid understanding\n",
    "\n",
    "There is such a thing as too many plots, and there are a *lot* of bad plots. You might make some! (But hopefully not with the guided prompts below)."
   ]
  },
  {
   "cell_type": "markdown",
   "metadata": {
    "slideshow": {
     "slide_type": "skip"
    }
   },
   "source": [
    "#### Use Seaborn's heatmap with pandas `.corr()` to visualize correlations between all numeric features\n",
    "\n",
    "Heatmaps are generally not appropriate for presentations, and should often be excluded from reports as they can be visually overwhelming. **However**, they can be extremely useful in identify relationships of potential interest (as well as identifying potential collinearity before modeling).\n",
    "\n",
    "*example*:\n",
    "```python\n",
    "sns.heatmap(df.corr())\n",
    "```\n",
    "\n",
    "Please take time to format your output, adding a title. Look through some of the additional arguments and options. (Axis labels aren't really necessary, as long as the title is informative)."
   ]
  },
  {
   "cell_type": "code",
   "execution_count": 63,
   "metadata": {
    "slideshow": {
     "slide_type": "skip"
    }
   },
   "outputs": [],
   "source": [
    "import seaborn as sns\n",
    "import matplotlib.pyplot as plt\n",
    "%matplotlib inline"
   ]
  },
  {
   "cell_type": "code",
   "execution_count": 95,
   "metadata": {
    "slideshow": {
     "slide_type": "skip"
    }
   },
   "outputs": [
    {
     "data": {
      "text/plain": [
       "Text(0.5, 1.0, 'Correlation Matrix of SAT/ACT Variables')"
      ]
     },
     "execution_count": 95,
     "metadata": {},
     "output_type": "execute_result"
    },
    {
     "data": {
      "image/png": "[encoded data removed]",
      "text/plain": [
       "<Figure size 720x720 with 2 Axes>"
      ]
     },
     "metadata": {
      "needs_background": "light"
     },
     "output_type": "display_data"
    }
   ],
   "source": [
    "# Setup matplotlib for figure size\n",
    "plt.figure(figsize = (10,10))\n",
    "corr = final.corr()\n",
    "mask = np.zeros_like(corr, dtype=np.bool)\n",
    "mask[np.triu_indices_from(mask)] = True\n",
    "# Create diverging color map\n",
    "cmap = sns.diverging_palette(255, 133, l=60, n=7)\n",
    "# Plot sns heatmap\n",
    "sns.heatmap(corr,mask=mask,cmap=cmap,square=True,linewidths=1,vmax=1,annot=True).set_title(\"Correlation Matrix of SAT/ACT Variables\")"
   ]
  },
  {
   "cell_type": "markdown",
   "metadata": {
    "slideshow": {
     "slide_type": "skip"
    }
   },
   "source": [
    "#### Define a custom function to subplot histograms\n",
    "\n",
    "We have data for two tests for two years. We only have composite (and not subtest scores) for the 2018 ACT. We should write a function that will take the names of 2+ columns and subplot histograms. While you can use pandas plotting or Seaborn here, matplotlib gives you greater control over all aspects of your plots.\n",
    "\n",
    "[Helpful Link for Plotting Multiple Figures](https://matplotlib.org/users/pyplot_tutorial.html#working-with-multiple-figures-and-axes)\n",
    "\n",
    "Here's some starter code:"
   ]
  },
  {
   "cell_type": "code",
   "execution_count": 65,
   "metadata": {
    "slideshow": {
     "slide_type": "skip"
    }
   },
   "outputs": [],
   "source": [
    "def subplot_histograms(dataframe, list_of_columns, list_of_titles, list_of_xlabels):\n",
    "    nrows = int(np.ceil(len(list_of_columns)/2)) # Makes sure you have enough rows\n",
    "    fig, ax = plt.subplots(nrows=nrows, ncols=2,figsize = (10,10)) # You'll want to specify your figsize\n",
    "\n",
    "    ax = ax.ravel() # Ravel turns a matrix into a vector, which is easier to iterate\n",
    "    for i, column in enumerate(list_of_columns): # Gives us an index value to get into all our lists\n",
    "        ax[i].hist(dataframe[column],bins=20,ec='black')\n",
    "        ax[i].title.set_text('Distribution of ' + str(list_of_titles[i]))# feel free to add more settings\n",
    "        ax[i].set_xlabel(str(list_of_labels[0]))# Set titles, labels, etc here for each subplot\n",
    "        ax[i].set_ylabel('Count')# Set titles, labels, etc here for each subplot"
   ]
  },
  {
   "cell_type": "markdown",
   "metadata": {
    "slideshow": {
     "slide_type": "skip"
    }
   },
   "source": [
    "#### Plot and interpret histograms \n",
    "For each of the following:\n",
    "- Participation rates for SAT & ACT\n",
    "- Math scores for SAT & ACT\n",
    "- Reading/verbal scores for SAT & ACT"
   ]
  },
  {
   "cell_type": "markdown",
   "metadata": {
    "slideshow": {
     "slide_type": "skip"
    }
   },
   "source": [
    "### Participation rates for SAT & ACT"
   ]
  },
  {
   "cell_type": "code",
   "execution_count": 66,
   "metadata": {
    "slideshow": {
     "slide_type": "skip"
    }
   },
   "outputs": [
    {
     "data": {
      "image/png": "[encoded data removed]",
      "text/plain": [
       "<Figure size 720x720 with 4 Axes>"
      ]
     },
     "metadata": {
      "needs_background": "light"
     },
     "output_type": "display_data"
    }
   ],
   "source": [
    "participation_rate_columns = ['Participation_act2018','Participation_sat2018','Participation_act2017','Participation_sat2017']\n",
    "participation_rate_titles = ['ACT 2018 Participation','SAT 2018 Participation','ACT 2017 Participation','SAT 2018 Participation']\n",
    "list_of_labels = ['Percentage Participation']\n",
    "\n",
    "subplot_histograms(final,participation_rate_columns,participation_rate_titles, list_of_labels)\n"
   ]
  },
  {
   "cell_type": "markdown",
   "metadata": {
    "slideshow": {
     "slide_type": "skip"
    }
   },
   "source": [
    "From the ACT distribuions between 2018 and 2017, we see a left skewed distribution with a modal value of greater than 90% whereas in the SAT distribuions, we see a right skewed distribution where the modal value is below 20%. This may indicate that there is a greater ACT participation rate as compared to SATs. This may allow for greater analysis to uncover why ACT is more popular as compared to the SAT."
   ]
  },
  {
   "cell_type": "markdown",
   "metadata": {
    "slideshow": {
     "slide_type": "skip"
    }
   },
   "source": [
    "### Math Scores for SAT & ACT"
   ]
  },
  {
   "cell_type": "code",
   "execution_count": 67,
   "metadata": {
    "slideshow": {
     "slide_type": "skip"
    }
   },
   "outputs": [
    {
     "data": {
      "image/png": "[encoded data removed]",
      "text/plain": [
       "<Figure size 720x720 with 4 Axes>"
      ]
     },
     "metadata": {
      "needs_background": "light"
     },
     "output_type": "display_data"
    }
   ],
   "source": [
    "math_columns = ['Math_sat2018','Math_sat2017','Math_act2018','Math_act2017']\n",
    "math_titles = ['MATH SAT 2018 Score','MATH SAT 2017 Score','MATH ACT 2018 Score','MATH ACT 2017 Score']\n",
    "list_of_labels = ['MATH Scores']\n",
    "\n",
    "subplot_histograms(final,math_columns,math_titles, list_of_labels)\n"
   ]
  },
  {
   "cell_type": "markdown",
   "metadata": {
    "slideshow": {
     "slide_type": "skip"
    }
   },
   "source": [
    "In comparing the MATH scores for SAT between the two yers, we can observe that the distribution of the median for 2018 is shifting more towards the right (increasing). This may suggest that SAT scores are improving from the previous year.\n",
    "\n",
    "For the ACT scores, we also observed a slight shift in the distribution to favour a higher ACT score. "
   ]
  },
  {
   "cell_type": "markdown",
   "metadata": {
    "slideshow": {
     "slide_type": "skip"
    }
   },
   "source": [
    "### Reading/Verbal Scores for SAT & ACT"
   ]
  },
  {
   "cell_type": "code",
   "execution_count": 68,
   "metadata": {
    "slideshow": {
     "slide_type": "skip"
    }
   },
   "outputs": [
    {
     "data": {
      "image/png": "[encoded data removed]",
      "text/plain": [
       "<Figure size 720x720 with 4 Axes>"
      ]
     },
     "metadata": {
      "needs_background": "light"
     },
     "output_type": "display_data"
    }
   ],
   "source": [
    "english_columns = ['Evidence-Based_Reading_and_Writing_sat2018','Evidence-Based_Reading_and_Writing_sat2017','Reading_act2018','Reading_act2017']\n",
    "english_titles = ['Reading/Verbal SAT 2018 Score','Reading/Verbal SAT 2017 Score','Reading/Verbal ACT 2018 Score','Reading/Verbal ACT 2017 Score']\n",
    "list_of_labels = ['Reading/Verbal Scores']\n",
    "\n",
    "subplot_histograms(final,english_columns,english_titles, list_of_labels)"
   ]
  },
  {
   "cell_type": "markdown",
   "metadata": {
    "slideshow": {
     "slide_type": "skip"
    }
   },
   "source": [
    "For the Reading/Verbal SAT scores, we see a more distinct bimodal distribution when compared to 2017. This is also seen for the ACT scores."
   ]
  },
  {
   "cell_type": "markdown",
   "metadata": {
    "slideshow": {
     "slide_type": "skip"
    }
   },
   "source": [
    "#### Plot and interpret scatter plots\n",
    "\n",
    "For each of the following:\n",
    "- SAT vs. ACT math scores for 2017\n",
    "- SAT vs. ACT verbal/reading scores for 2017\n",
    "- SAT vs. ACT total/composite scores for 2017\n",
    "- Total scores for SAT 2017 vs. 2018\n",
    "- Composite scores for ACT 2017 vs. 2018\n",
    "\n",
    "Plot the two variables against each other using matplotlib or Seaborn\n",
    "\n",
    "Your plots should show:\n",
    "- Two clearly labeled axes\n",
    "- A proper title\n",
    "- Using colors and symbols that are clear and unmistakable\n",
    "\n",
    "**Feel free to write a custom function, and subplot if you'd like.** Functions save both time and space.\n"
   ]
  },
  {
   "cell_type": "markdown",
   "metadata": {
    "slideshow": {
     "slide_type": "skip"
    }
   },
   "source": [
    "#### Plot of ACT math against SAT scores for 2017"
   ]
  },
  {
   "cell_type": "code",
   "execution_count": 69,
   "metadata": {
    "slideshow": {
     "slide_type": "skip"
    }
   },
   "outputs": [
    {
     "data": {
      "text/plain": [
       "[Text(0, 0.5, 'Math Scores for ACT'),\n",
       " Text(0.5, 0, 'Math Scores for SAT'),\n",
       " Text(0.5, 1.0, 'Scatterplot of ACT math scores against SAT math scores')]"
      ]
     },
     "execution_count": 69,
     "metadata": {},
     "output_type": "execute_result"
    },
    {
     "data": {
      "image/png": "[encoded data removed]",
      "text/plain": [
       "<Figure size 432x288 with 1 Axes>"
      ]
     },
     "metadata": {
      "needs_background": "light"
     },
     "output_type": "display_data"
    }
   ],
   "source": [
    "ax_scatter_math = sns.scatterplot(x=\"Math_sat2017\",y=\"Math_act2018\",data=final)  \n",
    "ax_scatter_math.set_ylim(15, 30)\n",
    "ax_scatter_math.set_xlim(400, 700)\n",
    "\n",
    "ax_scatter_math.set(xlabel='Math Scores for SAT', ylabel='Math Scores for ACT',title='Scatterplot of ACT math scores against SAT math scores')"
   ]
  },
  {
   "cell_type": "markdown",
   "metadata": {
    "slideshow": {
     "slide_type": "skip"
    }
   },
   "source": [
    "#### Plot of ACT against SAT Verbal/Reading scores for 2017"
   ]
  },
  {
   "cell_type": "code",
   "execution_count": 70,
   "metadata": {
    "slideshow": {
     "slide_type": "skip"
    }
   },
   "outputs": [
    {
     "data": {
      "text/plain": [
       "[Text(0, 0.5, 'Reading Scores for ACT'),\n",
       " Text(0.5, 0, 'Verbal/Reading Scores for SAT'),\n",
       " Text(0.5, 1.0, 'Scatterplot of ACT math scores against SAT math scores')]"
      ]
     },
     "execution_count": 70,
     "metadata": {},
     "output_type": "execute_result"
    },
    {
     "data": {
      "image/png": "[encoded data removed]",
      "text/plain": [
       "<Figure size 432x288 with 1 Axes>"
      ]
     },
     "metadata": {
      "needs_background": "light"
     },
     "output_type": "display_data"
    }
   ],
   "source": [
    "ax_scatter_vr = sns.scatterplot(x=\"Evidence-Based_Reading_and_Writing_sat2017\",y=\"Reading_act2017\",data=final)  \n",
    "ax_scatter_vr.set(xlabel='Verbal/Reading Scores for SAT', ylabel='Reading Scores for ACT',title='Scatterplot of ACT math scores against SAT math scores')"
   ]
  },
  {
   "cell_type": "markdown",
   "metadata": {
    "slideshow": {
     "slide_type": "skip"
    }
   },
   "source": [
    "#### Plot of ACT against SAT Total/Composite scores for 2017"
   ]
  },
  {
   "cell_type": "code",
   "execution_count": 71,
   "metadata": {
    "slideshow": {
     "slide_type": "skip"
    }
   },
   "outputs": [
    {
     "data": {
      "text/plain": [
       "[Text(0, 0.5, 'Composite Scores for ACT'),\n",
       " Text(0.5, 0, 'Total Scores for SAT'),\n",
       " Text(0.5, 1.0, 'Scatterplot of ACT Composite scores against SAT Total scores')]"
      ]
     },
     "execution_count": 71,
     "metadata": {},
     "output_type": "execute_result"
    },
    {
     "data": {
      "image/png": "[encoded data removed]",
      "text/plain": [
       "<Figure size 432x288 with 1 Axes>"
      ]
     },
     "metadata": {
      "needs_background": "light"
     },
     "output_type": "display_data"
    }
   ],
   "source": [
    "ax_scatter_total_composite = sns.scatterplot(x=\"Total_sat2017\",y=\"Composite_act2017\",data=final)  \n",
    "ax_scatter_total_composite.set(xlabel='Total Scores for SAT', ylabel='Composite Scores for ACT',title='Scatterplot of ACT Composite scores against SAT Total scores')"
   ]
  },
  {
   "cell_type": "markdown",
   "metadata": {
    "slideshow": {
     "slide_type": "skip"
    }
   },
   "source": [
    "#### Total scores for SAT 2017 vs. 2018"
   ]
  },
  {
   "cell_type": "code",
   "execution_count": 72,
   "metadata": {
    "slideshow": {
     "slide_type": "skip"
    }
   },
   "outputs": [
    {
     "data": {
      "text/plain": [
       "[Text(0, 0.5, 'Total Scores for SAT 2018'),\n",
       " Text(0.5, 0, 'Total Scores for SAT 2017'),\n",
       " Text(0.5, 1.0, 'Scatterplot of SAT Total scores in 2018 against 2017')]"
      ]
     },
     "execution_count": 72,
     "metadata": {},
     "output_type": "execute_result"
    },
    {
     "data": {
      "image/png": "[encoded data removed]",
      "text/plain": [
       "<Figure size 432x288 with 1 Axes>"
      ]
     },
     "metadata": {
      "needs_background": "light"
     },
     "output_type": "display_data"
    }
   ],
   "source": [
    "ax_scatter_total_sat = sns.scatterplot(x=\"Total_sat2017\",y=\"Total_sat2018\",data=final)\n",
    "ax_scatter_total_sat.set_ylim(900, 1400)\n",
    "ax_scatter_total_sat.set_xlim(900, 1400)\n",
    "sns.regplot(x=\"Total_sat2017\",y=\"Total_sat2018\",data=final)\n",
    "ax_scatter_total_sat.set(xlabel='Total Scores for SAT 2017', ylabel='Total Scores for SAT 2018',title='Scatterplot of SAT Total scores in 2018 against 2017')"
   ]
  },
  {
   "cell_type": "markdown",
   "metadata": {
    "slideshow": {
     "slide_type": "skip"
    }
   },
   "source": [
    "#### Composite scores for ACT 2017 vs. 2018\n"
   ]
  },
  {
   "cell_type": "code",
   "execution_count": 73,
   "metadata": {
    "slideshow": {
     "slide_type": "skip"
    }
   },
   "outputs": [
    {
     "data": {
      "text/plain": [
       "[Text(0, 0.5, 'Composite for ACT 2018'),\n",
       " Text(0.5, 0, 'Composite for ACT 2017'),\n",
       " Text(0.5, 1.0, 'Scatterplot of ACT Composite scores in 2018 against 2017')]"
      ]
     },
     "execution_count": 73,
     "metadata": {},
     "output_type": "execute_result"
    },
    {
     "data": {
      "image/png": "[encoded data removed]",
      "text/plain": [
       "<Figure size 432x288 with 1 Axes>"
      ]
     },
     "metadata": {
      "needs_background": "light"
     },
     "output_type": "display_data"
    }
   ],
   "source": [
    "ax_scatter_composite_act = sns.scatterplot(x=\"Composite_act2017\",y=\"Composite_act2018\",data=final)  \n",
    "ax_scatter_composite_act.set_ylim(16, 27)\n",
    "ax_scatter_composite_act.set_xlim(16, 27)\n",
    "sns.regplot(x=\"Composite_act2017\",y=\"Composite_act2018\",data=final)\n",
    "ax_scatter_composite_act.set(xlabel='Composite for ACT 2017', ylabel='Composite for ACT 2018',title='Scatterplot of ACT Composite scores in 2018 against 2017')"
   ]
  },
  {
   "cell_type": "markdown",
   "metadata": {
    "slideshow": {
     "slide_type": "skip"
    }
   },
   "source": [
    "There is positive trend of ACT scores over time."
   ]
  },
  {
   "cell_type": "markdown",
   "metadata": {
    "slideshow": {
     "slide_type": "skip"
    }
   },
   "source": [
    "#### Plot and interpret boxplots\n",
    "\n",
    "For each numeric variable in the dataframe create a boxplot using Seaborn. Boxplots demonstrate central tendency and spread in variables. In a certain sense, these are somewhat redundant with histograms, but you may be better able to identify clear outliers or differences in IQR, etc.\n",
    "\n",
    "Multiple values can be plotted to a single boxplot as long as they are of the same relative scale (meaning they have similar min/max values).\n",
    "\n",
    "Each boxplot should:\n",
    "- Only include variables of a similar scale\n",
    "- Have clear labels for each variable\n",
    "- Have appropriate titles and labels"
   ]
  },
  {
   "cell_type": "code",
   "execution_count": 74,
   "metadata": {
    "slideshow": {
     "slide_type": "skip"
    }
   },
   "outputs": [
    {
     "data": {
      "text/plain": [
       "Text(0, 0.5, 'SAT Component Score')"
      ]
     },
     "execution_count": 74,
     "metadata": {},
     "output_type": "execute_result"
    },
    {
     "data": {
      "image/png": "[encoded data removed]",
      "text/plain": [
       "<Figure size 1152x432 with 2 Axes>"
      ]
     },
     "metadata": {
      "needs_background": "light"
     },
     "output_type": "display_data"
    }
   ],
   "source": [
    "sat_2018_columns = ['Evidence-Based_Reading_and_Writing_sat2018','Math_sat2018']\n",
    "sat_2017_columns = ['Evidence-Based_Reading_and_Writing_sat2017','Math_sat2017']\n",
    "\n",
    "f, (ax1, ax2) = plt.subplots(1, 2,figsize=(16,6),sharey=True)\n",
    "plt.suptitle(\"SAT Scores Comparison 2018 vs 2017\", size=16)\n",
    "sns.boxplot(data=final.loc[:,sat_2018_columns],ax=ax1)\n",
    "sns.boxplot(data=final.loc[:,sat_2017_columns],ax=ax2)\n",
    "ax1.set_xlabel('2018')\n",
    "ax2.set_xlabel('2017')\n",
    "ax1.set_ylabel(\"SAT Component Score\")\n",
    "ax2.set_ylabel(\"SAT Component Score\")"
   ]
  },
  {
   "cell_type": "code",
   "execution_count": 75,
   "metadata": {
    "slideshow": {
     "slide_type": "skip"
    }
   },
   "outputs": [
    {
     "data": {
      "text/plain": [
       "Text(0, 0.5, 'SAT Component Score')"
      ]
     },
     "execution_count": 75,
     "metadata": {},
     "output_type": "execute_result"
    },
    {
     "data": {
      "image/png": "[encoded data removed]",
      "text/plain": [
       "<Figure size 1296x432 with 2 Axes>"
      ]
     },
     "metadata": {
      "needs_background": "light"
     },
     "output_type": "display_data"
    }
   ],
   "source": [
    "act_2018_columns = ['Composite_act2018', 'English_act2018', 'Math_act2018',\n",
    "       'Reading_act2018', 'Science_act2018',]\n",
    "act_2017_columns = ['Composite_act2017', 'English_act2017', 'Math_act2017',\n",
    "       'Reading_act2017', 'Science_act2017',]\n",
    "\n",
    "f, (ax1, ax2) = plt.subplots(1, 2,figsize=(18,6),sharey=True)\n",
    "plt.suptitle(\"ACT Scores Comparison 2018 vs 2017\", size=16)\n",
    "sns.boxplot(data=final.loc[:,act_2018_columns],ax=ax1)\n",
    "sns.boxplot(data=final.loc[:,act_2017_columns],ax=ax2)\n",
    "ax1.set_xlabel('2018')\n",
    "ax2.set_xlabel('2017')\n",
    "ax1.set_ylabel(\"SAT Component Score\")\n",
    "ax2.set_ylabel(\"SAT Component Score\")\n"
   ]
  },
  {
   "cell_type": "code",
   "execution_count": 76,
   "metadata": {
    "slideshow": {
     "slide_type": "skip"
    }
   },
   "outputs": [
    {
     "data": {
      "text/plain": [
       "Text(0, 0.5, 'Participation %')"
      ]
     },
     "execution_count": 76,
     "metadata": {},
     "output_type": "execute_result"
    },
    {
     "data": {
      "image/png": "[encoded data removed]",
      "text/plain": [
       "<Figure size 1440x432 with 2 Axes>"
      ]
     },
     "metadata": {
      "needs_background": "light"
     },
     "output_type": "display_data"
    }
   ],
   "source": [
    "participation_2018_columns = ['Participation_sat2018', 'Participation_act2018']\n",
    "participation_2017_columns = ['Participation_sat2017', 'Participation_act2017']\n",
    "\n",
    "f, (ax1, ax2) = plt.subplots(1, 2,figsize=(20,6),sharey=True)\n",
    "plt.suptitle(\"ACT/SAT Participation Comparison 2018 vs 2017\", size=16)\n",
    "sns.boxplot(data=final.loc[:,participation_2018_columns],ax=ax1)\n",
    "sns.boxplot(data=final.loc[:,participation_2017_columns],ax=ax2)\n",
    "ax1.set_xlabel('2018')\n",
    "ax2.set_xlabel('2017')\n",
    "ax1.set_ylabel(\"Participation %\")\n",
    "ax2.set_ylabel(\"Participation %\")\n"
   ]
  },
  {
   "cell_type": "markdown",
   "metadata": {
    "slideshow": {
     "slide_type": "skip"
    }
   },
   "source": [
    "#### Feel free to do additional plots below\n",
    "*(do research and choose your own chart types & variables)*\n",
    "\n",
    "Are there any additional trends or relationships you haven't explored? Was there something interesting you saw that you'd like to dive further into? It's likely that there are a few more plots you might want to generate to support your narrative and recommendations that you are building toward. **As always, make sure you're interpreting your plots as you go**."
   ]
  },
  {
   "cell_type": "code",
   "execution_count": 77,
   "metadata": {
    "slideshow": {
     "slide_type": "skip"
    }
   },
   "outputs": [
    {
     "data": {
      "text/plain": [
       "<matplotlib.legend.Legend at 0x1a18262550>"
      ]
     },
     "execution_count": 77,
     "metadata": {},
     "output_type": "execute_result"
    },
    {
     "data": {
      "image/png": "[encoded data removed]",
      "text/plain": [
       "<Figure size 576x720 with 1 Axes>"
      ]
     },
     "metadata": {
      "needs_background": "light"
     },
     "output_type": "display_data"
    }
   ],
   "source": [
    "# Explore correlation of components to total, as a factor or participation lowest vs highest\n",
    "# plot participation against scores\n",
    "plt.figure(figsize=(8,10))\n",
    "ax_scatter_composite_act = sns.scatterplot(x=\"Participation_act2018\",y=\"Composite_act2018\",data=final,label=\"2018\")  \n",
    "ax_scatter_composite_act.set(xlabel='Participation for ACT ', ylabel='Composite Score for ACT',title='Scatterplot of ACT Composite scores against Participation rates')\n",
    "sns.regplot(x=\"Participation_act2018\",y=\"Composite_act2018\",data=final)\n",
    "plt.legend()"
   ]
  },
  {
   "cell_type": "markdown",
   "metadata": {
    "slideshow": {
     "slide_type": "skip"
    }
   },
   "source": [
    "Higher ACT participation rates do not translate to better performance on scores. From the scatterplot diagram, we can observe that states lower participation scores have a better ACT performance. This can point out to additional factors in candidates that intentionally take the test. For example, candidates that intentionally take ACT in states where it is optional, may already be well prepared for it. "
   ]
  },
  {
   "cell_type": "code",
   "execution_count": 78,
   "metadata": {
    "slideshow": {
     "slide_type": "skip"
    }
   },
   "outputs": [
    {
     "data": {
      "text/plain": [
       "<matplotlib.legend.Legend at 0x1a17842278>"
      ]
     },
     "execution_count": 78,
     "metadata": {},
     "output_type": "execute_result"
    },
    {
     "data": {
      "image/png": "[encoded data removed]",
      "text/plain": [
       "<Figure size 576x720 with 1 Axes>"
      ]
     },
     "metadata": {
      "needs_background": "light"
     },
     "output_type": "display_data"
    }
   ],
   "source": [
    "# plot participation against scores (SAT)\n",
    "plt.figure(figsize=(8,10))\n",
    "ax_scatter_sat = sns.scatterplot(x=\"Participation_sat2018\",y=\"Total_sat2018\",data=final,label=\"2018\")    \n",
    "sns.regplot(x=\"Participation_sat2018\",y=\"Total_sat2018\",data=final)\n",
    "ax_scatter_sat.set(xlabel='Participation for SAT ', ylabel='Total Score for SAT',title='Scatterplot of 2018 SAT Total scores against Participation rates')\n",
    "\n",
    "plt.legend()"
   ]
  },
  {
   "cell_type": "markdown",
   "metadata": {
    "slideshow": {
     "slide_type": "skip"
    }
   },
   "source": [
    "A similar trend is observed - states with lower participation rates tend to reflect higher SAT total scores. "
   ]
  },
  {
   "cell_type": "markdown",
   "metadata": {
    "slideshow": {
     "slide_type": "skip"
    }
   },
   "source": [
    "#### (Optional): Using Tableau, create a choropleth map for each variable using a map of the US. \n",
    "\n",
    "Save this plot as an image file in an images directory, provide a relative path, and insert the image into notebook in markdown."
   ]
  },
  {
   "cell_type": "code",
   "execution_count": null,
   "metadata": {
    "slideshow": {
     "slide_type": "skip"
    }
   },
   "outputs": [],
   "source": []
  },
  {
   "cell_type": "markdown",
   "metadata": {
    "slideshow": {
     "slide_type": "skip"
    }
   },
   "source": [
    "## Descriptive and Inferential Statistics"
   ]
  },
  {
   "cell_type": "markdown",
   "metadata": {
    "slideshow": {
     "slide_type": "skip"
    }
   },
   "source": [
    "#### Summarizing Distributions\n",
    "\n",
    "Above, we used pandas `describe` to provide quick summary statistics of our numeric columns. We also demonstrated many visual relationships.\n",
    "\n",
    "As data scientists, having a complete understanding of data is imperative prior to modeling.\n",
    "\n",
    "While we will continue to build our analytic tools, we know that measures of *central tendency*, *spread*, and *shape/skewness* provide a quick summary of distributions.\n",
    "\n",
    "For each variable in your data, summarize the underlying distributions (in words & statistics)\n",
    " - Be thorough in your verbal description of these distributions.\n",
    " - Be sure to back up these summaries with statistics."
   ]
  },
  {
   "cell_type": "code",
   "execution_count": 79,
   "metadata": {
    "slideshow": {
     "slide_type": "skip"
    }
   },
   "outputs": [
    {
     "data": {
      "text/html": [
       "<div>\n",
       "<style scoped>\n",
       "    .dataframe tbody tr th:only-of-type {\n",
       "        vertical-align: middle;\n",
       "    }\n",
       "\n",
       "    .dataframe tbody tr th {\n",
       "        vertical-align: top;\n",
       "    }\n",
       "\n",
       "    .dataframe thead th {\n",
       "        text-align: right;\n",
       "    }\n",
       "</style>\n",
       "<table border=\"1\" class=\"dataframe\">\n",
       "  <thead>\n",
       "    <tr style=\"text-align: right;\">\n",
       "      <th></th>\n",
       "      <th>Participation_sat2018</th>\n",
       "      <th>Evidence-Based_Reading_and_Writing_sat2018</th>\n",
       "      <th>Math_sat2018</th>\n",
       "      <th>Total_sat2018</th>\n",
       "      <th>Participation_act2018</th>\n",
       "      <th>Composite_act2018</th>\n",
       "      <th>English_act2018</th>\n",
       "      <th>Math_act2018</th>\n",
       "      <th>Reading_act2018</th>\n",
       "      <th>Science_act2018</th>\n",
       "      <th>Participation_sat2017</th>\n",
       "      <th>Evidence-Based_Reading_and_Writing_sat2017</th>\n",
       "      <th>Math_sat2017</th>\n",
       "      <th>Total_sat2017</th>\n",
       "      <th>Participation_act2017</th>\n",
       "      <th>English_act2017</th>\n",
       "      <th>Math_act2017</th>\n",
       "      <th>Reading_act2017</th>\n",
       "      <th>Science_act2017</th>\n",
       "      <th>Composite_act2017</th>\n",
       "    </tr>\n",
       "  </thead>\n",
       "  <tbody>\n",
       "    <tr>\n",
       "      <th>count</th>\n",
       "      <td>51.000000</td>\n",
       "      <td>51.000000</td>\n",
       "      <td>51.000000</td>\n",
       "      <td>51.000000</td>\n",
       "      <td>51.000000</td>\n",
       "      <td>51.000000</td>\n",
       "      <td>51.000000</td>\n",
       "      <td>51.000000</td>\n",
       "      <td>51.000000</td>\n",
       "      <td>51.000000</td>\n",
       "      <td>51.000000</td>\n",
       "      <td>51.000000</td>\n",
       "      <td>51.000000</td>\n",
       "      <td>51.000000</td>\n",
       "      <td>51.000000</td>\n",
       "      <td>51.000000</td>\n",
       "      <td>51.000000</td>\n",
       "      <td>51.000000</td>\n",
       "      <td>51.000000</td>\n",
       "      <td>51.000000</td>\n",
       "    </tr>\n",
       "    <tr>\n",
       "      <th>mean</th>\n",
       "      <td>46.627451</td>\n",
       "      <td>567.294118</td>\n",
       "      <td>557.254902</td>\n",
       "      <td>1124.666667</td>\n",
       "      <td>61.647059</td>\n",
       "      <td>21.486275</td>\n",
       "      <td>20.988235</td>\n",
       "      <td>21.125490</td>\n",
       "      <td>22.015686</td>\n",
       "      <td>21.345098</td>\n",
       "      <td>39.803922</td>\n",
       "      <td>569.117647</td>\n",
       "      <td>556.882353</td>\n",
       "      <td>1126.098039</td>\n",
       "      <td>65.254902</td>\n",
       "      <td>20.931373</td>\n",
       "      <td>21.182353</td>\n",
       "      <td>22.013725</td>\n",
       "      <td>21.450980</td>\n",
       "      <td>21.519608</td>\n",
       "    </tr>\n",
       "    <tr>\n",
       "      <th>std</th>\n",
       "      <td>38.014187</td>\n",
       "      <td>45.317676</td>\n",
       "      <td>48.887562</td>\n",
       "      <td>93.867069</td>\n",
       "      <td>34.080976</td>\n",
       "      <td>2.106278</td>\n",
       "      <td>2.446356</td>\n",
       "      <td>2.035765</td>\n",
       "      <td>2.167245</td>\n",
       "      <td>1.870114</td>\n",
       "      <td>35.276632</td>\n",
       "      <td>45.666901</td>\n",
       "      <td>47.121395</td>\n",
       "      <td>92.494812</td>\n",
       "      <td>32.140842</td>\n",
       "      <td>2.353677</td>\n",
       "      <td>1.981989</td>\n",
       "      <td>2.067271</td>\n",
       "      <td>1.739353</td>\n",
       "      <td>2.020695</td>\n",
       "    </tr>\n",
       "    <tr>\n",
       "      <th>min</th>\n",
       "      <td>2.000000</td>\n",
       "      <td>497.000000</td>\n",
       "      <td>480.000000</td>\n",
       "      <td>977.000000</td>\n",
       "      <td>7.000000</td>\n",
       "      <td>17.700000</td>\n",
       "      <td>16.600000</td>\n",
       "      <td>17.800000</td>\n",
       "      <td>18.000000</td>\n",
       "      <td>17.900000</td>\n",
       "      <td>2.000000</td>\n",
       "      <td>482.000000</td>\n",
       "      <td>468.000000</td>\n",
       "      <td>950.000000</td>\n",
       "      <td>8.000000</td>\n",
       "      <td>16.300000</td>\n",
       "      <td>18.000000</td>\n",
       "      <td>18.100000</td>\n",
       "      <td>18.200000</td>\n",
       "      <td>17.800000</td>\n",
       "    </tr>\n",
       "    <tr>\n",
       "      <th>25%</th>\n",
       "      <td>4.500000</td>\n",
       "      <td>535.000000</td>\n",
       "      <td>521.500000</td>\n",
       "      <td>1062.500000</td>\n",
       "      <td>28.500000</td>\n",
       "      <td>19.950000</td>\n",
       "      <td>19.100000</td>\n",
       "      <td>19.400000</td>\n",
       "      <td>20.450000</td>\n",
       "      <td>19.850000</td>\n",
       "      <td>4.000000</td>\n",
       "      <td>533.500000</td>\n",
       "      <td>523.500000</td>\n",
       "      <td>1055.500000</td>\n",
       "      <td>31.000000</td>\n",
       "      <td>19.000000</td>\n",
       "      <td>19.400000</td>\n",
       "      <td>20.450000</td>\n",
       "      <td>19.950000</td>\n",
       "      <td>19.800000</td>\n",
       "    </tr>\n",
       "    <tr>\n",
       "      <th>50%</th>\n",
       "      <td>52.000000</td>\n",
       "      <td>552.000000</td>\n",
       "      <td>547.000000</td>\n",
       "      <td>1099.000000</td>\n",
       "      <td>66.000000</td>\n",
       "      <td>21.300000</td>\n",
       "      <td>20.200000</td>\n",
       "      <td>20.700000</td>\n",
       "      <td>21.600000</td>\n",
       "      <td>21.100000</td>\n",
       "      <td>38.000000</td>\n",
       "      <td>559.000000</td>\n",
       "      <td>548.000000</td>\n",
       "      <td>1107.000000</td>\n",
       "      <td>69.000000</td>\n",
       "      <td>20.700000</td>\n",
       "      <td>20.900000</td>\n",
       "      <td>21.800000</td>\n",
       "      <td>21.300000</td>\n",
       "      <td>21.400000</td>\n",
       "    </tr>\n",
       "    <tr>\n",
       "      <th>75%</th>\n",
       "      <td>79.500000</td>\n",
       "      <td>616.500000</td>\n",
       "      <td>600.500000</td>\n",
       "      <td>1220.000000</td>\n",
       "      <td>100.000000</td>\n",
       "      <td>23.550000</td>\n",
       "      <td>23.700000</td>\n",
       "      <td>23.150000</td>\n",
       "      <td>24.100000</td>\n",
       "      <td>23.050000</td>\n",
       "      <td>66.000000</td>\n",
       "      <td>613.000000</td>\n",
       "      <td>599.000000</td>\n",
       "      <td>1212.000000</td>\n",
       "      <td>100.000000</td>\n",
       "      <td>23.300000</td>\n",
       "      <td>23.100000</td>\n",
       "      <td>24.150000</td>\n",
       "      <td>23.200000</td>\n",
       "      <td>23.600000</td>\n",
       "    </tr>\n",
       "    <tr>\n",
       "      <th>max</th>\n",
       "      <td>100.000000</td>\n",
       "      <td>643.000000</td>\n",
       "      <td>655.000000</td>\n",
       "      <td>1298.000000</td>\n",
       "      <td>100.000000</td>\n",
       "      <td>25.600000</td>\n",
       "      <td>26.000000</td>\n",
       "      <td>25.200000</td>\n",
       "      <td>26.100000</td>\n",
       "      <td>24.900000</td>\n",
       "      <td>100.000000</td>\n",
       "      <td>644.000000</td>\n",
       "      <td>651.000000</td>\n",
       "      <td>1295.000000</td>\n",
       "      <td>100.000000</td>\n",
       "      <td>25.500000</td>\n",
       "      <td>25.300000</td>\n",
       "      <td>26.000000</td>\n",
       "      <td>24.900000</td>\n",
       "      <td>25.500000</td>\n",
       "    </tr>\n",
       "  </tbody>\n",
       "</table>\n",
       "</div>"
      ],
      "text/plain": [
       "       Participation_sat2018  Evidence-Based_Reading_and_Writing_sat2018  \\\n",
       "count              51.000000                                   51.000000   \n",
       "mean               46.627451                                  567.294118   \n",
       "std                38.014187                                   45.317676   \n",
       "min                 2.000000                                  497.000000   \n",
       "25%                 4.500000                                  535.000000   \n",
       "50%                52.000000                                  552.000000   \n",
       "75%                79.500000                                  616.500000   \n",
       "max               100.000000                                  643.000000   \n",
       "\n",
       "       Math_sat2018  Total_sat2018  Participation_act2018  Composite_act2018  \\\n",
       "count     51.000000      51.000000              51.000000          51.000000   \n",
       "mean     557.254902    1124.666667              61.647059          21.486275   \n",
       "std       48.887562      93.867069              34.080976           2.106278   \n",
       "min      480.000000     977.000000               7.000000          17.700000   \n",
       "25%      521.500000    1062.500000              28.500000          19.950000   \n",
       "50%      547.000000    1099.000000              66.000000          21.300000   \n",
       "75%      600.500000    1220.000000             100.000000          23.550000   \n",
       "max      655.000000    1298.000000             100.000000          25.600000   \n",
       "\n",
       "       English_act2018  Math_act2018  Reading_act2018  Science_act2018  \\\n",
       "count        51.000000     51.000000        51.000000        51.000000   \n",
       "mean         20.988235     21.125490        22.015686        21.345098   \n",
       "std           2.446356      2.035765         2.167245         1.870114   \n",
       "min          16.600000     17.800000        18.000000        17.900000   \n",
       "25%          19.100000     19.400000        20.450000        19.850000   \n",
       "50%          20.200000     20.700000        21.600000        21.100000   \n",
       "75%          23.700000     23.150000        24.100000        23.050000   \n",
       "max          26.000000     25.200000        26.100000        24.900000   \n",
       "\n",
       "       Participation_sat2017  Evidence-Based_Reading_and_Writing_sat2017  \\\n",
       "count              51.000000                                   51.000000   \n",
       "mean               39.803922                                  569.117647   \n",
       "std                35.276632                                   45.666901   \n",
       "min                 2.000000                                  482.000000   \n",
       "25%                 4.000000                                  533.500000   \n",
       "50%                38.000000                                  559.000000   \n",
       "75%                66.000000                                  613.000000   \n",
       "max               100.000000                                  644.000000   \n",
       "\n",
       "       Math_sat2017  Total_sat2017  Participation_act2017  English_act2017  \\\n",
       "count     51.000000      51.000000              51.000000        51.000000   \n",
       "mean     556.882353    1126.098039              65.254902        20.931373   \n",
       "std       47.121395      92.494812              32.140842         2.353677   \n",
       "min      468.000000     950.000000               8.000000        16.300000   \n",
       "25%      523.500000    1055.500000              31.000000        19.000000   \n",
       "50%      548.000000    1107.000000              69.000000        20.700000   \n",
       "75%      599.000000    1212.000000             100.000000        23.300000   \n",
       "max      651.000000    1295.000000             100.000000        25.500000   \n",
       "\n",
       "       Math_act2017  Reading_act2017  Science_act2017  Composite_act2017  \n",
       "count     51.000000        51.000000        51.000000          51.000000  \n",
       "mean      21.182353        22.013725        21.450980          21.519608  \n",
       "std        1.981989         2.067271         1.739353           2.020695  \n",
       "min       18.000000        18.100000        18.200000          17.800000  \n",
       "25%       19.400000        20.450000        19.950000          19.800000  \n",
       "50%       20.900000        21.800000        21.300000          21.400000  \n",
       "75%       23.100000        24.150000        23.200000          23.600000  \n",
       "max       25.300000        26.000000        24.900000          25.500000  "
      ]
     },
     "execution_count": 79,
     "metadata": {},
     "output_type": "execute_result"
    }
   ],
   "source": [
    "final.describe()"
   ]
  },
  {
   "cell_type": "markdown",
   "metadata": {
    "slideshow": {
     "slide_type": "skip"
    }
   },
   "source": [
    "Answers:\n",
    "#### 2018 Data\n",
    "\n",
    "1. Participation_sat2018 : Since the mean (46.6) is below the median, (52.0) the distribution is left-skewed with an inter-quartile range(IQR) of 75 - which is a fairly wide range. \n",
    "\n",
    "2. Evidence-Based_Reading_and_Writing_sat2018 : With the mean (567) above the median, (552.0) the distribution is right-skewed with an IQR of of 81.\n",
    "\n",
    "3. Math_sat2018 : The distribution is right skewed as the mean (557) is greater than the median (547) with an IQR of 79\n",
    "\n",
    "4. Total_sat2018 : The distribution is right skewed as the mean (1125) is more than the median (1099) with an IQR of 157.5\n",
    "\n",
    "5. Participation_act2018 : The distribution is left skewed as the mean (61.5) is less than the median (66) with an IQR of 71.5\n",
    "\n",
    "6. Composite_act2018 : The distribution is right skewed as the mean (21.49) is more than the median (21.3) with an IQR of 3.6\n",
    "\n",
    "7. English_act2018 : The distribution is right skewed as the mean (20.99) is more than the median (20.2) with an IQR of 4.6\n",
    "\n",
    "8. Math_act2018 : The distribution is right skewed as the mean (21.125) is more than the median (20.7) with an IQR of 3.75\n",
    "\n",
    "9. Reading_act2018 : The distribution is right skewed as the mean (22.01) is more than the median (21.6) with an IQR of 3.65\n",
    "\n",
    "10. Science_act2018 : The distribution is right skewed as the mean (21.35) is more than the median (21.1) with an IQR of 3.2\n",
    "\n",
    "-----\n",
    "#### 2017 Data\n",
    "\n",
    "\n",
    "1. Participation_sat2017 : Since the mean (39.8) is above the median, (38.0) the distribution is left-skewed with an inter-quartile range(IQR) of 62. \n",
    "\n",
    "2. Evidence-Based_Reading_and_Writing_sat2017 : With the mean (569) above the median, (559.0) the distribution is right-skewed with an IQR of of 79.5.\n",
    "\n",
    "3. Math_sat2017 : The distribution is right skewed as the mean (556.9) is greater than the median (548) with an IQR of 79\n",
    "\n",
    "4. Total_sat2017: The distribution is right skewed as the mean (1126) is more than the median (1107) with an IQR of 156.5\n",
    "\n",
    "5. Participation_act2017 : The distribution is left skewed as the mean (65.25) is less than the median (69) with an IQR of 69\n",
    "\n",
    "6. Composite_act2017 : The distribution is right skewed as the mean (21.51) is more than the median (21.4) with an IQR of 3.8\n",
    "\n",
    "7. English_act2017 : The distribution is right skewed as the mean (20.93) is more than the median (20.7) with an IQR of 4.3\n",
    "\n",
    "8. Math_act2017 : The distribution is right skewed as the mean (21.18) is more than the median (20.9) with an IQR of 3.77\n",
    "\n",
    "9. Reading_act2017 : The distribution is right skewed as the mean (22.01) is more than the median (21.8) with an IQR of 3.7\n",
    "\n",
    "10. Science_act2017 : The distribution is left skewed as the mean (21.04) is less than the median (21.3) with an IQR of 2.85\n"
   ]
  },
  {
   "cell_type": "markdown",
   "metadata": {
    "slideshow": {
     "slide_type": "skip"
    }
   },
   "source": [
    "#### We generally assuming that data we sample from a population will be normally distributed. Do we observe this trend?"
   ]
  },
  {
   "cell_type": "markdown",
   "metadata": {
    "slideshow": {
     "slide_type": "skip"
    }
   },
   "source": [
    "Answer:\n",
    "\n",
    "Yes, it follows an approximately normal distribution with a skew due to the central limit theorem. However, the samples that are used to generate the distribution do not come from random sampling as they are means of various state population of "
   ]
  },
  {
   "cell_type": "markdown",
   "metadata": {
    "slideshow": {
     "slide_type": "skip"
    }
   },
   "source": [
    "Does This Assumption Hold for:\n",
    "    - Math\n",
    "    - Reading\n",
    "    - Rates\n",
    "Explain your answers for each distribution and how you think this will affect estimates made from these data."
   ]
  },
  {
   "cell_type": "markdown",
   "metadata": {
    "slideshow": {
     "slide_type": "skip"
    }
   },
   "source": [
    "Answer:\n",
    "\n",
    "For Math, Reading and Rates, due to the skew, there is already an inherent uneven distribution of data. This may impact how we assign likelihood of occurances of events from the various random variables.\n",
    "\n",
    "An example would be in the case of the 2017 SAT participation rates, states that have more than 90% will tend to cause the distribution to skew causing states with <10% participation to be less pronounced. It could be that there are a handful of states with >80% while a number of states are <20% participation."
   ]
  },
  {
   "cell_type": "markdown",
   "metadata": {
    "slideshow": {
     "slide_type": "skip"
    }
   },
   "source": [
    "#### Estimate Limits of Data\n",
    "\n",
    "Suppose we only seek to understand the relationship between SAT and ACT participation rates in 2017. \n",
    "\n",
    "##### Does it make sense to conduct statistical inference given these data specifically? \n",
    "\n",
    "Why or why not?\n",
    "\n",
    "*(think about granularity, aggregation, the relationships between populations size & rates...consider the actually populations these data describe in answering this question)*"
   ]
  },
  {
   "cell_type": "markdown",
   "metadata": {
    "slideshow": {
     "slide_type": "skip"
    }
   },
   "source": [
    "Answer:\n",
    "\n",
    "No, the data is not normalised to the various student populations in each state. For example, states with a larger population may tend to have a more normal distribution of scores, of which the mean value is reported upwards. Whereas rural states, with their smaller population and, in some cases, lower participation rates may have skewed distributions that are also reported upwards. The aggregation of all the population means without accounting for population size will not make for a fair basis of comparison.\n"
   ]
  },
  {
   "cell_type": "markdown",
   "metadata": {
    "slideshow": {
     "slide_type": "skip"
    }
   },
   "source": [
    "##### Is it appropriate to compare *these* specific SAT and ACT math scores? \n",
    "\n",
    "Why or why not?"
   ]
  },
  {
   "cell_type": "markdown",
   "metadata": {
    "slideshow": {
     "slide_type": "skip"
    }
   },
   "source": [
    "Answer:\n",
    "\n",
    "SAT and ACT scores when compared across the two test standards, have to be normalised first as the SAT scores are on a scale of 1 to 800 when compared to ACT scores which are on a scale of 1 to 36. At the same time, even with normalisation, there is a caveat that the individual sub-components with the SAT and ACT differ due to different test structures."
   ]
  },
  {
   "cell_type": "markdown",
   "metadata": {
    "slideshow": {
     "slide_type": "skip"
    }
   },
   "source": [
    "#### Statistical Evaluation of Distributions \n",
    "\n",
    "**If you feel it's appropriate**, using methods we discussed in class, run hypothesis tests to compare variables of interest in our dataset. "
   ]
  },
  {
   "cell_type": "code",
   "execution_count": 80,
   "metadata": {
    "slideshow": {
     "slide_type": "skip"
    }
   },
   "outputs": [
    {
     "data": {
      "text/plain": [
       "(-2.121813902847538, 0.0363243998291335)"
      ]
     },
     "execution_count": 80,
     "metadata": {},
     "output_type": "execute_result"
    }
   ],
   "source": [
    "# We want to check if ACT/SAT participation have differences in performance. (Hypothesis)\n",
    "# H_0 both SAT/ACT participation %'s have no difference in performance\n",
    "# take alpha as 0.05\n",
    "# Code:\n",
    "\n",
    "# import scipy stats\n",
    "import scipy.stats as stats\n",
    "\n",
    "# calculate sample means and standard distribution\n",
    "mean_sat = np.mean(final['Participation_sat2018'])\n",
    "mean_act = np.mean(final['Participation_act2018'])\n",
    "sd_a = np.std(final['Participation_sat2018'])\n",
    "sd_b = np.std(final['Participation_act2018'])\n",
    "\n",
    "t_stat, pvalue = stats.ttest_ind_from_stats(mean_sat, sd_a, 51, mean_act, sd_b, 51)\n",
    "\n",
    "t_stat, pvalue"
   ]
  },
  {
   "cell_type": "markdown",
   "metadata": {
    "slideshow": {
     "slide_type": "skip"
    }
   },
   "source": [
    "Since p-value < alpha(0.05) we can observe that ACT and SAT participation rates are different."
   ]
  },
  {
   "cell_type": "markdown",
   "metadata": {
    "slideshow": {
     "slide_type": "slide"
    }
   },
   "source": [
    "## Outside Research"
   ]
  },
  {
   "cell_type": "markdown",
   "metadata": {
    "slideshow": {
     "slide_type": "skip"
    }
   },
   "source": [
    "Based upon your observations, choose **three** states that demonstrate interesting trends in their SAT and/or ACT participation rates. Spend some time doing outside research on state policies that might influence these rates, and summarize your findings below. **Feel free to go back and create new plots that highlight these states of interest**. If you bring in any outside tables or charts, make sure you are explicit about having borrowed them. If you quote any text, make sure that it renders as being quoted. (Make sure that you cite your sources -- check with you local instructor for citation preferences)."
   ]
  },
  {
   "cell_type": "markdown",
   "metadata": {
    "slideshow": {
     "slide_type": "slide"
    }
   },
   "source": [
    "We have thus uncovered key points from the visualisations and prior analyses:\n",
    "1. The ACT has a higher median participation rate when compared to the SAT.\n",
    "2. Florida and Georgia which had >50% in both tests showed a YoY increase of SAT and a decrease in ACT participation rates.\n",
    "3. Illinois had a significant increase (tenfold) in SAT participation."
   ]
  },
  {
   "cell_type": "markdown",
   "metadata": {
    "slideshow": {
     "slide_type": "slide"
    }
   },
   "source": [
    "###  State Policies on SAT/ACT and Impact to Participation\n",
    "\n",
    "In this section, we will assess if state-level policies on SAT/ACT preferences as part of high school requirements have an impact on overall participation rates. The image below provides an overview of the 2018 landscape of the SAT/ACT requirements for each state[<sup>5</sup>](#fn5).\n",
    "\n",
    "<img src=\"./img/subsidy.png\" />"
   ]
  },
  {
   "cell_type": "code",
   "execution_count": 81,
   "metadata": {
    "slideshow": {
     "slide_type": "skip"
    }
   },
   "outputs": [],
   "source": [
    "# Load in list of states that require SAT/ACT (as of 2017)\n",
    "# sourced from https://magoosh.com/hs/act/2017/states-that-require-the-act-or-sat/\n",
    "test_requirements = pd.read_csv('./data/state_requirements.csv')"
   ]
  },
  {
   "cell_type": "code",
   "execution_count": 82,
   "metadata": {
    "slideshow": {
     "slide_type": "skip"
    }
   },
   "outputs": [
    {
     "data": {
      "text/html": [
       "<div>\n",
       "<style scoped>\n",
       "    .dataframe tbody tr th:only-of-type {\n",
       "        vertical-align: middle;\n",
       "    }\n",
       "\n",
       "    .dataframe tbody tr th {\n",
       "        vertical-align: top;\n",
       "    }\n",
       "\n",
       "    .dataframe thead th {\n",
       "        text-align: right;\n",
       "    }\n",
       "</style>\n",
       "<table border=\"1\" class=\"dataframe\">\n",
       "  <thead>\n",
       "    <tr style=\"text-align: right;\">\n",
       "      <th></th>\n",
       "      <th>STATE</th>\n",
       "      <th>REQUIREMENT</th>\n",
       "    </tr>\n",
       "  </thead>\n",
       "  <tbody>\n",
       "    <tr>\n",
       "      <th>0</th>\n",
       "      <td>Alabama</td>\n",
       "      <td>ACT</td>\n",
       "    </tr>\n",
       "    <tr>\n",
       "      <th>1</th>\n",
       "      <td>Colorado</td>\n",
       "      <td>SAT</td>\n",
       "    </tr>\n",
       "    <tr>\n",
       "      <th>2</th>\n",
       "      <td>Connecticut</td>\n",
       "      <td>SAT</td>\n",
       "    </tr>\n",
       "  </tbody>\n",
       "</table>\n",
       "</div>"
      ],
      "text/plain": [
       "         STATE REQUIREMENT\n",
       "0      Alabama         ACT\n",
       "1     Colorado         SAT\n",
       "2  Connecticut         SAT"
      ]
     },
     "execution_count": 82,
     "metadata": {},
     "output_type": "execute_result"
    }
   ],
   "source": [
    "test_requirements.head(3)"
   ]
  },
  {
   "cell_type": "code",
   "execution_count": 83,
   "metadata": {
    "slideshow": {
     "slide_type": "skip"
    }
   },
   "outputs": [],
   "source": [
    "# subset final dataframe to only show participation rates for ACT / SAT\n",
    "final_subset = final[['State_sat2018','Participation_sat2018','Participation_act2018','Participation_sat2017','Participation_act2017']].copy()\n",
    "# rename state column\n",
    "final_subset.rename(index=str, columns={\"State_sat2018\": \"state\"},inplace=True)\n",
    "# match state column name in requirements df\n",
    "test_requirements.rename(str.lower,axis='columns',inplace=True)"
   ]
  },
  {
   "cell_type": "code",
   "execution_count": 85,
   "metadata": {
    "slideshow": {
     "slide_type": "skip"
    }
   },
   "outputs": [
    {
     "data": {
      "text/html": [
       "<div>\n",
       "<style scoped>\n",
       "    .dataframe tbody tr th:only-of-type {\n",
       "        vertical-align: middle;\n",
       "    }\n",
       "\n",
       "    .dataframe tbody tr th {\n",
       "        vertical-align: top;\n",
       "    }\n",
       "\n",
       "    .dataframe thead th {\n",
       "        text-align: right;\n",
       "    }\n",
       "</style>\n",
       "<table border=\"1\" class=\"dataframe\">\n",
       "  <thead>\n",
       "    <tr style=\"text-align: right;\">\n",
       "      <th></th>\n",
       "      <th>state</th>\n",
       "      <th>Participation_sat2018</th>\n",
       "      <th>Participation_act2018</th>\n",
       "      <th>Participation_sat2017</th>\n",
       "      <th>Participation_act2017</th>\n",
       "      <th>requirement</th>\n",
       "    </tr>\n",
       "  </thead>\n",
       "  <tbody>\n",
       "    <tr>\n",
       "      <th>0</th>\n",
       "      <td>Alabama</td>\n",
       "      <td>6</td>\n",
       "      <td>100</td>\n",
       "      <td>5</td>\n",
       "      <td>100</td>\n",
       "      <td>ACT</td>\n",
       "    </tr>\n",
       "    <tr>\n",
       "      <th>1</th>\n",
       "      <td>Alaska</td>\n",
       "      <td>43</td>\n",
       "      <td>33</td>\n",
       "      <td>38</td>\n",
       "      <td>65</td>\n",
       "      <td>NaN</td>\n",
       "    </tr>\n",
       "    <tr>\n",
       "      <th>2</th>\n",
       "      <td>Arizona</td>\n",
       "      <td>29</td>\n",
       "      <td>66</td>\n",
       "      <td>30</td>\n",
       "      <td>62</td>\n",
       "      <td>NaN</td>\n",
       "    </tr>\n",
       "    <tr>\n",
       "      <th>3</th>\n",
       "      <td>Arkansas</td>\n",
       "      <td>5</td>\n",
       "      <td>100</td>\n",
       "      <td>3</td>\n",
       "      <td>100</td>\n",
       "      <td>NaN</td>\n",
       "    </tr>\n",
       "    <tr>\n",
       "      <th>4</th>\n",
       "      <td>California</td>\n",
       "      <td>60</td>\n",
       "      <td>27</td>\n",
       "      <td>53</td>\n",
       "      <td>31</td>\n",
       "      <td>NaN</td>\n",
       "    </tr>\n",
       "  </tbody>\n",
       "</table>\n",
       "</div>"
      ],
      "text/plain": [
       "        state  Participation_sat2018  Participation_act2018  \\\n",
       "0     Alabama                      6                    100   \n",
       "1      Alaska                     43                     33   \n",
       "2     Arizona                     29                     66   \n",
       "3    Arkansas                      5                    100   \n",
       "4  California                     60                     27   \n",
       "\n",
       "   Participation_sat2017  Participation_act2017 requirement  \n",
       "0                      5                    100         ACT  \n",
       "1                     38                     65         NaN  \n",
       "2                     30                     62         NaN  \n",
       "3                      3                    100         NaN  \n",
       "4                     53                     31         NaN  "
      ]
     },
     "execution_count": 85,
     "metadata": {},
     "output_type": "execute_result"
    }
   ],
   "source": [
    "#merge the two DFs\n",
    "merged_requirements = final_subset.merge(test_requirements,on='state',how='left')\n",
    "merged_requirements.head()"
   ]
  },
  {
   "cell_type": "code",
   "execution_count": 86,
   "metadata": {
    "slideshow": {
     "slide_type": "skip"
    }
   },
   "outputs": [
    {
     "name": "stdout",
     "output_type": "stream",
     "text": [
      "<class 'pandas.core.frame.DataFrame'>\n",
      "Int64Index: 51 entries, 0 to 50\n",
      "Data columns (total 6 columns):\n",
      "state                    51 non-null object\n",
      "Participation_sat2018    51 non-null int64\n",
      "Participation_act2018    51 non-null int64\n",
      "Participation_sat2017    51 non-null int64\n",
      "Participation_act2017    51 non-null int64\n",
      "requirement              25 non-null object\n",
      "dtypes: int64(4), object(2)\n",
      "memory usage: 2.8+ KB\n"
     ]
    }
   ],
   "source": [
    "# check types\n",
    "merged_requirements.info()"
   ]
  },
  {
   "cell_type": "code",
   "execution_count": 87,
   "metadata": {
    "slideshow": {
     "slide_type": "skip"
    }
   },
   "outputs": [
    {
     "data": {
      "text/plain": [
       "array(['ACT', nan, 'SAT', 'EITHER'], dtype=object)"
      ]
     },
     "execution_count": 87,
     "metadata": {},
     "output_type": "execute_result"
    }
   ],
   "source": [
    "# check for what requirements there are\n",
    "merged_requirements.requirement.unique()"
   ]
  },
  {
   "cell_type": "code",
   "execution_count": 88,
   "metadata": {
    "scrolled": false,
    "slideshow": {
     "slide_type": "skip"
    }
   },
   "outputs": [],
   "source": [
    "# convert NaN to 'NA'\n",
    "merged_requirements['requirement']=merged_requirements.requirement.map(lambda x: 'NA' if str(x) == 'nan' else x)"
   ]
  },
  {
   "cell_type": "code",
   "execution_count": 89,
   "metadata": {
    "slideshow": {
     "slide_type": "subslide"
    }
   },
   "outputs": [
    {
     "data": {
      "text/plain": [
       "<matplotlib.axes._subplots.AxesSubplot at 0x1a17f26908>"
      ]
     },
     "execution_count": 89,
     "metadata": {},
     "output_type": "execute_result"
    },
    {
     "data": {
      "image/png": "[encoded data removed]",
      "text/plain": [
       "<Figure size 432x288 with 1 Axes>"
      ]
     },
     "metadata": {
      "needs_background": "light"
     },
     "output_type": "display_data"
    }
   ],
   "source": [
    "# Count of Requirements\n",
    "merged_requirements.groupby('requirement').state.count().sort_values().plot.barh()"
   ]
  },
  {
   "cell_type": "markdown",
   "metadata": {
    "slideshow": {
     "slide_type": "slide"
    }
   },
   "source": [
    "#### State Policies on SAT/ACT and impact to Participation %"
   ]
  },
  {
   "cell_type": "code",
   "execution_count": 90,
   "metadata": {
    "slideshow": {
     "slide_type": "slide"
    }
   },
   "outputs": [
    {
     "data": {
      "text/plain": [
       "Text(0, 0.5, 'ACT Participation %')"
      ]
     },
     "execution_count": 90,
     "metadata": {},
     "output_type": "execute_result"
    },
    {
     "data": {
      "image/png": "[encoded data removed]",
      "text/plain": [
       "<Figure size 864x360 with 2 Axes>"
      ]
     },
     "metadata": {
      "needs_background": "light"
     },
     "output_type": "display_data"
    }
   ],
   "source": [
    "f, (ax1, ax2) = plt.subplots(1, 2,figsize=(12,5))\n",
    "sns.boxplot(x=\"requirement\",y=\"Participation_sat2018\",data=merged_requirements,ax=ax1)\n",
    "sns.boxplot(x=\"requirement\",y=\"Participation_act2018\",data=merged_requirements,ax=ax2)\n",
    "ax1.set_xlabel('State Requirements')\n",
    "ax2.set_xlabel('State Requirements')\n",
    "ax1.set_ylabel(\"SAT Participation %\")\n",
    "ax2.set_ylabel(\"ACT Participation %\")\n"
   ]
  },
  {
   "cell_type": "markdown",
   "metadata": {
    "slideshow": {
     "slide_type": "subslide"
    }
   },
   "source": [
    "In states where SAT is mandatory, the participation rate is close to 100%. At the same time, for states that do not have either SAT or ACT mandatory, there is a higher tendency for students to prefer SATs over ACTs. "
   ]
  },
  {
   "cell_type": "code",
   "execution_count": 91,
   "metadata": {
    "slideshow": {
     "slide_type": "slide"
    }
   },
   "outputs": [
    {
     "data": {
      "text/plain": [
       "Text(0.0, 1.0, 'SAT Year on Year Differences by State (Top 5)')"
      ]
     },
     "execution_count": 91,
     "metadata": {},
     "output_type": "execute_result"
    },
    {
     "data": {
      "image/png": "[encoded data removed]",
      "text/plain": [
       "<Figure size 432x288 with 1 Axes>"
      ]
     },
     "metadata": {
      "needs_background": "light"
     },
     "output_type": "display_data"
    }
   ],
   "source": [
    "# add in addtional columns to illustration percentage difference YoY\n",
    "def pct_diff_sat(row):\n",
    "    row['sat_pct_diff'] = round(((row['Participation_sat2018']-row['Participation_sat2017'])\\\n",
    "                        / row['Participation_sat2017'] * 100),2) \n",
    "    return row\n",
    "\n",
    "filter_chart = merged_requirements.apply(pct_diff_sat,axis=1).sort_values(by=['sat_pct_diff'],ascending=False).head(5)\n",
    "barplot = plt.bar(x=filter_chart['state'],height=filter_chart['sat_pct_diff'], color = 'lightgrey')\n",
    "barplot[0].set_color('darkblue')\n",
    "plt.xlabel('States', fontsize = 10)\n",
    "plt.ylabel('SAT YoY % Difference', fontsize = 10)\n",
    "plt.title('SAT Year on Year Differences by State (Top 5)',loc='left')\n",
    "\n"
   ]
  },
  {
   "cell_type": "markdown",
   "metadata": {
    "slideshow": {
     "slide_type": "subslide"
    }
   },
   "source": [
    "States such as Illinois, Colorado and West Virginia saw a marked rise in SAT participation with illinois having a 10 fold increase due to state-level policies that saw SAT being the college exam standard for all public schools in the state[<sup>5<sup>](#fn5). "
   ]
  },
  {
   "cell_type": "markdown",
   "metadata": {
    "slideshow": {
     "slide_type": "slide"
    }
   },
   "source": [
    "### Reducing Barriers to Entry \n",
    "\n",
    "In the case of [Florida](#florida) we can see that even though SAT/ACT is not an in-state requirement, we see a 7.65% increase in SATs while ACT participation decreased by 9.65%. Again, subsidies in the form of SAT 'school days' had a large influence on this increase[<sup>6,<sup>](#fn6)[<sup>7<sup>](#fn7).\n"
   ]
  },
  {
   "cell_type": "code",
   "execution_count": 92,
   "metadata": {
    "slideshow": {
     "slide_type": "subslide"
    }
   },
   "outputs": [
    {
     "data": {
      "text/html": [
       "<div>\n",
       "<style scoped>\n",
       "    .dataframe tbody tr th:only-of-type {\n",
       "        vertical-align: middle;\n",
       "    }\n",
       "\n",
       "    .dataframe tbody tr th {\n",
       "        vertical-align: top;\n",
       "    }\n",
       "\n",
       "    .dataframe thead th {\n",
       "        text-align: right;\n",
       "    }\n",
       "</style>\n",
       "<table border=\"1\" class=\"dataframe\">\n",
       "  <thead>\n",
       "    <tr style=\"text-align: right;\">\n",
       "      <th></th>\n",
       "      <th>state</th>\n",
       "      <th>Participation_sat2018</th>\n",
       "      <th>Participation_act2018</th>\n",
       "      <th>Participation_sat2017</th>\n",
       "      <th>Participation_act2017</th>\n",
       "      <th>requirement</th>\n",
       "    </tr>\n",
       "  </thead>\n",
       "  <tbody>\n",
       "    <tr>\n",
       "      <th>9</th>\n",
       "      <td>Florida</td>\n",
       "      <td>97</td>\n",
       "      <td>66</td>\n",
       "      <td>83</td>\n",
       "      <td>73</td>\n",
       "      <td>NA</td>\n",
       "    </tr>\n",
       "    <tr>\n",
       "      <th>10</th>\n",
       "      <td>Georgia</td>\n",
       "      <td>70</td>\n",
       "      <td>53</td>\n",
       "      <td>61</td>\n",
       "      <td>55</td>\n",
       "      <td>NA</td>\n",
       "    </tr>\n",
       "    <tr>\n",
       "      <th>11</th>\n",
       "      <td>Hawaii</td>\n",
       "      <td>56</td>\n",
       "      <td>89</td>\n",
       "      <td>55</td>\n",
       "      <td>90</td>\n",
       "      <td>ACT</td>\n",
       "    </tr>\n",
       "  </tbody>\n",
       "</table>\n",
       "</div>"
      ],
      "text/plain": [
       "      state  Participation_sat2018  Participation_act2018  \\\n",
       "9   Florida                     97                     66   \n",
       "10  Georgia                     70                     53   \n",
       "11   Hawaii                     56                     89   \n",
       "\n",
       "    Participation_sat2017  Participation_act2017 requirement  \n",
       "9                      83                     73          NA  \n",
       "10                     61                     55          NA  \n",
       "11                     55                     90         ACT  "
      ]
     },
     "execution_count": 92,
     "metadata": {},
     "output_type": "execute_result"
    }
   ],
   "source": [
    "final_participation = merged_requirements[(merged_requirements['Participation_act2018']  > 50) & (merged_requirements['Participation_sat2018'] > 50) \\\n",
    "                                & (merged_requirements['Participation_act2017']  > 50) & (merged_requirements['Participation_sat2017'] > 50)]\\\n",
    "                            .loc[:,merged_requirements.columns.to_series().str.contains('Participation|state|requirement')].copy()\n",
    "\n",
    "final_participation"
   ]
  },
  {
   "cell_type": "code",
   "execution_count": 93,
   "metadata": {
    "slideshow": {
     "slide_type": "skip"
    }
   },
   "outputs": [
    {
     "data": {
      "text/plain": [
       "Text(0.0, 1.0, 'SAT Year on Year Differences by State (Top 5)')"
      ]
     },
     "execution_count": 93,
     "metadata": {},
     "output_type": "execute_result"
    },
    {
     "data": {
      "image/png": "[encoded data removed]",
      "text/plain": [
       "<Figure size 432x288 with 1 Axes>"
      ]
     },
     "metadata": {
      "needs_background": "light"
     },
     "output_type": "display_data"
    }
   ],
   "source": [
    "filter_chart = merged_requirements.apply(pct_diff_sat,axis=1).sort_values(by=['sat_pct_diff'],ascending=True).head(3)\n",
    "\n",
    "barplot = plt.bar(x=filter_chart['state'],height=filter_chart['sat_pct_diff'], color = 'lightgrey')\n",
    "barplot[0].set_color('darkblue')\n",
    "plt.xlabel('States', fontsize = 10)\n",
    "plt.ylabel('SAT YoY % Difference', fontsize = 10)\n",
    "plt.title('SAT Year on Year Differences by State (Top 5)',loc='left')"
   ]
  },
  {
   "cell_type": "markdown",
   "metadata": {
    "slideshow": {
     "slide_type": "skip"
    }
   },
   "source": [
    "On the other hand, Nevada, with ACT as its mandatory had the largest decrease in SAT participation at about 12% from the previous year."
   ]
  },
  {
   "cell_type": "markdown",
   "metadata": {
    "slideshow": {
     "slide_type": "slide"
    }
   },
   "source": [
    "### Trends in ACT Performance\n"
   ]
  },
  {
   "cell_type": "code",
   "execution_count": 94,
   "metadata": {
    "slideshow": {
     "slide_type": "subslide"
    }
   },
   "outputs": [
    {
     "data": {
      "text/plain": [
       "Text(0.0, 1.0, 'ACT Year on Year Differences by State (Top 5)')"
      ]
     },
     "execution_count": 94,
     "metadata": {},
     "output_type": "execute_result"
    },
    {
     "data": {
      "image/png": "[encoded data removed]",
      "text/plain": [
       "<Figure size 432x288 with 1 Axes>"
      ]
     },
     "metadata": {
      "needs_background": "light"
     },
     "output_type": "display_data"
    }
   ],
   "source": [
    "def pct_diff_act(row):    \n",
    "    row['act_pct_diff'] = round(((row['Participation_act2018']-row['Participation_act2017'])\\\n",
    "                        / row['Participation_act2017'] * 100),2)\n",
    "    return row\n",
    "filter_chart = merged_requirements.apply(pct_diff_act,axis=1).sort_values(by=['act_pct_diff'],ascending=False).head(5)\n",
    "barplot = plt.bar(x=filter_chart['state'],height=filter_chart['act_pct_diff'], color = 'lightgrey')\n",
    "barplot[0].set_color('darkblue')\n",
    "plt.xlabel('States', fontsize = 10)\n",
    "plt.ylabel('ACT YoY % Difference', fontsize = 10)\n",
    "plt.title('ACT Year on Year Differences by State (Top 5)',loc='left')"
   ]
  },
  {
   "cell_type": "markdown",
   "metadata": {
    "slideshow": {
     "slide_type": "subslide"
    }
   },
   "source": [
    "Ohio saw the largest trends in ACT participation, but not without a huge drop in ACT scores. Again, the large increase in ACT participation was driven largely due to state policies that paid for the ACT in 2018 for the first time. [<sup>8<sup>](#fn8) \n"
   ]
  },
  {
   "cell_type": "markdown",
   "metadata": {
    "slideshow": {
     "slide_type": "slide"
    }
   },
   "source": [
    "## Conclusions and Recommendations"
   ]
  },
  {
   "cell_type": "markdown",
   "metadata": {
    "slideshow": {
     "slide_type": "skip"
    }
   },
   "source": [
    "Based on your exploration of the data, what are you key takeaways and recommendations? Choose one state with a lower participation rate and provide a suggestion for how the College Board might increase participation amongst graduating seniors in this state. Are there additional data you desire that would better inform your investigations?"
   ]
  },
  {
   "cell_type": "markdown",
   "metadata": {
    "slideshow": {
     "slide_type": "subslide"
    }
   },
   "source": [
    "### Key Takeaways\n",
    "\n",
    "Lowering the barriers to accessibility for the SAT has shown a marked improvement in SAT participation rates for states that previously did not have it. The waiving of SAT fees is one such example of increasing participation. Furthermore coupled with SAT school days where tests are administered during curriculum time as part of schools' assessment schedules, participation also improved.\n",
    "\n",
    "Looking at Hawaii, with a participation rate of 56% in the SATs and 89% in the ACTs, the SAT board can look into enhancing existing SAT preparation tools that will cater to remote learning requirements. Intervention via enhancing PSAT (Preliminary SAT) participation for prospective test takers or reducing barriers to entry. Access to SAT training/practice tests before the graduating year can be largely discounted for students living in areas that live in ACT-dominant states. \n",
    "\n",
    "For example, if a student has taken a PSAT or discounted test within the last year of the SAT test date - their actual SAT test can be discounted as well. This has a twofold objective of firstly improving visibility of SAT as an option for high-schoolers looking for alternative college readiness tests and secondly reducing the uncertainty and stress that comes with taking a national-level test.\n",
    "\n",
    " "
   ]
  },
  {
   "cell_type": "markdown",
   "metadata": {
    "slideshow": {
     "slide_type": "subslide"
    }
   },
   "source": [
    "### Additional Data\n",
    "\n",
    "By including socioeconomic data within SAT test takers population, as well as geographical data concerning test takers/test centers, we can look at bridging existing gaps in areas where SAT uptake is lower. Furthermore, we can cross reference this with similar data from ACT test takers to arrive at a stronger understanding of why some tests are preferred over the other."
   ]
  },
  {
   "cell_type": "markdown",
   "metadata": {
    "slideshow": {
     "slide_type": "slide"
    }
   },
   "source": [
    "## References\n",
    "<span id=\"fn1\">1. https://collegereadiness.collegeboard.org/pdf/test-specifications-redesigned-sat-1.pdf</span> <br> \n",
    "<span id=\"fn2\">2. https://reports.collegeboard.org/sat-suite-program-results/class-2018-results </span> <br>\n",
    "<span id=\"fn3\">3. https://www.insidehighered.com/admissions/article/2018/07/16/more-colleges-drop-sat-writing-test-all-eyes-are-california <br>\n",
    "<span id=\"fn4\">4. https://blogs.edweek.org/edweek/high_school_and_beyond/2018/10/more_than_2_million_students_take_the_sat.html <br>\n",
    "<span id=\"fn5\">5. Image sourced from https://magoosh.com/hs/act/2017/states-that-require-the-act-or-sat/ </span><br>\n",
    "<span id=\"fn6\">6. https://reports.collegeboard.org/archive/sat-suite-program-results/2017/class-2017-results </span> <br>\n",
    "<span id=\"fn7\">7. https://www.orlandosentinel.com/news/education/os-ne-act-sat-florida-scores-20181024-story.html </span><br>\n",
    "<span id=\"fn8\">8. https://www.daytondailynews.com/news/historically-low-act-scores-red-flag-for-our-country/djfx9Urp719WyEaMfykyxL/ </span>"
   ]
  }
 ],
 "metadata": {
  "anaconda-cloud": {},
  "celltoolbar": "Slideshow",
  "kernelspec": {
   "display_name": "Python 3",
   "language": "python",
   "name": "python3"
  },
  "language_info": {
   "codemirror_mode": {
    "name": "ipython",
    "version": 3
   },
   "file_extension": ".py",
   "mimetype": "text/x-python",
   "name": "python",
   "nbconvert_exporter": "python",
   "pygments_lexer": "ipython3",
   "version": "3.6.8"
  }
 },
 "nbformat": 4,
 "nbformat_minor": 2
}
